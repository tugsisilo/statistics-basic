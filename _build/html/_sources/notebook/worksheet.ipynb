{
  "nbformat": 4,
  "nbformat_minor": 0,
  "metadata": {
    "colab": {
      "provenance": [],
      "toc_visible": true
    },
    "kernelspec": {
      "name": "python3",
      "display_name": "Python 3"
    },
    "language_info": {
      "name": "python"
    }
  },
  "cells": [
    {
      "cell_type": "markdown",
      "source": [
        "# 演習問題"
      ],
      "metadata": {
        "id": "APgNHIzlKRFc"
      }
    },
    {
      "cell_type": "markdown",
      "source": [
        "## はじめに"
      ],
      "metadata": {
        "id": "x4PcqowXsS6w"
      }
    },
    {
      "cell_type": "markdown",
      "metadata": {
        "id": "o21klyTwbPn8"
      },
      "source": [
        "### 開始前に行うこと（重要）"
      ]
    },
    {
      "cell_type": "markdown",
      "metadata": {
        "id": "uxGAUVjHbb4E"
      },
      "source": [
        "まず，Chrome 等のブラウザを利用して，本教材の URL にアクセスし，画面の指示に従い Google アカウントにログインしてください．その後，ブラウザ表示画面左上の「ファイル」をクリックし，さらにポップアップで出てくる項目から「ドライブにコピーを保存」をクリックしてください．これにより，本教材のコピーが自分のGoogleドライブに保存され，自分で書いたプログラムを実行できるようになります．\n",
        "\n",
        "また，多くのセルが非表示になっていると思われるため，同じくブラウザ表示画面上の「表示」をクリックし，さらにその項目から「セクションを展開」をクリックし，非表示のセルを表示させてください．"
      ]
    },
    {
      "cell_type": "markdown",
      "source": [
        "```{hint}\n",
        "各ページの上部にロケットのアイコン <i class=\"fa fa-rocket\" aria-hidden=\"true\"></i> があるのでこれをクリックして各ページのファイルを Google Colaboratory 上で開いて利用してください．\n",
        "```"
      ],
      "metadata": {
        "id": "w0Zh3zrKwm-N"
      }
    },
    {
      "cell_type": "markdown",
      "metadata": {
        "id": "Ob1MHdrxL3CB"
      },
      "source": [
        "### ライブラリのインポート"
      ]
    },
    {
      "cell_type": "markdown",
      "metadata": {
        "id": "lLVWXcwCL9Hl"
      },
      "source": [
        "利用するライブラリをまとめてインポートしておきましょう．"
      ]
    },
    {
      "cell_type": "code",
      "execution_count": null,
      "metadata": {
        "id": "Tjk2V4HrTGS6"
      },
      "outputs": [],
      "source": [
        "import numpy as np\n",
        "import pandas as pd\n",
        "import matplotlib.pyplot as plt\n",
        "%matplotlib inline\n",
        "import seaborn as sns\n",
        "sns.set()\n",
        "from sklearn.linear_model import LinearRegression"
      ]
    },
    {
      "cell_type": "markdown",
      "source": [
        "### 例題と解答例"
      ],
      "metadata": {
        "id": "So-GKOQWrcfY"
      }
    },
    {
      "cell_type": "markdown",
      "source": [
        "以下のような問題が出ますので，問題を解決するためのコードを生成してください．"
      ],
      "metadata": {
        "id": "c1utrl-Trngu"
      }
    },
    {
      "cell_type": "markdown",
      "metadata": {
        "id": "WHw4eM8HdHHM"
      },
      "source": [
        "5人の数学のテストの点数は72, 65, 60, 81, 78だった．この時，5人の平均点，標準偏差，中央値を求めよ．"
      ]
    },
    {
      "cell_type": "code",
      "metadata": {
        "id": "NoytLETzd4a9"
      },
      "source": [
        "score_math = np.array([72, 65, 60, 81, 78])\n",
        "print(\"Average:\", np.mean(score_math))\n",
        "print(\"SD:\", np.std(score_math))\n",
        "print(\"Median:\", np.median(score_math))"
      ],
      "execution_count": null,
      "outputs": []
    },
    {
      "cell_type": "markdown",
      "source": [
        "## 問題"
      ],
      "metadata": {
        "id": "IyQlpVlgsBJP"
      }
    },
    {
      "cell_type": "markdown",
      "source": [
        "### 繰り返し処理"
      ],
      "metadata": {
        "id": "i_gL2gD7xdnq"
      }
    },
    {
      "cell_type": "markdown",
      "source": [
        "1から100までの整数を1行に1個の値が存在するように出力してください．"
      ],
      "metadata": {
        "id": "xgRv2Z5Kxh2z"
      }
    },
    {
      "cell_type": "code",
      "source": [],
      "metadata": {
        "id": "Zek_qFRNxsjI"
      },
      "execution_count": null,
      "outputs": []
    },
    {
      "cell_type": "markdown",
      "source": [
        "### ライブラリの利用"
      ],
      "metadata": {
        "id": "Okh2k5j0wY_p"
      }
    },
    {
      "cell_type": "markdown",
      "source": [
        "$log_2{10}$ を小数点以下5桁の小数で表示してください．"
      ],
      "metadata": {
        "id": "qrzwuJyLwdd6"
      }
    },
    {
      "cell_type": "code",
      "source": [],
      "metadata": {
        "id": "ayBpw7W1wsWh"
      },
      "execution_count": null,
      "outputs": []
    },
    {
      "cell_type": "markdown",
      "source": [
        "### 平均値"
      ],
      "metadata": {
        "id": "YUh7x1sixvkY"
      }
    },
    {
      "cell_type": "markdown",
      "source": [
        "5人の英語のテストの点数は28, 96, 40, 70, 52でした．このとき，5人の平均点を小数点以下1桁の値で出力してください．"
      ],
      "metadata": {
        "id": "VBx9j_Ojx4_e"
      }
    },
    {
      "cell_type": "code",
      "source": [],
      "metadata": {
        "id": "dMew_unzyFOb"
      },
      "execution_count": null,
      "outputs": []
    },
    {
      "cell_type": "markdown",
      "source": [
        "### 標準偏差"
      ],
      "metadata": {
        "id": "CGDl-7CNyF-z"
      }
    },
    {
      "cell_type": "markdown",
      "source": [
        "5人の英語のテストの点数は28, 96, 40, 70, 52でした．このとき，5人の標準偏差を小数点以下1桁の値で出力してください．"
      ],
      "metadata": {
        "id": "sqWK47F4yF-0"
      }
    },
    {
      "cell_type": "code",
      "source": [],
      "metadata": {
        "id": "7QuZxjJGyF-0"
      },
      "execution_count": null,
      "outputs": []
    },
    {
      "cell_type": "markdown",
      "source": [
        "### 欠損値を含むデータ"
      ],
      "metadata": {
        "id": "28NuH1ciyfGp"
      }
    },
    {
      "cell_type": "markdown",
      "source": [
        "5人の地理のテストの点数は79, n/a, 85, 95, n/aでした（2名は未受験）．このとき，受験者の最高点を求めてください．"
      ],
      "metadata": {
        "id": "j0nZvW0hyfGq"
      }
    },
    {
      "cell_type": "code",
      "source": [],
      "metadata": {
        "id": "yqQgZcVjyfGs"
      },
      "execution_count": null,
      "outputs": []
    },
    {
      "cell_type": "markdown",
      "source": [
        "### データフレームの生成"
      ],
      "metadata": {
        "id": "2x-a0UIYz0f_"
      }
    },
    {
      "cell_type": "markdown",
      "source": [
        "以下のようにすると iris というデータセットを `iris_dataset` に読み込むことができます．"
      ],
      "metadata": {
        "id": "rwQo60lwz4Hf"
      }
    },
    {
      "cell_type": "code",
      "source": [
        "from sklearn.datasets import load_iris\n",
        "iris_dataset = load_iris()"
      ],
      "metadata": {
        "id": "JGV5JR2zzsDV"
      },
      "execution_count": null,
      "outputs": []
    },
    {
      "cell_type": "markdown",
      "source": [
        "このデータを列名が `feature_names` となるようにデータフレームに変換して，そのデータフレームを出力してください．"
      ],
      "metadata": {
        "id": "xolsgmDc0fRS"
      }
    },
    {
      "cell_type": "code",
      "source": [],
      "metadata": {
        "id": "RfWn92En0zb5"
      },
      "execution_count": null,
      "outputs": []
    },
    {
      "cell_type": "markdown",
      "source": [
        "### 統計量の計算"
      ],
      "metadata": {
        "id": "Z6XqBx6T0z3V"
      }
    },
    {
      "cell_type": "markdown",
      "source": [
        "特徴量のうちで「sepal length (cm)」の平均値を pandas のメソッドを使って計算し，その値のみを出力してください．"
      ],
      "metadata": {
        "id": "edVQfOkB1deC"
      }
    },
    {
      "cell_type": "code",
      "source": [],
      "metadata": {
        "id": "RLLMNq2y07jb"
      },
      "execution_count": null,
      "outputs": []
    },
    {
      "cell_type": "markdown",
      "source": [
        "### 相関係数の計算"
      ],
      "metadata": {
        "id": "g-ri2QXE2BIh"
      }
    },
    {
      "cell_type": "markdown",
      "source": [
        "各特徴量の相関係数を pandas のメソッドを使って計算し，その表（データフレーム）を出力してください．"
      ],
      "metadata": {
        "id": "c0Ad6TLd2BIj"
      }
    },
    {
      "cell_type": "code",
      "source": [],
      "metadata": {
        "id": "re-jK-_C2BIl"
      },
      "execution_count": null,
      "outputs": []
    },
    {
      "cell_type": "markdown",
      "source": [
        "### 線形回帰係数の同定"
      ],
      "metadata": {
        "id": "wZd-4HiR2XNc"
      }
    },
    {
      "cell_type": "markdown",
      "source": [
        "特徴量「petal length (cm)」の値をそれ以外の特徴量のどれかひとつを利用し，線形回帰直線にて近似したいとき，上の相関係数の値から，どの特徴量を利用するのが最も良いでしょうか．そして，その特徴量を説明変数として線形回帰をしたときの，線形回帰係数の値を小数点以下3桁までの値で出力してください．"
      ],
      "metadata": {
        "id": "q2Ruc8MR30_C"
      }
    },
    {
      "cell_type": "code",
      "source": [],
      "metadata": {
        "id": "WdiFaH6M2YTc"
      },
      "execution_count": null,
      "outputs": []
    },
    {
      "cell_type": "markdown",
      "source": [
        "### 線形回帰による値の予測"
      ],
      "metadata": {
        "id": "Ue0kI7UD4q0C"
      }
    },
    {
      "cell_type": "markdown",
      "source": [
        "構築した線形回帰法によるモデルの入力値（説明変数値）が 0.23 であったとき，「petal length (cm)」の予測値を，小数点以下3桁までの値で出力してください．"
      ],
      "metadata": {
        "id": "-vz6XH_B4xXs"
      }
    },
    {
      "cell_type": "code",
      "source": [],
      "metadata": {
        "id": "92efWF6r28C0"
      },
      "execution_count": null,
      "outputs": []
    },
    {
      "cell_type": "markdown",
      "metadata": {
        "id": "99EgDjqQvhYy"
      },
      "source": [
        "```{note}\n",
        "終わりです．\n",
        "```"
      ]
    }
  ]
}