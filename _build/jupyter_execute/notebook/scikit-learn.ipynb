{
 "cells": [
  {
   "cell_type": "markdown",
   "metadata": {
    "id": "kjxtq9ZGnlfd"
   },
   "source": [
    "# 回帰と分類"
   ]
  }
 ],
 "metadata": {
  "colab": {
   "authorship_tag": "ABX9TyPnMD7gJeC2gagJk5mT8moI",
   "provenance": [],
   "toc_visible": true
  },
  "kernelspec": {
   "display_name": "Python 3",
   "name": "python3"
  },
  "language_info": {
   "name": "python"
  }
 },
 "nbformat": 4,
 "nbformat_minor": 0
}