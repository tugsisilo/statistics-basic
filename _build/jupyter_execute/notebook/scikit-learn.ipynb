{
 "cells": [
  {
   "cell_type": "markdown",
   "metadata": {
    "id": "kjxtq9ZGnlfd"
   },
   "source": [
    "# 線形回帰分析"
   ]
  }
 ],
 "metadata": {
  "colab": {
   "authorship_tag": "ABX9TyPZLXo0/vJKiaKE8D00AciK",
   "provenance": [],
   "toc_visible": true
  },
  "kernelspec": {
   "display_name": "Python 3",
   "name": "python3"
  },
  "language_info": {
   "name": "python"
  }
 },
 "nbformat": 4,
 "nbformat_minor": 0
}