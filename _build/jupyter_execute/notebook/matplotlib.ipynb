{
 "cells": [
  {
   "cell_type": "markdown",
   "metadata": {
    "id": "dduv2VnAnf_I"
   },
   "source": [
    "# データ可視化"
   ]
  }
 ],
 "metadata": {
  "colab": {
   "provenance": [],
   "toc_visible": true
  },
  "kernelspec": {
   "display_name": "Python 3",
   "name": "python3"
  },
  "language_info": {
   "name": "python"
  }
 },
 "nbformat": 4,
 "nbformat_minor": 0
}