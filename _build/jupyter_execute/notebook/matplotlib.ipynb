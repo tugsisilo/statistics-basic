{
 "cells": [
  {
   "cell_type": "markdown",
   "metadata": {
    "id": "dduv2VnAnf_I"
   },
   "source": [
    "# データ可視化"
   ]
  },
  {
   "cell_type": "markdown",
   "metadata": {
    "id": "x4PcqowXsS6w"
   },
   "source": [
    "## はじめに"
   ]
  },
  {
   "cell_type": "markdown",
   "metadata": {
    "id": "o21klyTwbPn8"
   },
   "source": [
    "### 開始前に行うこと（重要）"
   ]
  },
  {
   "cell_type": "markdown",
   "metadata": {
    "id": "uxGAUVjHbb4E"
   },
   "source": [
    "まず，Chrome 等のブラウザを利用して，本教材の URL にアクセスし，画面の指示に従い Google アカウントにログインしてください．その後，ブラウザ表示画面左上の「ファイル」をクリックし，さらにポップアップで出てくる項目から「ドライブにコピーを保存」をクリックしてください．これにより，本教材のコピーが自分のGoogleドライブに保存され，自分で書いたプログラムを実行できるようになります．\n",
    "\n",
    "また，多くのセルが非表示になっていると思われるため，同じくブラウザ表示画面上の「表示」をクリックし，さらにその項目から「セクションを展開」をクリックし，非表示のセルを表示させてください．"
   ]
  },
  {
   "cell_type": "markdown",
   "metadata": {
    "id": "w0Zh3zrKwm-N"
   },
   "source": [
    "```{hint}\n",
    "各ページの上部にロケットのアイコン <i class=\"fa fa-rocket\" aria-hidden=\"true\"></i> があるのでこれをクリックして各ページのファイルを Google Colaboratory 上で開いて利用してください．\n",
    "```"
   ]
  },
  {
   "cell_type": "markdown",
   "metadata": {
    "id": "F0-ckFxAiT5t"
   },
   "source": [
    "### 到達目標"
   ]
  },
  {
   "cell_type": "markdown",
   "metadata": {
    "id": "7nbMI0eOibob"
   },
   "source": [
    "matplotlib を用いてデータの可視化ができるようになることを目標とします．\n"
   ]
  },
  {
   "cell_type": "markdown",
   "metadata": {
    "id": "o_kFcAaQt7V9"
   },
   "source": [
    "### matplotlib とは"
   ]
  },
  {
   "cell_type": "markdown",
   "metadata": {
    "id": "6xbi2Q8bIQkN"
   },
   "source": [
    "データの特徴を把握するために，その可視化は必要不可欠です．matplotlib は Python を使って描画ができるようになるライブラリです．しかし，書き方がやや複雑でわかりにくいため，matplotlibを簡単に使えるようにするライブラリがいくつか提供されています．例えば，[pandas](https://pandas.pydata.org) や [seaborn](https://seaborn.pydata.org) です．この講義では基本的に matplotlib を使いますが，必要に応じてpandasの描画機能やseabornを用います．日本語を使えるようにするのはやや面倒なので，今回は日本語は使用しません．"
   ]
  },
  {
   "cell_type": "markdown",
   "metadata": {
    "id": "Ob1MHdrxL3CB"
   },
   "source": [
    "### matplotlib のインポート"
   ]
  },
  {
   "cell_type": "markdown",
   "metadata": {
    "id": "lLVWXcwCL9Hl"
   },
   "source": [
    "matplotlib は以下のようにインポートします．matplotlib は `matplotlib.pyplot` の形式で呼び出し，それには plt という略称を与えて利用するのが普通です．また，`%matplotlib inline` は Jupyter Notebook のようなグラフィカルな環境で描画をするために必要な記述です．"
   ]
  },
  {
   "cell_type": "code",
   "execution_count": 1,
   "metadata": {
    "id": "tUm59f0LM55C"
   },
   "outputs": [],
   "source": [
    "import matplotlib.pyplot as plt\n",
    "%matplotlib inline"
   ]
  },
  {
   "cell_type": "markdown",
   "metadata": {
    "id": "MmYtPW2nTG8A"
   },
   "source": [
    "一緒に利用するその他のライブラリもインポートしておきましょう．"
   ]
  },
  {
   "cell_type": "code",
   "execution_count": 2,
   "metadata": {
    "id": "Tjk2V4HrTGS6"
   },
   "outputs": [],
   "source": [
    "import numpy as np\n",
    "import pandas as pd"
   ]
  },
  {
   "cell_type": "markdown",
   "metadata": {
    "id": "0-UwB6B76pxR"
   },
   "source": [
    "### 学習の進め方"
   ]
  },
  {
   "cell_type": "markdown",
   "metadata": {
    "id": "l_NBj_XO34gA"
   },
   "source": [
    "上から順に読み進み，<font color=\"blue\">【実習】</font>と書いてある箇所でコードを書いて実行してください．基本的に入力するコードの前に見本のコードが書かれており，見本と同じコードを書けば正しく動作するようになっています（見本コードの上下に入っている区切り線は入力する必要ありません）．理解を深めるには，見本とは異なるコードを書いて試してみることも役立つと思います．\n",
    "なお， Colab では，コードが書かれている領域をコードセル，説明文等が書かれている領域をテキストセルといいます．"
   ]
  },
  {
   "cell_type": "markdown",
   "metadata": {
    "id": "fHUzrdXu7yXd"
   },
   "source": [
    "## matplotlib の基本操作"
   ]
  },
  {
   "cell_type": "markdown",
   "metadata": {
    "id": "Kw2rF_7hP07P"
   },
   "source": [
    "### データの準備"
   ]
  },
  {
   "cell_type": "markdown",
   "metadata": {
    "id": "_vZkzQ0EQPVS"
   },
   "source": [
    "八戸の気象データを使用します．"
   ]
  },
  {
   "cell_type": "markdown",
   "metadata": {
    "id": "HGxEws7bQEpI"
   },
   "source": [
    "<font color=\"blue\">【実習】データフレームを生成する．</font>"
   ]
  },
  {
   "cell_type": "markdown",
   "metadata": {
    "id": "gNqH4RDYZRpG"
   },
   "source": [
    "```\n",
    "#--#--#--#--#--#--#--#--#--#--#--#--#--#--#--#--#--#--#--#\n",
    "month = [\"Jan\", \"Feb\", \"Mar\", \"Apr\", \"May\", \"Jun\", \"Jul\", \"Aug\", \"Sep\", \"Oct\", \"Nov\", \"Dec\"]\n",
    "sunshine = [141.3, 152.5, 180.4, 164.1, 179.2, 151.9, 166.9, 146.6, 147, 184.4, 141.1, 124]\n",
    "rainfall = [14, 56.5, 86.5, 102.5, 135, 79, 152.5, 239.5, 152, 86.5, 24, 49]\n",
    "under0 = [28, 27, 17, 1, 0, 0, 0, 0, 0, 0, 5, 23]\n",
    "over30 = [0, 0, 0, 0, 1, 4, 8, 6, 2, 0, 0, 0]\n",
    "max_temp = [9.3, 9.8, 22.1, 27.4, 30.2, 31.6, 33.6, 34, 30.7, 25.6, 19.6, 18.9]\n",
    "min_temp = [-9.6, -9, -6.5, -0.4, 4.2, 9.1, 12.6, 13, 10.6, 5.5, -1.3, -6.1]\n",
    "hachinohe = pd.DataFrame(\n",
    "    {\"month\" : month, \"sunshine\" : sunshine, \"rainfall\" : rainfall,\n",
    "     \"under0\" : under0, \"over30\" : over30, \"max_temp\" : max_temp, \"min_temp\" : min_temp})\n",
    "hachinohe\n",
    "#--#--#--#--#--#--#--#--#--#--#--#--#--#--#--#--#--#--#--#\n",
    "```"
   ]
  },
  {
   "cell_type": "code",
   "execution_count": null,
   "metadata": {
    "id": "ilGVqrCqQcHz"
   },
   "outputs": [],
   "source": []
  },
  {
   "cell_type": "markdown",
   "metadata": {
    "id": "LhOoM3VCAlgO"
   },
   "source": [
    "### 折れ線グラフ"
   ]
  },
  {
   "cell_type": "markdown",
   "metadata": {
    "id": "G7WSXyFbTgmG"
   },
   "source": [
    "* `plt.plot()`関数で描画したのち，`plt.show()`で表示する\n",
    "    * [`plot()`関数のドキュメント](https://matplotlib.org/api/_as_gen/matplotlib.pyplot.plot.html)"
   ]
  },
  {
   "cell_type": "markdown",
   "metadata": {
    "id": "x6usonXYQl-5"
   },
   "source": [
    "<font color=\"blue\">【実習】八戸の各月の最高気温をプロットする．</font>"
   ]
  },
  {
   "cell_type": "markdown",
   "metadata": {
    "id": "zmeRs0qRZTAL"
   },
   "source": [
    "```\n",
    "#--#--#--#--#--#--#--#--#--#--#--#--#--#--#--#--#--#--#--#\n",
    "plt.plot(hachinohe[\"max_temp\"])\n",
    "plt.show()\n",
    "#--#--#--#--#--#--#--#--#--#--#--#--#--#--#--#--#--#--#--#\n",
    "```"
   ]
  },
  {
   "cell_type": "code",
   "execution_count": null,
   "metadata": {
    "id": "pBn6_sSreBeE"
   },
   "outputs": [],
   "source": []
  },
  {
   "cell_type": "markdown",
   "metadata": {
    "id": "YAKaQ3lqQ1VX"
   },
   "source": [
    "<font color=\"blue\">【実習】x軸の値をmonth列の値にする．</font>"
   ]
  },
  {
   "cell_type": "markdown",
   "metadata": {
    "id": "dMdvpiVGZUAM"
   },
   "source": [
    "```\n",
    "#--#--#--#--#--#--#--#--#--#--#--#--#--#--#--#--#--#--#--#\n",
    "plt.plot(hachinohe[\"month\"], hachinohe[\"max_temp\"])\n",
    "plt.show()\n",
    "#--#--#--#--#--#--#--#--#--#--#--#--#--#--#--#--#--#--#--#\n",
    "```"
   ]
  },
  {
   "cell_type": "code",
   "execution_count": null,
   "metadata": {
    "id": "4LN0wWLAQ7Lm"
   },
   "outputs": [],
   "source": []
  },
  {
   "cell_type": "markdown",
   "metadata": {
    "id": "tS3oAAWDSG8d"
   },
   "source": [
    "<font color=\"blue\">【実習】色々情報を付け加えてみる．</font>"
   ]
  },
  {
   "cell_type": "markdown",
   "metadata": {
    "id": "fosw_oeHZaCI"
   },
   "source": [
    "```\n",
    "#--#--#--#--#--#--#--#--#--#--#--#--#--#--#--#--#--#--#--#\n",
    "plt.plot(hachinohe[\"month\"], hachinohe[\"max_temp\"])\n",
    "plt.xlabel(\"Month\")\n",
    "plt.ylabel(\"Degree\")\n",
    "plt.title(\"Highest temperature at Hachinohe in 2018\")\n",
    "plt.show()\n",
    "#--#--#--#--#--#--#--#--#--#--#--#--#--#--#--#--#--#--#--#\n",
    "```"
   ]
  },
  {
   "cell_type": "code",
   "execution_count": null,
   "metadata": {
    "id": "PmcsXwNiSLJk"
   },
   "outputs": [],
   "source": []
  },
  {
   "cell_type": "markdown",
   "metadata": {
    "id": "jLZ0tEL0RB-T"
   },
   "source": [
    "<font color=\"blue\">【実習】最高気温と最低気温を同時にプロットする．</font>\n"
   ]
  },
  {
   "cell_type": "markdown",
   "metadata": {
    "id": "EH4__SUFfpeO"
   },
   "source": [
    "```{hint}\n",
    "2つのデータを区別するためにラベルをつけます．また，[`legend()`関数](https://matplotlib.org/3.1.1/api/_as_gen/matplotlib.pyplot.legend.html)を呼ぶことで凡例を表示できます．\n",
    "```"
   ]
  },
  {
   "cell_type": "markdown",
   "metadata": {
    "id": "eCZyJEkIZbSt"
   },
   "source": [
    "```\n",
    "#--#--#--#--#--#--#--#--#--#--#--#--#--#--#--#--#--#--#--#\n",
    "plt.plot(hachinohe[\"month\"], hachinohe[\"max_temp\"], label=\"max temp\")\n",
    "plt.plot(hachinohe[\"month\"], hachinohe[\"min_temp\"], label=\"min temp\")\n",
    "plt.legend()\n",
    "plt.show()\n",
    "#--#--#--#--#--#--#--#--#--#--#--#--#--#--#--#--#--#--#--#\n",
    "```"
   ]
  },
  {
   "cell_type": "code",
   "execution_count": null,
   "metadata": {
    "id": "MGOcEsLrAg9F"
   },
   "outputs": [],
   "source": []
  },
  {
   "cell_type": "markdown",
   "metadata": {
    "id": "KOOFUD_ymaAi"
   },
   "source": [
    "<font color=\"blue\">【実習】pandasではもう少し簡単に描画できる．</font>\n"
   ]
  },
  {
   "cell_type": "markdown",
   "metadata": {
    "id": "UBypmNYFZdKl"
   },
   "source": [
    "```\n",
    "#--#--#--#--#--#--#--#--#--#--#--#--#--#--#--#--#--#--#--#\n",
    "hachinohe.plot.line(x=\"month\", y=[\"max_temp\", \"min_temp\"])\n",
    "plt.show()\n",
    "#--#--#--#--#--#--#--#--#--#--#--#--#--#--#--#--#--#--#--#\n",
    "```"
   ]
  },
  {
   "cell_type": "code",
   "execution_count": null,
   "metadata": {
    "id": "YZMmrb-vmfrL"
   },
   "outputs": [],
   "source": []
  },
  {
   "cell_type": "markdown",
   "metadata": {
    "id": "JM5QeNqVtIu1"
   },
   "source": [
    "### 棒グラフ"
   ]
  },
  {
   "cell_type": "markdown",
   "metadata": {
    "id": "RJYuoU_BtKph"
   },
   "source": [
    "<font color=\"blue\">【実習】最高気温と最低気温について棒グラフを書く．</font>\n"
   ]
  },
  {
   "cell_type": "markdown",
   "metadata": {
    "id": "J-RBzP5_f-uB"
   },
   "source": [
    "```{hint}\n",
    "`plot()`を`bar()`に変えるだけです．[`bar()`関数のドキュメント](https://matplotlib.org/api/_as_gen/matplotlib.pyplot.bar.html)．\n",
    "```"
   ]
  },
  {
   "cell_type": "markdown",
   "metadata": {
    "id": "_8nWhyUHZfAh"
   },
   "source": [
    "```\n",
    "#--#--#--#--#--#--#--#--#--#--#--#--#--#--#--#--#--#--#--#\n",
    "plt.bar(hachinohe[\"month\"], hachinohe[\"max_temp\"], label=\"max temp\")\n",
    "plt.bar(hachinohe[\"month\"], hachinohe[\"min_temp\"], label=\"min temp\")\n",
    "plt.legend()\n",
    "plt.show()\n",
    "#--#--#--#--#--#--#--#--#--#--#--#--#--#--#--#--#--#--#--#\n",
    "```"
   ]
  },
  {
   "cell_type": "code",
   "execution_count": null,
   "metadata": {
    "id": "n6C6XbY7tYF7"
   },
   "outputs": [],
   "source": []
  },
  {
   "cell_type": "markdown",
   "metadata": {
    "id": "IphV0Q6buBzC"
   },
   "source": [
    "<font color=\"blue\">【実習】pandasではもう少し簡単に描画できる．</font>"
   ]
  },
  {
   "cell_type": "markdown",
   "metadata": {
    "id": "WQHc8bTxZgIP"
   },
   "source": [
    "```\n",
    "#--#--#--#--#--#--#--#--#--#--#--#--#--#--#--#--#--#--#--#\n",
    "hachinohe.plot.bar(x=\"month\", y=[\"max_temp\", \"min_temp\"])\n",
    "plt.show()\n",
    "#--#--#--#--#--#--#--#--#--#--#--#--#--#--#--#--#--#--#--#\n",
    "```"
   ]
  },
  {
   "cell_type": "code",
   "execution_count": null,
   "metadata": {
    "id": "C-j7XCC2t5bu"
   },
   "outputs": [],
   "source": []
  },
  {
   "cell_type": "markdown",
   "metadata": {
    "id": "vJrSEZW0VN9M"
   },
   "source": [
    "### ヒストグラム"
   ]
  },
  {
   "cell_type": "markdown",
   "metadata": {
    "id": "wib-SIkEWUnw"
   },
   "source": [
    "<font color=\"blue\">【実習】最高気温に関するヒストグラムを描画する．</font>\n"
   ]
  },
  {
   "cell_type": "markdown",
   "metadata": {
    "id": "5CIP6Ox6Zhb7"
   },
   "source": [
    "```\n",
    "#--#--#--#--#--#--#--#--#--#--#--#--#--#--#--#--#--#--#--#\n",
    "plt.hist(hachinohe[\"max_temp\"])\n",
    "plt.show()\n",
    "#--#--#--#--#--#--#--#--#--#--#--#--#--#--#--#--#--#--#--#\n",
    "```\n"
   ]
  },
  {
   "cell_type": "code",
   "execution_count": null,
   "metadata": {
    "id": "ooFQ4xu8Ncej"
   },
   "outputs": [],
   "source": []
  },
  {
   "cell_type": "markdown",
   "metadata": {
    "id": "-SfeWsFMWcN5"
   },
   "source": [
    "<font color=\"blue\">【実習】最高気温と最低気温のヒストグラムを同時に描画する．</font>\n"
   ]
  },
  {
   "cell_type": "markdown",
   "metadata": {
    "id": "zJ31ceDKZix0"
   },
   "source": [
    "```\n",
    "#--#--#--#--#--#--#--#--#--#--#--#--#--#--#--#--#--#--#--#\n",
    "plt.hist(hachinohe[\"max_temp\"], label=\"max temp\")\n",
    "plt.hist(hachinohe[\"min_temp\"], label=\"min temp\")\n",
    "plt.legend()\n",
    "plt.show()\n",
    "#--#--#--#--#--#--#--#--#--#--#--#--#--#--#--#--#--#--#--#\n",
    "```\n"
   ]
  },
  {
   "cell_type": "code",
   "execution_count": null,
   "metadata": {
    "id": "x60eIxi1VWaM"
   },
   "outputs": [],
   "source": []
  },
  {
   "cell_type": "markdown",
   "metadata": {
    "id": "pKlt5EkXgYwl"
   },
   "source": [
    "```{note}\n",
    "最高気温のデータの一部が最低気温のデータで見えなくなっているが一応描画できています．\n",
    "```"
   ]
  },
  {
   "cell_type": "markdown",
   "metadata": {
    "id": "bXAI_JFqpmdc"
   },
   "source": [
    "<font color=\"blue\">【実習】もう少し見やすくする．</font>\n"
   ]
  },
  {
   "cell_type": "markdown",
   "metadata": {
    "id": "RIocJ83wZkKe"
   },
   "source": [
    "```\n",
    "#--#--#--#--#--#--#--#--#--#--#--#--#--#--#--#--#--#--#--#\n",
    "plt.hist(hachinohe[\"max_temp\"], label=\"max temp\", alpha=0.5, range=(-10, 40), bins=10)\n",
    "plt.hist(hachinohe[\"min_temp\"], label=\"min temp\", alpha=0.5, range=(-10, 40), bins=10)\n",
    "plt.xlabel(\"Degree\")\n",
    "plt.ylabel(\"Frequency\")\n",
    "plt.legend()\n",
    "plt.show()\n",
    "#--#--#--#--#--#--#--#--#--#--#--#--#--#--#--#--#--#--#--#\n",
    "```\n"
   ]
  },
  {
   "cell_type": "code",
   "execution_count": null,
   "metadata": {
    "id": "VOaBR471pJm5"
   },
   "outputs": [],
   "source": []
  },
  {
   "cell_type": "markdown",
   "metadata": {
    "id": "sLJ6MV8LgrRg"
   },
   "source": [
    "```{hint}\n",
    "以下の操作をしました．\n",
    "* 棒の色を半透明にする（alphaは透過率）\n",
    "* 最小値を-10, 最大値を40にし，5度刻みで集計する(ビンの数(集計する区分の数)を10個にする)\n",
    "* x軸とy軸の説明を追加する\n",
    "```"
   ]
  },
  {
   "cell_type": "markdown",
   "metadata": {
    "id": "lvou4O6uptA0"
   },
   "source": [
    "<font color=\"blue\">【実習】pandasの関数を使用してヒストグラムを作成する．</font>\n"
   ]
  },
  {
   "cell_type": "markdown",
   "metadata": {
    "id": "abPfAKL9ZlUg"
   },
   "source": [
    "```\n",
    "#--#--#--#--#--#--#--#--#--#--#--#--#--#--#--#--#--#--#--#\n",
    "hachinohe[[\"max_temp\", \"min_temp\"]].plot.hist(alpha=0.5)\n",
    "plt.show()\n",
    "#--#--#--#--#--#--#--#--#--#--#--#--#--#--#--#--#--#--#--#\n",
    "```"
   ]
  },
  {
   "cell_type": "code",
   "execution_count": null,
   "metadata": {
    "id": "tQ6y5rIDYY2m"
   },
   "outputs": [],
   "source": []
  },
  {
   "cell_type": "markdown",
   "metadata": {
    "id": "_yE6QxZCqEf8"
   },
   "source": [
    "### 箱ひげ図"
   ]
  },
  {
   "cell_type": "markdown",
   "metadata": {
    "id": "wJuT-0h5rjKH"
   },
   "source": [
    "箱ひげ図はデータの中央値と四分位点（25%, 75%）と最大値，最小値を表す図です．"
   ]
  },
  {
   "cell_type": "markdown",
   "metadata": {
    "id": "of08ToR5qM6q"
   },
   "source": [
    "<font color=\"blue\">【実習】最高気温と最低気温に関して箱ひげ図を作成する．</font>\n"
   ]
  },
  {
   "cell_type": "markdown",
   "metadata": {
    "id": "xUl21TQSZmeU"
   },
   "source": [
    "```\n",
    "#--#--#--#--#--#--#--#--#--#--#--#--#--#--#--#--#--#--#--#\n",
    "plt.boxplot([hachinohe[\"max_temp\"], hachinohe[\"min_temp\"]], labels=[\"max temp\", \"min temp\"])\n",
    "plt.show()\n",
    "#--#--#--#--#--#--#--#--#--#--#--#--#--#--#--#--#--#--#--#\n",
    "```"
   ]
  },
  {
   "cell_type": "code",
   "execution_count": null,
   "metadata": {
    "id": "F9o-ey9AjuSn"
   },
   "outputs": [],
   "source": []
  },
  {
   "cell_type": "markdown",
   "metadata": {
    "id": "ZAAoZgASq11U"
   },
   "source": [
    "<font color=\"blue\">【実習】pandasではもう少し簡単に描画できる．</font>\n"
   ]
  },
  {
   "cell_type": "markdown",
   "metadata": {
    "id": "sUO2nOIHZniy"
   },
   "source": [
    "```\n",
    "#--#--#--#--#--#--#--#--#--#--#--#--#--#--#--#--#--#--#--#\n",
    "hachinohe[[\"max_temp\", \"min_temp\"]].plot.box()\n",
    "plt.show()\n",
    "#--#--#--#--#--#--#--#--#--#--#--#--#--#--#--#--#--#--#--#\n",
    "```"
   ]
  },
  {
   "cell_type": "code",
   "execution_count": null,
   "metadata": {
    "id": "qIKhuOLXWyBI"
   },
   "outputs": [],
   "source": []
  },
  {
   "cell_type": "markdown",
   "metadata": {
    "id": "1fkNy7tTuW1H"
   },
   "source": [
    "### 散布図"
   ]
  },
  {
   "cell_type": "markdown",
   "metadata": {
    "id": "3QZvLub8w7OX"
   },
   "source": [
    "<font color=\"blue\">【実習】最高気温と最低気温に関して散布図を作成する．</font>\n"
   ]
  },
  {
   "cell_type": "markdown",
   "metadata": {
    "id": "5kPF-pdOZp_X"
   },
   "source": [
    "```\n",
    "#--#--#--#--#--#--#--#--#--#--#--#--#--#--#--#--#--#--#--#\n",
    "plt.scatter(hachinohe[\"max_temp\"], hachinohe[\"min_temp\"])\n",
    "plt.show()\n",
    "#--#--#--#--#--#--#--#--#--#--#--#--#--#--#--#--#--#--#--#\n",
    "```"
   ]
  },
  {
   "cell_type": "code",
   "execution_count": null,
   "metadata": {
    "id": "FRgFSKGzurk4"
   },
   "outputs": [],
   "source": []
  },
  {
   "cell_type": "markdown",
   "metadata": {
    "id": "A8KiJPW5xTe-"
   },
   "source": [
    "<font color=\"blue\">【実習】グラフに情報を付加する．</font>"
   ]
  },
  {
   "cell_type": "markdown",
   "metadata": {
    "id": "0037m6jWZq9p"
   },
   "source": [
    "```\n",
    "#--#--#--#--#--#--#--#--#--#--#--#--#--#--#--#--#--#--#--#\n",
    "plt.scatter(hachinohe[\"max_temp\"], hachinohe[\"min_temp\"])\n",
    "plt.xlabel(\"max temp (degree)\")\n",
    "plt.ylabel(\"min temp (degree)\")\n",
    "plt.title(\"max temp vs min temp\")\n",
    "plt.show()\n",
    "#--#--#--#--#--#--#--#--#--#--#--#--#--#--#--#--#--#--#--#\n",
    "```"
   ]
  },
  {
   "cell_type": "code",
   "execution_count": null,
   "metadata": {
    "id": "yk7ainL_u9j6"
   },
   "outputs": [],
   "source": []
  },
  {
   "cell_type": "markdown",
   "metadata": {
    "id": "w05fCPW9xwRb"
   },
   "source": [
    "<font color=\"blue\">【実習】pandasではもう少し簡単に描画できる．</font>\n"
   ]
  },
  {
   "cell_type": "markdown",
   "metadata": {
    "id": "fFVhB_boZsA6"
   },
   "source": [
    "```\n",
    "#--#--#--#--#--#--#--#--#--#--#--#--#--#--#--#--#--#--#--#\n",
    "hachinohe.plot.scatter(x=\"max_temp\", y=\"min_temp\")\n",
    "plt.show()\n",
    "#--#--#--#--#--#--#--#--#--#--#--#--#--#--#--#--#--#--#--#\n",
    "```"
   ]
  },
  {
   "cell_type": "code",
   "execution_count": null,
   "metadata": {
    "id": "a6svUz00xl2x"
   },
   "outputs": [],
   "source": []
  },
  {
   "cell_type": "markdown",
   "metadata": {
    "id": "nRo7rW56zePm"
   },
   "source": [
    "### seabornの活用"
   ]
  },
  {
   "cell_type": "markdown",
   "metadata": {
    "id": "iu3rE07c1PMR"
   },
   "source": [
    "seabornをセットするだけで，自動で見た目を美しくしてくれます．"
   ]
  },
  {
   "cell_type": "markdown",
   "metadata": {
    "id": "3KfhzoEs2YUt"
   },
   "source": [
    "<font color=\"blue\">【実習】searbornをセットする．</font>\n",
    "\n"
   ]
  },
  {
   "cell_type": "markdown",
   "metadata": {
    "id": "iJjlTd4_ZwMJ"
   },
   "source": [
    "```\n",
    "#--#--#--#--#--#--#--#--#--#--#--#--#--#--#--#--#--#--#--#\n",
    "import seaborn as sns\n",
    "sns.set()\n",
    "#--#--#--#--#--#--#--#--#--#--#--#--#--#--#--#--#--#--#--#\n",
    "```"
   ]
  },
  {
   "cell_type": "code",
   "execution_count": 12,
   "metadata": {
    "id": "01noJd7Q2dUR"
   },
   "outputs": [],
   "source": []
  },
  {
   "cell_type": "markdown",
   "metadata": {
    "id": "7YXxjUdjhQvT"
   },
   "source": [
    "```{note}\n",
    "seabornには`sns`という名前をつけるのが慣習です．\n",
    "```"
   ]
  },
  {
   "cell_type": "markdown",
   "metadata": {
    "id": "Sgc2KpIEhZ6j"
   },
   "source": [
    "```{hint}\n",
    "`set()` は引数で`context=\"talk\"`や`context=\"poster\"`を指定すると，フォントが大きくなります．\n",
    "```"
   ]
  },
  {
   "cell_type": "markdown",
   "metadata": {
    "id": "RhftjGio3LEN"
   },
   "source": [
    "<font color=\"blue\">【実習】これまでに実行したグラフ描画プログラムを再実行する．</font>\n"
   ]
  },
  {
   "cell_type": "markdown",
   "metadata": {
    "id": "sk2FIJO4hlnU"
   },
   "source": [
    "```{note}\n",
    "見た目が変わるはずです．\n",
    "```"
   ]
  },
  {
   "cell_type": "markdown",
   "metadata": {
    "id": "99Z4qoex7k_H"
   },
   "source": [
    "### ペアプロット"
   ]
  },
  {
   "cell_type": "markdown",
   "metadata": {
    "id": "-IgWnVcj7uAF"
   },
   "source": [
    "ペアプロットとは複数の変数間の相関関係を可視化する際に使用される図です．ここでは，seabornを利用してペアプロットを作成します．seabornの[ペアプロット描画関数](https://seaborn.pydata.org/generated/seaborn.pairplot.html)は概ね以下の形式となります．`vars`を指定しないとすべての列が使用されます．\n",
    "    \n",
    "```\n",
    "sns.pairplot(\n",
    "    \"データフレーム名\",\n",
    "    vars = \"列名のリスト\",\n",
    "    その他オプション\n",
    ")\n",
    "```\n"
   ]
  },
  {
   "cell_type": "markdown",
   "metadata": {
    "id": "xDng8-Q78odb"
   },
   "source": [
    "<font color=\"blue\">【実習】八戸の気象データのペアプロットを作成する．</font>\n"
   ]
  },
  {
   "cell_type": "markdown",
   "metadata": {
    "id": "qcrIxMRQZz-O"
   },
   "source": [
    "```\n",
    "#--#--#--#--#--#--#--#--#--#--#--#--#--#--#--#--#--#--#--#\n",
    "sns.pairplot(hachinohe)\n",
    "plt.show()\n",
    "#--#--#--#--#--#--#--#--#--#--#--#--#--#--#--#--#--#--#--#\n",
    "```"
   ]
  },
  {
   "cell_type": "code",
   "execution_count": null,
   "metadata": {
    "id": "y8s7x4A779IA"
   },
   "outputs": [],
   "source": []
  },
  {
   "cell_type": "markdown",
   "metadata": {
    "id": "efBnBfWA_op1"
   },
   "source": [
    "<font color=\"blue\">【実習】ペアプロットに回帰直線（データの傾向を表す直線）を入れる．</font>"
   ]
  },
  {
   "cell_type": "markdown",
   "metadata": {
    "id": "ojbwhR0GZ5ey"
   },
   "source": [
    "```\n",
    "#--#--#--#--#--#--#--#--#--#--#--#--#--#--#--#--#--#--#--#\n",
    "sns.pairplot(hachinohe, kind=\"reg\")\n",
    "plt.show()\n",
    "#--#--#--#--#--#--#--#--#--#--#--#--#--#--#--#--#--#--#--#\n",
    "```"
   ]
  },
  {
   "cell_type": "code",
   "execution_count": null,
   "metadata": {
    "id": "viUiG0hA_ZXs"
   },
   "outputs": [],
   "source": []
  },
  {
   "cell_type": "markdown",
   "metadata": {
    "id": "PBrcxc3X_JhZ"
   },
   "source": [
    "### 描画した図のダウンロード"
   ]
  },
  {
   "cell_type": "markdown",
   "metadata": {
    "id": "K3HHhtpoCVmr"
   },
   "source": [
    "描画した図は以下の手順を行うことでダウンロードできます．\n",
    "1. 描画した図をmatplotlibの[savefig()関数](https://matplotlib.org/api/_as_gen/matplotlib.pyplot.savefig.html)を使って画像ファイルとして保存\n",
    "        * `plt.show()`を呼ばずに`plt.savefig(\"ファイル名\")`を呼ぶ\n",
    "2. google.colabのライブラリを使用して画像ファイルをダウンロードする\n"
   ]
  },
  {
   "cell_type": "markdown",
   "metadata": {
    "id": "uo5oi6gniWFe"
   },
   "source": [
    "```{hint}\n",
    "手動ダウンロードでよければ，グラフ表示後，画像を右クリックして画像を保存するだけで良いです．\n",
    "```"
   ]
  },
  {
   "cell_type": "markdown",
   "metadata": {
    "id": "Y5gZohlGDAv8"
   },
   "source": [
    "<font color=\"blue\">【実習】八戸の気象データに対するペアプロット図をダウンロードする．</font>\n"
   ]
  },
  {
   "cell_type": "markdown",
   "metadata": {
    "id": "nIYult3zaCx9"
   },
   "source": [
    "```\n",
    "#--#--#--#--#--#--#--#--#--#--#--#--#--#--#--#--#--#--#--#\n",
    "from google.colab import files\n",
    "\n",
    "sns.pairplot(hachinohe)\n",
    "plt.savefig(\"pairplot.png\")\n",
    "files.download(\"pairplot.png\")\n",
    "#--#--#--#--#--#--#--#--#--#--#--#--#--#--#--#--#--#--#--#\n",
    "```\n"
   ]
  },
  {
   "cell_type": "code",
   "execution_count": null,
   "metadata": {
    "id": "SvV7DvGq_M9Z"
   },
   "outputs": [],
   "source": []
  },
  {
   "cell_type": "markdown",
   "metadata": {
    "id": "r3VmYWNMicdu"
   },
   "source": [
    "```{hint}\n",
    "エラーが出た場合，もう一回試すとうまくいくことがあります．\n",
    "```"
   ]
  },
  {
   "cell_type": "markdown",
   "metadata": {
    "id": "99EgDjqQvhYy"
   },
   "source": [
    "```{note}\n",
    "終わりです．\n",
    "```"
   ]
  }
 ],
 "metadata": {
  "colab": {
   "provenance": [],
   "toc_visible": true
  },
  "kernelspec": {
   "display_name": "Python 3",
   "name": "python3"
  },
  "language_info": {
   "name": "python"
  }
 },
 "nbformat": 4,
 "nbformat_minor": 0
}