{
 "cells": [
  {
   "cell_type": "markdown",
   "metadata": {
    "id": "XH_xoTherFwv"
   },
   "source": [
    "# Pythonによるデータ解析と可視化"
   ]
  },
  {
   "cell_type": "markdown",
   "metadata": {
    "id": "igBgjt2VbUFI"
   },
   "source": [
    "version 0.4 (2021/7/5)\n",
    "\n",
    "教材作成：一関高専　小池 敦"
   ]
  },
  {
   "cell_type": "markdown",
   "metadata": {
    "id": "8yWKXt78KLwA"
   },
   "source": [
    "## 第1章 NumPyを用いた基本統計処理"
   ]
  },
  {
   "cell_type": "markdown",
   "metadata": {
    "id": "US2eYKEBsueC"
   },
   "source": [
    "### 1.1 NumPy"
   ]
  },
  {
   "cell_type": "markdown",
   "metadata": {
    "id": "AX_WJijBKmnf"
   },
   "source": [
    "* NumPy：基本的なデータ分析のためのPythonパッケージ\n",
    "    * 配列に対する処理の高速化\n",
    "    * 様々な線形代数処理をサポート\n",
    "* [NumPyドキュメント](https://www.numpy.org)"
   ]
  },
  {
   "cell_type": "markdown",
   "metadata": {
    "id": "QXwyNK5TKbQn"
   },
   "source": [
    "* 【実習】 NumPyパッケージの読み込み\n",
    "    * NumPyには`np`という名前をつけるのが慣習となっている"
   ]
  },
  {
   "cell_type": "markdown",
   "metadata": {
    "id": "OO-C-BzCK0J5"
   },
   "source": [
    "```\n",
    "#--#--#--#--#--#--#--#--#--#--#--#--#--#--#--#--#--#--#--#\n",
    "import numpy as np\n",
    "#--#--#--#--#--#--#--#--#--#--#--#--#--#--#--#--#--#--#--#\n",
    "```"
   ]
  },
  {
   "cell_type": "code",
   "execution_count": null,
   "metadata": {
    "id": "03Knt1EKLGDV"
   },
   "outputs": [],
   "source": []
  },
  {
   "cell_type": "markdown",
   "metadata": {
    "id": "AGw87RK4LZGz"
   },
   "source": [
    "### 1.2 NumPyによる1次元配列"
   ]
  },
  {
   "cell_type": "markdown",
   "metadata": {
    "id": "Swd1AVLiLdCV"
   },
   "source": [
    "* 1変量データを扱う場合はNumPyアレイを使うと便利"
   ]
  },
  {
   "cell_type": "markdown",
   "metadata": {
    "id": "JaIh5pMrLk0P"
   },
   "source": [
    "* 【実習】NumPyアレイにより架空の年齢データを保持する"
   ]
  },
  {
   "cell_type": "markdown",
   "metadata": {
    "id": "xGuY2P0oL11L"
   },
   "source": [
    "```\n",
    "#--#--#--#--#--#--#--#--#--#--#--#--#--#--#--#--#--#--#--#\n",
    "ages = np.array([23, 10, 15, 16, 32, 14, 18, 41, 35, 26])\n",
    "ages\n",
    "#--#--#--#--#--#--#--#--#--#--#--#--#--#--#--#--#--#--#--#\n",
    "```"
   ]
  },
  {
   "cell_type": "code",
   "execution_count": null,
   "metadata": {
    "id": "lFcT-aOYMA6-"
   },
   "outputs": [],
   "source": []
  },
  {
   "cell_type": "markdown",
   "metadata": {
    "id": "EE4ANyMfNbDV"
   },
   "source": [
    "### 1.3 配列のデータ数（標本数）"
   ]
  },
  {
   "cell_type": "markdown",
   "metadata": {
    "id": "Y6quDJDvOOBv"
   },
   "source": [
    "* 【実習】年齢データのデータ数を求める"
   ]
  },
  {
   "cell_type": "markdown",
   "metadata": {
    "id": "bkW2gdR9L2bK"
   },
   "source": [
    "```\n",
    "#--#--#--#--#--#--#--#--#--#--#--#--#--#--#--#--#--#--#--#\n",
    "len(ages)\n",
    "#--#--#--#--#--#--#--#--#--#--#--#--#--#--#--#--#--#--#--#\n",
    "```"
   ]
  },
  {
   "cell_type": "code",
   "execution_count": null,
   "metadata": {
    "id": "C5aUFQ2dOYXB"
   },
   "outputs": [],
   "source": []
  },
  {
   "cell_type": "markdown",
   "metadata": {
    "id": "yuse9AEXMW8d"
   },
   "source": [
    "### 1.4 最大値，最小値"
   ]
  },
  {
   "cell_type": "markdown",
   "metadata": {
    "id": "xsXhNV5iMxIK"
   },
   "source": [
    "* 【実習】年齢の最大値を求める"
   ]
  },
  {
   "cell_type": "markdown",
   "metadata": {
    "id": "r_BeNMJLM6fa"
   },
   "source": [
    "```\n",
    "#--#--#--#--#--#--#--#--#--#--#--#--#--#--#--#--#--#--#--#\n",
    "np.max(ages)\n",
    "#--#--#--#--#--#--#--#--#--#--#--#--#--#--#--#--#--#--#--#\n",
    "```"
   ]
  },
  {
   "cell_type": "code",
   "execution_count": null,
   "metadata": {
    "id": "YrxuzoyYM-iO"
   },
   "outputs": [],
   "source": []
  },
  {
   "cell_type": "markdown",
   "metadata": {
    "id": "oNEd3v87NXV6"
   },
   "source": [
    "* 【実習】年齢の最小値を求める"
   ]
  },
  {
   "cell_type": "markdown",
   "metadata": {
    "id": "nGjEippKNdwW"
   },
   "source": [
    "```\n",
    "#--#--#--#--#--#--#--#--#--#--#--#--#--#--#--#--#--#--#--#\n",
    "np.min(ages)\n",
    "#--#--#--#--#--#--#--#--#--#--#--#--#--#--#--#--#--#--#--#\n",
    "```"
   ]
  },
  {
   "cell_type": "code",
   "execution_count": null,
   "metadata": {
    "id": "oPfFPFkyNfZK"
   },
   "outputs": [],
   "source": []
  },
  {
   "cell_type": "markdown",
   "metadata": {
    "id": "QZFn4igOJ-qV"
   },
   "source": [
    "### 1.5 合計"
   ]
  },
  {
   "cell_type": "markdown",
   "metadata": {
    "id": "LEj7fenSNeFz"
   },
   "source": [
    "* 【実習】全員の年齢の合計値を求める"
   ]
  },
  {
   "cell_type": "markdown",
   "metadata": {
    "id": "NrXbQerTL2OU"
   },
   "source": [
    "```\n",
    "#--#--#--#--#--#--#--#--#--#--#--#--#--#--#--#--#--#--#--#\n",
    "np.sum(ages)\n",
    "#--#--#--#--#--#--#--#--#--#--#--#--#--#--#--#--#--#--#--#\n",
    "```"
   ]
  },
  {
   "cell_type": "code",
   "execution_count": null,
   "metadata": {
    "id": "z1ce59ScMFek"
   },
   "outputs": [],
   "source": []
  },
  {
   "cell_type": "markdown",
   "metadata": {
    "id": "G5vD-G52O7cd"
   },
   "source": [
    "### 1.6 平均値"
   ]
  },
  {
   "cell_type": "markdown",
   "metadata": {
    "id": "AUJKr41FZF3b"
   },
   "source": [
    "* 平均値は下記の式で定義される\n",
    "$$\\mu = \\frac{1}{N}\\sum_{i=1}^N x_i$$\n",
    "    * $\\mu$: データの平均値  \n",
    "    * $N$: 標本数  \n",
    "    * $x_i$: データ\n",
    "  "
   ]
  },
  {
   "cell_type": "markdown",
   "metadata": {
    "id": "2j1KS9TsPY3V"
   },
   "source": [
    "* 【実習】全員の年齢の平均値を計算する"
   ]
  },
  {
   "cell_type": "markdown",
   "metadata": {
    "id": "9XJj4XmTL2wO"
   },
   "source": [
    "```\n",
    "#--#--#--#--#--#--#--#--#--#--#--#--#--#--#--#--#--#--#--#\n",
    "np.mean(ages)\n",
    "#--#--#--#--#--#--#--#--#--#--#--#--#--#--#--#--#--#--#--#\n",
    "```"
   ]
  },
  {
   "cell_type": "code",
   "execution_count": null,
   "metadata": {
    "id": "POE6ONXxPiUh"
   },
   "outputs": [],
   "source": []
  },
  {
   "cell_type": "markdown",
   "metadata": {
    "id": "Z9b71fKcO-NP"
   },
   "source": [
    "* 【実習】全員の年齢の平均値を自分で計算する\n",
    "    * NumPy関数で計算した結果と同じになることを確認する"
   ]
  },
  {
   "cell_type": "markdown",
   "metadata": {
    "id": "sy2m3is_L2pC"
   },
   "source": [
    "```\n",
    "#--#--#--#--#--#--#--#--#--#--#--#--#--#--#--#--#--#--#--#\n",
    "np.sum(ages) / len(ages)\n",
    "#--#--#--#--#--#--#--#--#--#--#--#--#--#--#--#--#--#--#--#\n",
    "```"
   ]
  },
  {
   "cell_type": "code",
   "execution_count": null,
   "metadata": {
    "id": "BmmGqkl9PSjm"
   },
   "outputs": [],
   "source": []
  },
  {
   "cell_type": "markdown",
   "metadata": {
    "id": "VRll6mk9Pv6E"
   },
   "source": [
    "### 1.7 分散"
   ]
  },
  {
   "cell_type": "markdown",
   "metadata": {
    "id": "_8cgczAfP2lU"
   },
   "source": [
    "* 分散は「各データが平均値からどれほど離れているか」を表す指標\n",
    "* 「標本分散」と「不偏分散」の2つの定義があるが，本講義では「標本分散」を扱う"
   ]
  },
  {
   "cell_type": "markdown",
   "metadata": {
    "id": "fePHuAD0Ora-"
   },
   "source": [
    "* （標本）分散は下記の式で定義される\n",
    "    * 分散が大きいほど，各データが平均値から大きくズレていることを表す\n",
    "$$\\sigma^2 = \\frac{1}{N}\\sum_{i=1}^N (x_i - \\mu)^2$$\n",
    "        * $\\sigma^2$: 分散\n",
    "        * $N$: 標本数\n",
    "        * $\\mu$: 持っているデータの平均値\n",
    "        * $x_i$: データ\n",
    "    * 上記式の分母を$N-1$にすると不偏分散となる"
   ]
  },
  {
   "cell_type": "markdown",
   "metadata": {
    "id": "ddWBQhSTR6g7"
   },
   "source": [
    "* 【実習】年齢データの分散を計算する"
   ]
  },
  {
   "cell_type": "markdown",
   "metadata": {
    "id": "TT-weCVEPWEm"
   },
   "source": [
    "```\n",
    "#--#--#--#--#--#--#--#--#--#--#--#--#--#--#--#--#--#--#--#\n",
    "np.var(ages)\n",
    "#--#--#--#--#--#--#--#--#--#--#--#--#--#--#--#--#--#--#--#\n",
    "```"
   ]
  },
  {
   "cell_type": "code",
   "execution_count": null,
   "metadata": {
    "id": "rHvgsOPISJUy"
   },
   "outputs": [],
   "source": []
  },
  {
   "cell_type": "markdown",
   "metadata": {
    "id": "afWVDJfzkAxw"
   },
   "source": [
    "### 1.8 標準偏差"
   ]
  },
  {
   "cell_type": "markdown",
   "metadata": {
    "id": "suSPSwOkkDx-"
   },
   "source": [
    "* 分散の平方根\n",
    "    * 平方根を取ることで単位が元のデータと同じになる\n",
    "    * 分散として本講義では標本分散を使う（不偏分散を使うこともある）\n",
    "    * 数式で書くと以下のようになる\n",
    "$$\\sigma = \\sqrt{\\frac{1}{N}\\sum_{i=1}^N (x_i - \\mu)^2}$$\n",
    "        * $\\sigma$: 標準偏差\n",
    "        * $N$: 標本数\n",
    "        * $\\mu$: 持っているデータの平均値\n",
    "        * $x_i$: データ\n",
    "* 各データの平均値からのズレの大きさを表す指標\n",
    "* しばしばSDと表記される(英語だとStandard Deviationのため)\n"
   ]
  },
  {
   "cell_type": "markdown",
   "metadata": {
    "id": "I77SfovJnCP1"
   },
   "source": [
    "* 【実習】年齢データの標準偏差を求める\n",
    "    * 年齢データの平均値からのズレは10歳くらいであると言える"
   ]
  },
  {
   "cell_type": "markdown",
   "metadata": {
    "id": "CqXceTfbnJTd"
   },
   "source": [
    "```\n",
    "#--#--#--#--#--#--#--#--#--#--#--#--#--#--#--#--#--#--#--#\n",
    "np.std(ages)\n",
    "#--#--#--#--#--#--#--#--#--#--#--#--#--#--#--#--#--#--#--#\n",
    "```"
   ]
  },
  {
   "cell_type": "code",
   "execution_count": null,
   "metadata": {
    "id": "0lFKfJDWnQmX"
   },
   "outputs": [],
   "source": []
  },
  {
   "cell_type": "markdown",
   "metadata": {
    "id": "rWAe63-0lf0I"
   },
   "source": [
    "### 1.9 中央値"
   ]
  },
  {
   "cell_type": "markdown",
   "metadata": {
    "id": "p8pE25sHbeWe"
   },
   "source": [
    "* データを大きい順に並び替えた時に，真ん中にくるデータの値\n",
    "    * データ数が偶数の時は真ん中二つのデータの平均値となる"
   ]
  },
  {
   "cell_type": "markdown",
   "metadata": {
    "id": "3rNZeD5OuZax"
   },
   "source": [
    "* 【実習】年齢データの中央値を求める\n",
    "    * 真ん中の値は18と23なので，それらの平均値（20.5）になる"
   ]
  },
  {
   "cell_type": "markdown",
   "metadata": {
    "id": "GMu6Umz0UeQl"
   },
   "source": [
    "```\n",
    "#--#--#--#--#--#--#--#--#--#--#--#--#--#--#--#--#--#--#--#\n",
    "np.median(ages)\n",
    "#--#--#--#--#--#--#--#--#--#--#--#--#--#--#--#--#--#--#--#\n",
    "```"
   ]
  },
  {
   "cell_type": "code",
   "execution_count": null,
   "metadata": {
    "id": "ckKkActXui-q"
   },
   "outputs": [],
   "source": []
  },
  {
   "cell_type": "markdown",
   "metadata": {
    "id": "x6w52jtmEpf9"
   },
   "source": [
    "### 1.10 欠損値がある時の処理"
   ]
  },
  {
   "cell_type": "markdown",
   "metadata": {
    "id": "_jS2pO_3Eugd"
   },
   "source": [
    "* データ収集で一部のデータが入手できなかった場合など，一部のデータが欠落することがある．  \n",
    "このような欠落した値を欠損値という．\n",
    "* NumPyでは欠損値を`np.nan`と表す\n",
    "* NumPyでは欠損値を含んだNumPyアレイ(ndarray)に対する基本統計処理の関数が用意されている\n",
    "    * 従来の関数名の前に`nan`をつける\n",
    "\n",
    "| 統計値 | 欠損値なし | 欠損値あり |\n",
    "|-------------|--------------------|--------------------|\n",
    "| 最大値 | `max`         | `nanmax` |\n",
    "| 最小値 | `min`          | `nanmin`  |\n",
    "| 合計     | `sum`         | `nansum` |\n",
    "| 平均     | `mean`      | `nanmean` |\n",
    "| 分散     | `var`           | `nanvar`   |\n",
    "| 標準偏差 | `std`       | `nanstd`   |\n",
    "| 中央値 | `median`   | `nanmedian` |"
   ]
  },
  {
   "cell_type": "markdown",
   "metadata": {
    "id": "4OjG26o7HTXX"
   },
   "source": [
    "* 【実習】5つのバイトの時給はそれぞれ，1013, 790, 810, n/a, 1500である(n/aは入手不可; not available)．このデータについて，基本統計量を求める"
   ]
  },
  {
   "cell_type": "markdown",
   "metadata": {
    "id": "Mx7OGka2YXRc"
   },
   "source": [
    "```\n",
    "#--#--#--#--#--#--#--#--#--#--#--#--#--#--#--#--#--#--#--#\n",
    "pay = np.array([1013, 790, 810, np.nan, 1500])\n",
    "print(\"Max: \", np.nanmax(pay))\n",
    "print(\"Min: \", np.nanmin(pay))\n",
    "print(\"Sum: \", np.nansum(pay))\n",
    "print(\"Average: \", np.nanmean(pay))\n",
    "print(\"Var: \", np.nanvar(pay))\n",
    "print(\"SD: \", np.nanstd(pay))\n",
    "print(\"Median:\", np.nanmedian(pay))\n",
    "#--#--#--#--#--#--#--#--#--#--#--#--#--#--#--#--#--#--#--#\n",
    "```"
   ]
  },
  {
   "cell_type": "code",
   "execution_count": null,
   "metadata": {
    "id": "qA9sP4fnJsGL"
   },
   "outputs": [],
   "source": []
  },
  {
   "cell_type": "markdown",
   "metadata": {
    "id": "hgKwks5mc6-N"
   },
   "source": [
    "### 1.11 演習1（例題）"
   ]
  },
  {
   "cell_type": "markdown",
   "metadata": {
    "id": "WHw4eM8HdHHM"
   },
   "source": [
    "* 【実習】5人の数学のテストの点数は72, 65, 60, 81, 78だった．この時，5人の平均点，標準偏差，中央値を求めよ．"
   ]
  },
  {
   "cell_type": "markdown",
   "metadata": {
    "id": "4w69R9HpcBod"
   },
   "source": [
    "```\n",
    "#--#--#--#--#--#--#--#--#--#--#--#--#--#--#--#--#--#--#--#\n",
    "score_math = np.array([72, 65, 60, 81, 78])\n",
    "print(\"Average:\", np.mean(score_math))\n",
    "print(\"SD:\", np.std(score_math))\n",
    "print(\"Median:\", np.median(score_math))\n",
    "#--#--#--#--#--#--#--#--#--#--#--#--#--#--#--#--#--#--#--#\n",
    "```"
   ]
  },
  {
   "cell_type": "code",
   "execution_count": null,
   "metadata": {
    "id": "NoytLETzd4a9"
   },
   "outputs": [],
   "source": []
  },
  {
   "cell_type": "markdown",
   "metadata": {
    "id": "SPcMqzLugaFT"
   },
   "source": [
    "### 1.12 演習2"
   ]
  },
  {
   "cell_type": "markdown",
   "metadata": {
    "id": "AfmdltrFgdlh"
   },
   "source": [
    "* 【実習】5人の英語のテストの点数は28, 96, 40, 70, 52だった．この時，5人の平均点，標準偏差，中央値を求めよ．\n",
    "    * プログラミングする前に，標準偏差が演習1に比べて大きくなるか小さくなるかを予想してみよう"
   ]
  },
  {
   "cell_type": "code",
   "execution_count": null,
   "metadata": {
    "id": "oWDSXuNIgrSq"
   },
   "outputs": [],
   "source": []
  },
  {
   "cell_type": "markdown",
   "metadata": {
    "id": "D2KMEicfhu1p"
   },
   "source": [
    "### 1.13 演習3"
   ]
  },
  {
   "cell_type": "markdown",
   "metadata": {
    "id": "mmNOQx3Fh0or"
   },
   "source": [
    "* 【実習】5人の歴史のテストの点数は100, 100, 100, 100, 100だった．この時，5人の平均点，標準偏差，中央値を求めよ．\n",
    "    * プログラミングする前に，それぞれの値がいくつになるかを予想してみよう"
   ]
  },
  {
   "cell_type": "code",
   "execution_count": null,
   "metadata": {
    "id": "FF-5pk8HiBk3"
   },
   "outputs": [],
   "source": []
  },
  {
   "cell_type": "markdown",
   "metadata": {
    "id": "T4R0gjL_ianz"
   },
   "source": [
    "### 1.14 演習4"
   ]
  },
  {
   "cell_type": "markdown",
   "metadata": {
    "id": "keyY9Wc6idcI"
   },
   "source": [
    "* 【実習】5人の経済のテストの点数は8, 4, 9, 95, 7だった．この時，5人の平均点，標準偏差，中央値を求めよ．\n",
    "    * プログラミングする前に平均値と中央値のどちらが大きい値になるかを予想してみよう"
   ]
  },
  {
   "cell_type": "code",
   "execution_count": null,
   "metadata": {
    "id": "Gz8hcm57i0Tj"
   },
   "outputs": [],
   "source": []
  },
  {
   "cell_type": "markdown",
   "metadata": {
    "id": "gppVsuUzjjTb"
   },
   "source": [
    "### 1.15 演習3,4まとめ"
   ]
  },
  {
   "cell_type": "markdown",
   "metadata": {
    "id": "7rw16sNSjm4V"
   },
   "source": [
    "* すべてのデータが同じ値の時，標準偏差は0になる\n",
    "* 一部の値のみ極端に大きい場合，平均値はそれに引っ張られて大きくなるが，中央値は変わらない"
   ]
  },
  {
   "cell_type": "markdown",
   "metadata": {
    "id": "ApR78tTGNv34"
   },
   "source": [
    "### 1.16 演習5"
   ]
  },
  {
   "cell_type": "markdown",
   "metadata": {
    "id": "eFRhQ2a7NzL7"
   },
   "source": [
    "* 【実習】5人の地理のテストの点数は79, n/a, 85, 95, n/aだった（2名は未受験）．この時，受験者の最高点，最低点，平均点を求めよ．"
   ]
  },
  {
   "cell_type": "code",
   "execution_count": null,
   "metadata": {
    "id": "fORovXGaOUiM"
   },
   "outputs": [],
   "source": []
  },
  {
   "cell_type": "markdown",
   "metadata": {
    "id": "pFwTnt6gxmHe"
   },
   "source": [
    "## 第2章 pandasを用いた多変量データ解析"
   ]
  },
  {
   "cell_type": "markdown",
   "metadata": {
    "id": "IUzee88kzADa"
   },
   "source": [
    "### 2.1 整然データ"
   ]
  },
  {
   "cell_type": "markdown",
   "metadata": {
    "id": "LAPCYDykyCEs"
   },
   "source": [
    "* 1つのサンプルが複数の変数を持つ時の統計を扱う\n",
    "* 以下のような形式のデータを整然データ（tidy data）と呼ぶ．\n",
    "    * 1つの行は1つのサンプルを表す\n",
    "    * 1つの列は1つの変数を表す\n",
    "* 整然データの例（ある高校の生徒数）\n",
    "\n",
    "| 学年     | 学科       | 生徒数        |\n",
    "|-------------|--------------|--------------------|\n",
    "| 1年       | 普通科   | 121              |\n",
    "| 1年       | 理数科   | 40                |\n",
    "| 2年       | 普通科   | 119             |\n",
    "| 2年       | 理数科   | 39                |\n",
    "| 3年       | 普通科   | 120              |\n",
    "| 3年       | 理数科   | 41                |\n",
    "\n",
    "* 整然データでない例\n",
    "\n",
    "| 生徒数  | 普通科   | 理数科      |\n",
    "|--------------|--------------|-----------------|\n",
    "| **1年** | 121        | 40              |\n",
    "| **2年** | 119        | 39              |\n",
    "| **3年** | 120        | 41              |\n",
    "\n",
    "\n",
    "* データが整然データの形式になっていると解析がしやすくなる\n",
    "* 整然データの形式になっていないデータは，まず整然データの形式に変換してから解析する\n",
    "* 整然データ形式でないデータ形式で保存されるデータを雑然データ（messy data）と呼ぶ\n",
    "* [整然データとは何か](https://id.fnshr.info/2017/01/09/tidy-data-intro/)\n"
   ]
  },
  {
   "cell_type": "markdown",
   "metadata": {
    "id": "cHR8Ii5Y3bD3"
   },
   "source": [
    "### 2.2 pandasによる多変量データ管理"
   ]
  },
  {
   "cell_type": "markdown",
   "metadata": {
    "id": "IRGvy2WFk0DW"
   },
   "source": [
    "* 整然データを扱う際はpandasパッケージを使うのが便利\n",
    "    * Dataframeと呼ばれるデータ構造に解析したいデータを読み込んで使用する\n",
    "    * [pandas.Dataframe](https://pandas.pydata.org/pandas-docs/version/0.23.4/generated/pandas.DataFrame.html)\n",
    "    * pandasでは2次元データはDataframe，1次元データはSeriesというデータ構造を使用する\n",
    "    * [Python用データ分析ライブラリ「pandas」の読み方(発音)](https://shirabeta.net/How-to-pronounce-pandas.html)"
   ]
  },
  {
   "cell_type": "markdown",
   "metadata": {
    "id": "TVA9X2FiKcQe"
   },
   "source": [
    "* 日本の5都市の2018年1月と8月の気象データを解析してみる\n",
    "    * 気象庁 | [過去の気象データ](https://www.data.jma.go.jp/gmd/risk/obsdl/)\n",
    "\n",
    "| 都市名 | 月 | 日照時間(時間)  | 降水量(mm) | 日最低気温0℃未満日数(日) | 日最高気温30℃以上日数(日) |  最高気温(℃) | 最低気温(℃) |\n",
    "|-------------|-----|---------------------------|----------------------|-------------------------------------------------|-------------------------------------------------|-----------------------|-----------------------|\n",
    "| 八戸      | 1月     | 141.3 |   14.0 | 28 |   0 |   9.3 |  -9.6 |\n",
    "| 八戸      | 8月     | 146.6 | 239.5 |   0 |   6 | 34.0 | 13.0 |\n",
    "| 仙台      | 1月     | 158.4 |   50.0 | 26 |   0 | 12.2 |  -6.7 |\n",
    "| 仙台      | 8月     | 161.8 | 272.5 |   0 | 14 | 37.3 | 15.7 |\n",
    "| 東京      | 1月     | 206.1 | 48.5   | 13 |   0 | 16.0 |  -4.0 |\n",
    "| 東京      | 8月     | 217.4 | 86.5   |   0 | 25 | 37.3 | 18.3 |\n",
    "| 大阪      | 1月     | 172.7 | 51.5   |   8 |   0 | 14.9 |  -2.5 |\n",
    "| 大阪      | 8月     | 260.7 | 41.5   |   0 | 31 | 37.6 | 19.9 |\n",
    "| 那覇      | 1月     |   74.9 | 150.5 |   0 |   0 | 24.1 |   9.3 |\n",
    "| 那覇      | 8月     | 203.4 | 310    |   0 | 27 | 32.4 | 24.2 |\n",
    "\n"
   ]
  },
  {
   "cell_type": "markdown",
   "metadata": {
    "id": "Xm5ipy88lHV5"
   },
   "source": [
    "* 【実習】pandasとNumPyを読み込む\n",
    "    * pandasには`pd`という名前をつけるのが慣習となっている"
   ]
  },
  {
   "cell_type": "markdown",
   "metadata": {
    "id": "tAky02xOPWR4"
   },
   "source": [
    "```\n",
    "#--#--#--#--#--#--#--#--#--#--#--#--#--#--#--#--#--#--#--#\n",
    "import pandas as pd\n",
    "import numpy as np\n",
    "#--#--#--#--#--#--#--#--#--#--#--#--#--#--#--#--#--#--#--#\n",
    "```"
   ]
  },
  {
   "cell_type": "code",
   "execution_count": null,
   "metadata": {
    "id": "UY52B6z6iDum"
   },
   "outputs": [],
   "source": []
  },
  {
   "cell_type": "markdown",
   "metadata": {
    "id": "QbX7QjzjksVy"
   },
   "source": [
    "* 【実習】5都市の気象データをデータフレームに格納する（ソースをコピペして良い）\n",
    "    * 列ごとにデータを用意し最後に結合する"
   ]
  },
  {
   "cell_type": "markdown",
   "metadata": {
    "id": "hk_egAiJPWU_"
   },
   "source": [
    "```\n",
    "#--#--#--#--#--#--#--#--#--#--#--#--#--#--#--#--#--#--#--#\n",
    "name = [\"八戸\", \"八戸\", \"仙台\", \"仙台\", \"東京\", \"東京\", \"大阪\", \"大阪\", \"那覇\", \"那覇\"]\n",
    "month = [\"1月\", \"8月\", \"1月\", \"8月\", \"1月\", \"8月\", \"1月\", \"8月\", \"1月\", \"8月\"]\n",
    "sunshine = [141.3, 146.6, 158.4, 161.8, 206.1, 217.4, 172.7, 260.7, 74.9, 203.4]\n",
    "rainfall = [14.0, 239.5, 50.0, 272.5, 48.5, 86.5, 51.5, 41.5, 150.5, 310]\n",
    "under0 = [28, 0, 26, 0, 13, 0, 8, 0, 0, 0]\n",
    "over30 = [0, 6, 0, 14, 0, 25, 0, 31, 0, 27]\n",
    "max_temp = [9.3, 34.0, 12.2, 37.3, 16.0, 37.3, 14.9, 37.6, 24.1, 32.4]\n",
    "min_temp = [-9.6, 13.0, -6.7, 15.7, -4.0, 18.3, -2.5, 19.9, 9.3, 24.2]\n",
    "df = pd.DataFrame(\n",
    "    {\"name\" : name, \"month\" : month, \"sunshine\" : sunshine, \"rainfall\" : rainfall, \n",
    "     \"under0\" : under0, \"over30\" : over30, \"max_temp\" : max_temp, \"min_temp\" : min_temp})\n",
    "df\n",
    "#--#--#--#--#--#--#--#--#--#--#--#--#--#--#--#--#--#--#--#\n",
    "```"
   ]
  },
  {
   "cell_type": "code",
   "execution_count": null,
   "metadata": {
    "id": "-SM9zMtCybcX"
   },
   "outputs": [],
   "source": []
  },
  {
   "cell_type": "markdown",
   "metadata": {
    "id": "LdbjwrJLV0x7"
   },
   "source": [
    "* 【実習】気象データの先頭だけ表示する"
   ]
  },
  {
   "cell_type": "markdown",
   "metadata": {
    "id": "_QY8rZMLYpHe"
   },
   "source": [
    "```\n",
    "#--#--#--#--#--#--#--#--#--#--#--#--#--#--#--#--#--#--#--#\n",
    "df.head()\n",
    "#--#--#--#--#--#--#--#--#--#--#--#--#--#--#--#--#--#--#--#\n",
    "```"
   ]
  },
  {
   "cell_type": "code",
   "execution_count": null,
   "metadata": {
    "id": "_k_y-3IAXxq3"
   },
   "outputs": [],
   "source": []
  },
  {
   "cell_type": "markdown",
   "metadata": {
    "id": "vf7PC7GnYBlf"
   },
   "source": [
    "【実習】気象データの先頭3行だけ表示する"
   ]
  },
  {
   "cell_type": "markdown",
   "metadata": {
    "id": "1HiH0fLjYqJ_"
   },
   "source": [
    "```\n",
    "#--#--#--#--#--#--#--#--#--#--#--#--#--#--#--#--#--#--#--#\n",
    "df.head(3)\n",
    "#--#--#--#--#--#--#--#--#--#--#--#--#--#--#--#--#--#--#--#\n",
    "```"
   ]
  },
  {
   "cell_type": "code",
   "execution_count": null,
   "metadata": {
    "id": "hOBB0_lVYDhX"
   },
   "outputs": [],
   "source": []
  },
  {
   "cell_type": "markdown",
   "metadata": {
    "id": "pA0_m-c6YHdA"
   },
   "source": [
    "【実習】気象データの末尾だけ表示する"
   ]
  },
  {
   "cell_type": "markdown",
   "metadata": {
    "id": "W7oaqroJYq9F"
   },
   "source": [
    "```\n",
    "#--#--#--#--#--#--#--#--#--#--#--#--#--#--#--#--#--#--#--#\n",
    "df.tail()\n",
    "#--#--#--#--#--#--#--#--#--#--#--#--#--#--#--#--#--#--#--#\n",
    "```"
   ]
  },
  {
   "cell_type": "code",
   "execution_count": null,
   "metadata": {
    "id": "LvwkcmEMYJf4"
   },
   "outputs": [],
   "source": []
  },
  {
   "cell_type": "markdown",
   "metadata": {
    "id": "Bhk0-C8-5QZo"
   },
   "source": [
    "* 【実習】データフレームの概要を確認する\n",
    "    * 行数，列数，各列の型，欠損値の数がわかる"
   ]
  },
  {
   "cell_type": "markdown",
   "metadata": {
    "id": "taLh4V_UYsNB"
   },
   "source": [
    "```\n",
    "#--#--#--#--#--#--#--#--#--#--#--#--#--#--#--#--#--#--#--#\n",
    "df.info()\n",
    "#--#--#--#--#--#--#--#--#--#--#--#--#--#--#--#--#--#--#--#\n",
    "```"
   ]
  },
  {
   "cell_type": "code",
   "execution_count": null,
   "metadata": {
    "id": "1mT6j8MO5XjO"
   },
   "outputs": [],
   "source": []
  },
  {
   "cell_type": "markdown",
   "metadata": {
    "id": "CYHYe-O6dO0A"
   },
   "source": [
    "### 2.3 データから一部分を取り出す処理"
   ]
  },
  {
   "cell_type": "markdown",
   "metadata": {
    "id": "XguWye67Gnnf"
   },
   "source": [
    "* 詳細は[pandasドキュメント](https://pandas.pydata.org/pandas-docs/version/0.23.4/indexing.html#indexing)参照\n",
    "* 特定の列を取り出す際は`df[列ラベル]`とする"
   ]
  },
  {
   "cell_type": "markdown",
   "metadata": {
    "id": "XHxMw1EMD0G8"
   },
   "source": [
    "* 【実習】気象データから最高気温の列を取り出す\n",
    "    * この方法で取り出すとpandasのSeriesデータ（1次元用のデータ構造）として取り出される"
   ]
  },
  {
   "cell_type": "markdown",
   "metadata": {
    "id": "CEfgnP_rYtZ7"
   },
   "source": [
    "```\n",
    "#--#--#--#--#--#--#--#--#--#--#--#--#--#--#--#--#--#--#--#\n",
    "df[\"max_temp\"]\n",
    "#--#--#--#--#--#--#--#--#--#--#--#--#--#--#--#--#--#--#--#\n",
    "```\n"
   ]
  },
  {
   "cell_type": "code",
   "execution_count": null,
   "metadata": {
    "id": "bw63nUZc87Ga"
   },
   "outputs": [],
   "source": []
  },
  {
   "cell_type": "markdown",
   "metadata": {
    "id": "UHRRHmka9ejx"
   },
   "source": [
    "* 【実習】気象データから最高気温の列をNumPyアレイ（ndarray）として取り出す"
   ]
  },
  {
   "cell_type": "markdown",
   "metadata": {
    "id": "PuZ08hYzYu29"
   },
   "source": [
    "```\n",
    "#--#--#--#--#--#--#--#--#--#--#--#--#--#--#--#--#--#--#--#\n",
    "print(type(df[\"max_temp\"].values))  # 動作確認用\n",
    "df[\"max_temp\"].values\n",
    "#--#--#--#--#--#--#--#--#--#--#--#--#--#--#--#--#--#--#--#\n",
    "```"
   ]
  },
  {
   "cell_type": "code",
   "execution_count": null,
   "metadata": {
    "id": "Fv7spXxm9kqv"
   },
   "outputs": [],
   "source": []
  },
  {
   "cell_type": "markdown",
   "metadata": {
    "id": "FNow7HxXG8tn"
   },
   "source": [
    "* 複数の列をデータフレームとして取り出す際は`df[列ラベルのリスト]`とする"
   ]
  },
  {
   "cell_type": "markdown",
   "metadata": {
    "id": "tmyYGveH2B-X"
   },
   "source": [
    "* 【実習】気象データから最高気温と最低気温の列を取り出す"
   ]
  },
  {
   "cell_type": "markdown",
   "metadata": {
    "id": "Vg9dk_SiYxG6"
   },
   "source": [
    "```\n",
    "#--#--#--#--#--#--#--#--#--#--#--#--#--#--#--#--#--#--#--#\n",
    "df[[\"max_temp\", \"min_temp\"]]\n",
    "#--#--#--#--#--#--#--#--#--#--#--#--#--#--#--#--#--#--#--#\n",
    "```\n"
   ]
  },
  {
   "cell_type": "code",
   "execution_count": null,
   "metadata": {
    "id": "d2a9A4UfeNPs"
   },
   "outputs": [],
   "source": []
  },
  {
   "cell_type": "markdown",
   "metadata": {
    "id": "dwEkHUiFE0kb"
   },
   "source": [
    "* Dataframeから行と列を指定してデータを取り出すには`df.loc[行ラベル,列ラベル]`とする\n",
    "    * ラベルの代わりにラベルのリストでも良い\n",
    "    * スライスも使えるが通常のスライスとは仕様が異なるので注意すること\n",
    "        * 「開始ラベル : 最終ラベル」と指定すると開始ラベルから最終ラベルまで（終了ラベル含む）が選択される"
   ]
  },
  {
   "cell_type": "markdown",
   "metadata": {
    "id": "ZEO4ekPGJ9w9"
   },
   "source": [
    "* 【実習】気象データから行ラベル1，列ラベルnameの要素を取り出す"
   ]
  },
  {
   "cell_type": "markdown",
   "metadata": {
    "id": "dTvSMKncYyPO"
   },
   "source": [
    "```\n",
    "#--#--#--#--#--#--#--#--#--#--#--#--#--#--#--#--#--#--#--#\n",
    "df.loc[1,\"name\"]\n",
    "#--#--#--#--#--#--#--#--#--#--#--#--#--#--#--#--#--#--#--#\n",
    "```"
   ]
  },
  {
   "cell_type": "code",
   "execution_count": null,
   "metadata": {
    "id": "anOsRnRNKNFm"
   },
   "outputs": [],
   "source": []
  },
  {
   "cell_type": "markdown",
   "metadata": {
    "id": "F4Hitkq6KY7c"
   },
   "source": [
    "* 行全体を取り出すには列の指定を「:」にする"
   ]
  },
  {
   "cell_type": "markdown",
   "metadata": {
    "id": "5Nkt5ISTK7Ud"
   },
   "source": [
    "* 【実習】行ラベルが1の行を取り出す"
   ]
  },
  {
   "cell_type": "markdown",
   "metadata": {
    "id": "l0WKZWHfYzl6"
   },
   "source": [
    "```\n",
    "#--#--#--#--#--#--#--#--#--#--#--#--#--#--#--#--#--#--#--#\n",
    "df.loc[1,:]\n",
    "#--#--#--#--#--#--#--#--#--#--#--#--#--#--#--#--#--#--#--#\n",
    "```"
   ]
  },
  {
   "cell_type": "code",
   "execution_count": null,
   "metadata": {
    "id": "IAQyKiu4LGh8"
   },
   "outputs": [],
   "source": []
  },
  {
   "cell_type": "markdown",
   "metadata": {
    "id": "L1u--vVSLtwU"
   },
   "source": [
    "* 【実習】行ラベルが1と3の行を取り出す"
   ]
  },
  {
   "cell_type": "markdown",
   "metadata": {
    "id": "uFQew4PuY0fw"
   },
   "source": [
    "```\n",
    "#--#--#--#--#--#--#--#--#--#--#--#--#--#--#--#--#--#--#--#\n",
    "df.loc[[1,3],:]\n",
    "#--#--#--#--#--#--#--#--#--#--#--#--#--#--#--#--#--#--#--#\n",
    "```"
   ]
  },
  {
   "cell_type": "code",
   "execution_count": null,
   "metadata": {
    "id": "ms2WiNNELzyF"
   },
   "outputs": [],
   "source": []
  },
  {
   "cell_type": "markdown",
   "metadata": {
    "id": "5u6Ih7pLMXiv"
   },
   "source": [
    "* 指定条件を満たす行のみを取り出すことができる\n",
    "    * 正確には，Dataframeに論理値からなるリストを渡すことで値がTrueの行のみを取り出すことができる"
   ]
  },
  {
   "cell_type": "markdown",
   "metadata": {
    "id": "HF4gHqjBMgmB"
   },
   "source": [
    "* 【実習】nameが八戸の行のみを取り出す"
   ]
  },
  {
   "cell_type": "markdown",
   "metadata": {
    "id": "t_0yGc0wY1eG"
   },
   "source": [
    "```\n",
    "#--#--#--#--#--#--#--#--#--#--#--#--#--#--#--#--#--#--#--#\n",
    "print(df[\"name\"] == \"八戸\") # 動作確認用\n",
    "df[df[\"name\"] == \"八戸\"]\n",
    "#--#--#--#--#--#--#--#--#--#--#--#--#--#--#--#--#--#--#--#\n",
    "```"
   ]
  },
  {
   "cell_type": "code",
   "execution_count": null,
   "metadata": {
    "id": "6XvmZ0_W-Dmi"
   },
   "outputs": [],
   "source": []
  },
  {
   "cell_type": "markdown",
   "metadata": {
    "id": "Q23-iGbuNl0a"
   },
   "source": [
    "* 【実習】最低気温がマイナスになっている行のみを取り出す"
   ]
  },
  {
   "cell_type": "markdown",
   "metadata": {
    "id": "WNATe6BoY2Xi"
   },
   "source": [
    "```\n",
    "#--#--#--#--#--#--#--#--#--#--#--#--#--#--#--#--#--#--#--#\n",
    "df[df[\"min_temp\"] < 0]\n",
    "#--#--#--#--#--#--#--#--#--#--#--#--#--#--#--#--#--#--#--#\n",
    "```\n"
   ]
  },
  {
   "cell_type": "code",
   "execution_count": null,
   "metadata": {
    "id": "_qB9XX-TA44e"
   },
   "outputs": [],
   "source": []
  },
  {
   "cell_type": "markdown",
   "metadata": {
    "id": "QUOV38ECnwVd"
   },
   "source": [
    "### 2.4 各列に対する統計量の計算"
   ]
  },
  {
   "cell_type": "markdown",
   "metadata": {
    "id": "7He-iz_DaVc4"
   },
   "source": [
    "* pandasでもNumPyと同様の統計量計算関数が用意されている\n",
    "    * 標準の関数名を使うと，デフォルトで欠損値が無視される"
   ]
  },
  {
   "cell_type": "markdown",
   "metadata": {
    "id": "XmYe5J9Fq4j2"
   },
   "source": [
    "* 【実習】データフレームの各列について平均をとる\n",
    "    * NumPyと同名の関数`mean`が使える\n",
    "    * 文字データ等の平均は算出されない"
   ]
  },
  {
   "cell_type": "markdown",
   "metadata": {
    "id": "B-D63sT3PWYf"
   },
   "source": [
    "```\n",
    "#--#--#--#--#--#--#--#--#--#--#--#--#--#--#--#--#--#--#--#\n",
    "df.mean()\n",
    "#--#--#--#--#--#--#--#--#--#--#--#--#--#--#--#--#--#--#--#\n",
    "```"
   ]
  },
  {
   "cell_type": "code",
   "execution_count": null,
   "metadata": {
    "id": "D4GsKx2FqA3u"
   },
   "outputs": [],
   "source": []
  },
  {
   "cell_type": "markdown",
   "metadata": {
    "id": "gO5sXHP0uzPt"
   },
   "source": [
    "* 【実習】データフレームの各列について各種統計量を計算する\n",
    "    * 文字データ等の統計量は算出されない"
   ]
  },
  {
   "cell_type": "markdown",
   "metadata": {
    "id": "FU4AJEcFPWfP"
   },
   "source": [
    "```\n",
    "#--#--#--#--#--#--#--#--#--#--#--#--#--#--#--#--#--#--#--#\n",
    "df.describe()\n",
    "#--#--#--#--#--#--#--#--#--#--#--#--#--#--#--#--#--#--#--#\n",
    "```"
   ]
  },
  {
   "cell_type": "code",
   "execution_count": null,
   "metadata": {
    "id": "DcTmUgtVuuB-"
   },
   "outputs": [],
   "source": []
  },
  {
   "cell_type": "markdown",
   "metadata": {
    "id": "BflOLFhRlnV8"
   },
   "source": [
    "### 2.5 グループ別の統計量"
   ]
  },
  {
   "cell_type": "markdown",
   "metadata": {
    "id": "gRQKeZeY4HaM"
   },
   "source": [
    "* 上記において，1月と8月は分けて解析したい\n",
    "    * 特定条件（今回は月）でデータをグループ化することができる"
   ]
  },
  {
   "cell_type": "markdown",
   "metadata": {
    "id": "QNJoqgVT6xqm"
   },
   "source": [
    "* 【実習】気象データを月ごとにグループ化し，グループ一覧を表示する"
   ]
  },
  {
   "cell_type": "markdown",
   "metadata": {
    "id": "Myhyg8Pq7DQH"
   },
   "source": [
    "```\n",
    "#--#--#--#--#--#--#--#--#--#--#--#--#--#--#--#--#--#--#--#\n",
    "g = df.groupby(\"month\")\n",
    "g.groups\n",
    "#--#--#--#--#--#--#--#--#--#--#--#--#--#--#--#--#--#--#--#\n",
    "```"
   ]
  },
  {
   "cell_type": "code",
   "execution_count": null,
   "metadata": {
    "id": "iE24M65m7Mcj"
   },
   "outputs": [],
   "source": []
  },
  {
   "cell_type": "markdown",
   "metadata": {
    "id": "2oh51_lQ8JWX"
   },
   "source": [
    "* 【実習】グループ数をチェックする"
   ]
  },
  {
   "cell_type": "markdown",
   "metadata": {
    "id": "jcEO3EvE8QHl"
   },
   "source": [
    "```\n",
    "#--#--#--#--#--#--#--#--#--#--#--#--#--#--#--#--#--#--#--#\n",
    "len(g.groups)\n",
    "#--#--#--#--#--#--#--#--#--#--#--#--#--#--#--#--#--#--#--#\n",
    "```"
   ]
  },
  {
   "cell_type": "code",
   "execution_count": null,
   "metadata": {
    "id": "jGRCPOVY8T9S"
   },
   "outputs": [],
   "source": []
  },
  {
   "cell_type": "markdown",
   "metadata": {
    "id": "kCThN3RN7gzw"
   },
   "source": [
    "* 【実習】グループ化された気象データから1月のデータのみを取り出す"
   ]
  },
  {
   "cell_type": "markdown",
   "metadata": {
    "id": "BkqvViZi708Q"
   },
   "source": [
    "```\n",
    "#--#--#--#--#--#--#--#--#--#--#--#--#--#--#--#--#--#--#--#\n",
    "g.get_group(\"1月\")\n",
    "#--#--#--#--#--#--#--#--#--#--#--#--#--#--#--#--#--#--#--#\n",
    "```"
   ]
  },
  {
   "cell_type": "code",
   "execution_count": null,
   "metadata": {
    "id": "CGlmbnI64mvJ"
   },
   "outputs": [],
   "source": []
  },
  {
   "cell_type": "markdown",
   "metadata": {
    "id": "Cvawpixo9D8c"
   },
   "source": [
    "* 【実習】月ごとに各列の平均値を求める"
   ]
  },
  {
   "cell_type": "markdown",
   "metadata": {
    "id": "QSwfmRB39K5A"
   },
   "source": [
    "```\n",
    "#--#--#--#--#--#--#--#--#--#--#--#--#--#--#--#--#--#--#--#\n",
    "g.mean()\n",
    "#--#--#--#--#--#--#--#--#--#--#--#--#--#--#--#--#--#--#--#\n",
    "```"
   ]
  },
  {
   "cell_type": "code",
   "execution_count": null,
   "metadata": {
    "id": "pdUa1dmzmT6K"
   },
   "outputs": [],
   "source": []
  },
  {
   "cell_type": "markdown",
   "metadata": {
    "id": "NYKXVDLA9c3c"
   },
   "source": [
    "* 【実習】月ごとに各列の各種統計量を計算する"
   ]
  },
  {
   "cell_type": "markdown",
   "metadata": {
    "id": "kJ6_DaG5PWia"
   },
   "source": [
    "```\n",
    "#--#--#--#--#--#--#--#--#--#--#--#--#--#--#--#--#--#--#--#\n",
    "g.describe()\n",
    "#--#--#--#--#--#--#--#--#--#--#--#--#--#--#--#--#--#--#--#\n",
    "```"
   ]
  },
  {
   "cell_type": "code",
   "execution_count": null,
   "metadata": {
    "id": "RRNmAyg1xBTg"
   },
   "outputs": [],
   "source": []
  },
  {
   "cell_type": "markdown",
   "metadata": {
    "id": "nv02nhc72_5o"
   },
   "source": [
    "### 2.6 共分散と分散共分散行列"
   ]
  },
  {
   "cell_type": "markdown",
   "metadata": {
    "id": "WsyTtYeADSUP"
   },
   "source": [
    "* 二つの変数の関係性をみるために使われる統計量で，ざっくりとは下記の値をとる\n",
    "    * 正の値：片方の値が大きくなるともう片方も大きくなる傾向\n",
    "    * 負の値：片方の値が大きくなるともう片方は小さくなる傾向\n",
    "    * 0: 変数同士に関係性が見られない\n",
    "* 分散と同様，値の大きさについては解釈しづらい\n",
    "    "
   ]
  },
  {
   "cell_type": "markdown",
   "metadata": {
    "id": "p-4tz5BlUgYG"
   },
   "source": [
    "* 変数$\\boldsymbol{x}=\\begin{bmatrix} x_1 \\\\ \\vdots \\\\ x_N \\end{bmatrix}$と変数$\\boldsymbol{y}=\\begin{bmatrix} y_1 \\\\ \\vdots \\\\ y_N \\end{bmatrix}$の共分散は下記の式で定義される\n",
    "    * $\\mathrm{Cov}(\\boldsymbol{x}, \\boldsymbol{y}) = \\frac{1}{N}\\sum_{i=1}^N (x_i - \\mu_x)(y_i - \\mu_y)$\n",
    "        * $\\mathrm{Cov}(\\boldsymbol{x},\\boldsymbol{y})$: $\\boldsymbol{x}$と$\\boldsymbol{y}$の共分散\n",
    "        * $\\mu_x$: 変数$\\boldsymbol{x}$の平均値\n",
    "        * $\\mu_y$: 変数$\\boldsymbol{y}$の平均値"
   ]
  },
  {
   "cell_type": "markdown",
   "metadata": {
    "id": "vgsd118bjWOA"
   },
   "source": [
    "* 分散共分散行列：以下のように分散と共分散を一つの行列で表したもの\n",
    "    * 以下，3種類のデータ$x,y,z$の分散共分散行列\n",
    "$$\\mathrm{Cov}=\\begin{bmatrix}\n",
    "\\sigma_x^2 & \\mathrm{Cov}(x,y) & \\mathrm{Cov}(x,z) \\\\\n",
    "\\mathrm{Cov}(x,y) & \\sigma_y^2 & \\mathrm{Cov}(y,z) \\\\\n",
    "\\mathrm{Cov}(x,z) & \\mathrm{Cov}(y,z) & \\sigma_z^2\\\\\n",
    "\\end{bmatrix}  $$\n",
    "    * 記号\n",
    "        * $\\mathrm{Cov}$: 分散共分散行列\n",
    "        * $\\sigma_x^2$: 変数$x$の分散\n",
    "        * $\\mathrm{Cov}(x,y)$: 変数$x$と変数$y$の共分散"
   ]
  },
  {
   "cell_type": "markdown",
   "metadata": {
    "id": "ljvlKJoHEynx"
   },
   "source": [
    "* 【実習】共分散を図解する（コードをコピペして実行すること）"
   ]
  },
  {
   "cell_type": "markdown",
   "metadata": {
    "id": "dBSjb920PWsN"
   },
   "source": [
    "```\n",
    "#--#--#--#--#--#--#--#--#--#--#--#--#--#--#--#--#--#--#--#\n",
    "import numpy as np\n",
    "import matplotlib.pyplot as plt\n",
    "%matplotlib inline\n",
    "\n",
    "mean = np.array([0, 0]) # 平均を指定。\n",
    "cor = [-1, -0.8, 0, 0.8, 1]\n",
    "\n",
    "plt.figure(figsize=(16, 3))\n",
    "plt.axes().set_aspect('equal')\n",
    "for i in range(len(cor)):\n",
    "    cov = np.array([[1, cor[i]], [cor[i], 1]])\n",
    "    x, y = np.random.multivariate_normal(mean, cov, 2000).T\n",
    "    plt.subplot(1, 5, i+1)\n",
    "    plt.title(\"Negative\" if i == 0 else \"0\" if i == 2 else \"Positive\" if i == 4 else \"\")\n",
    "    plt.plot(x, y, 'x')\n",
    "    plt.axis(\"equal\")\n",
    "    plt.grid(which=\"major\")\n",
    "plt.show()\n",
    "#--#--#--#--#--#--#--#--#--#--#--#--#--#--#--#--#--#--#--#\n",
    "```"
   ]
  },
  {
   "cell_type": "code",
   "execution_count": null,
   "metadata": {
    "id": "Ysj6Mrum9HC2"
   },
   "outputs": [],
   "source": []
  },
  {
   "cell_type": "markdown",
   "metadata": {
    "id": "jYSmSMhoU2Vc"
   },
   "source": [
    "### 2.7 相関係数と相関行列"
   ]
  },
  {
   "cell_type": "markdown",
   "metadata": {
    "id": "ut4vX1IMU6XC"
   },
   "source": [
    "* 共分散を最大値1，最小値-1になるように標準化したもの\n",
    "    * 正の値：２つの変数に正の相関がある（最大値1）\n",
    "    * 負の値：２つの変数に負の相関がある（最小値-1）\n",
    "    * 0: 変数間に相関がない"
   ]
  },
  {
   "cell_type": "markdown",
   "metadata": {
    "id": "AkjCe6mWpzrR"
   },
   "source": [
    "* 変数$\\boldsymbol{x}=\\begin{bmatrix} x_1 \\\\ \\vdots \\\\ x_N \\end{bmatrix}$と変数$\\boldsymbol{y}=\\begin{bmatrix} y_1 \\\\ \\vdots \\\\ y_N \\end{bmatrix}$の相関係数は下記の式で定義される\n",
    "    * $\\rho_{\\boldsymbol{x}\\boldsymbol{y}} = \\frac{\\mathrm{Cov}(\\boldsymbol{x}, \\boldsymbol{y})}{\\sigma_x^2 \\sigma_y^2}$\n",
    "        * $\\rho_{\\boldsymbol{x}\\boldsymbol{y}}$: $\\boldsymbol{x}$と$\\boldsymbol{y}$の相関係数\n",
    "        * $\\mathrm{Cov}(\\boldsymbol{x},\\boldsymbol{y})$: $\\boldsymbol{x}$と$\\boldsymbol{y}$の共分散\n",
    "        * $\\sigma_x^2$: 変数$\\boldsymbol{x}$の分散\n",
    "        * $\\sigma_y^2$: 変数$\\boldsymbol{y}$の分散\n"
   ]
  },
  {
   "cell_type": "markdown",
   "metadata": {
    "id": "w3P6q0XEsLTS"
   },
   "source": [
    "* 他の定義もあるが上記が一般的（この定義はピアソンの積率相関係数と呼ばれる）"
   ]
  },
  {
   "cell_type": "markdown",
   "metadata": {
    "id": "-PvD2LUitmEX"
   },
   "source": [
    "* ２変数の間に何らかに関係性があったとしても，それが直線的な関係でない時は相関係数が0になってしまうことがあるので注意"
   ]
  },
  {
   "cell_type": "markdown",
   "metadata": {
    "id": "XRTh26nCrWAu"
   },
   "source": [
    "* 相関係数行列：以下のように複数変数の相関係数を一つの行列で表したもの\n",
    "    * 以下，3種類のデータ$\\boldsymbol{x},\\boldsymbol{y},\\boldsymbol{z}$の相関行列\n",
    "$$\\mathrm{C}=\\begin{bmatrix}\n",
    "1 & \\rho_{xy} & \\rho_{xz} \\\\\n",
    "\\rho_{xy} & 1 & \\rho_{yz} \\\\\n",
    "\\rho_{xz} & \\rho_{yz} & 1 \\\\\n",
    "\\end{bmatrix}  $$\n",
    "    * 記号\n",
    "        * $\\mathrm{C}$: 相関行列\n",
    "        * $\\rho_{xy}$: 変数$\\boldsymbol{x}$と変数$\\boldsymbol{y}$の相関係数"
   ]
  },
  {
   "cell_type": "markdown",
   "metadata": {
    "id": "UyZQStqyYLHU"
   },
   "source": [
    "* 【実習】相関係数を図解する（コードをコピペして実行すること）"
   ]
  },
  {
   "cell_type": "markdown",
   "metadata": {
    "id": "axmzXdYJPtCs"
   },
   "source": [
    "```\n",
    "#--#--#--#--#--#--#--#--#--#--#--#--#--#--#--#--#--#--#--#\n",
    "import numpy as np\n",
    "import matplotlib.pyplot as plt\n",
    "%matplotlib inline\n",
    "\n",
    "mean = np.array([0, 0])\n",
    "cor = [-2, -1.5, 0, 1.5, 2]\n",
    "\n",
    "plt.figure(figsize=(16, 3))\n",
    "plt.axes().set_aspect('equal')\n",
    "for i in range(len(cor)):\n",
    "    cov = np.array([[1, cor[i]], [cor[i], 4]])\n",
    "    x, y = np.random.multivariate_normal(mean, cov, 2000).T\n",
    "    plt.subplot(1, 5, i+1)\n",
    "    plt.title(\"Correlation coef.: \" + str(round(cor[i]/2, 2)))\n",
    "    plt.plot(x, y, 'x')\n",
    "    plt.axis(\"equal\")\n",
    "    plt.grid(which=\"major\")\n",
    "plt.show()\n",
    "#--#--#--#--#--#--#--#--#--#--#--#--#--#--#--#--#--#--#--#\n",
    "```"
   ]
  },
  {
   "cell_type": "code",
   "execution_count": null,
   "metadata": {
    "id": "0SzDIk-nKPo7"
   },
   "outputs": [],
   "source": []
  },
  {
   "cell_type": "markdown",
   "metadata": {
    "id": "l-OniHF2frHp"
   },
   "source": [
    "* 【実習】気象データの相関行列を計算する\n",
    "    * プログラム実行前にどの変数間の相関が強そうか予想してみよう"
   ]
  },
  {
   "cell_type": "markdown",
   "metadata": {
    "id": "CyRNFeCePtGd"
   },
   "source": [
    "```\n",
    "#--#--#--#--#--#--#--#--#--#--#--#--#--#--#--#--#--#--#--#\n",
    "df.corr()\n",
    "#--#--#--#--#--#--#--#--#--#--#--#--#--#--#--#--#--#--#--#\n",
    "```"
   ]
  },
  {
   "cell_type": "code",
   "execution_count": null,
   "metadata": {
    "id": "W6_2FBGVhzEV"
   },
   "outputs": [],
   "source": []
  },
  {
   "cell_type": "markdown",
   "metadata": {
    "id": "sAksTXkZwC2i"
   },
   "source": [
    "* 【実習】最高気温と最低気温で散布図を書く\n",
    "    * 相関が大きいことを確認する"
   ]
  },
  {
   "cell_type": "markdown",
   "metadata": {
    "id": "j9kHp1_vZBYb"
   },
   "source": [
    "```\n",
    "#--#--#--#--#--#--#--#--#--#--#--#--#--#--#--#--#--#--#--#\n",
    "import matplotlib.pyplot as plt   # 実行済みなら不要\n",
    "%matplotlib inline\n",
    "\n",
    "plt.scatter(df[\"max_temp\"], df[\"min_temp\"])\n",
    "plt.xlabel(\"max temp\")\n",
    "plt.ylabel(\"min temp\")\n",
    "plt.show()\n",
    "#--#--#--#--#--#--#--#--#--#--#--#--#--#--#--#--#--#--#--#\n",
    "```\n"
   ]
  },
  {
   "cell_type": "code",
   "execution_count": null,
   "metadata": {
    "id": "uIzxkc0Jwdy3"
   },
   "outputs": [],
   "source": []
  },
  {
   "cell_type": "markdown",
   "metadata": {
    "id": "rS8BeaxSyQ-D"
   },
   "source": [
    "* 【実習】日照時間と降水量で散布図を書く\n",
    "    * 相関が小さいことを確認する"
   ]
  },
  {
   "cell_type": "markdown",
   "metadata": {
    "id": "TDDw57aFZCP2"
   },
   "source": [
    "```\n",
    "#--#--#--#--#--#--#--#--#--#--#--#--#--#--#--#--#--#--#--#\n",
    "plt.scatter(df[\"sunshine\"], df[\"rainfall\"])\n",
    "plt.xlabel(\"sunshine\")\n",
    "plt.ylabel(\"rainfall\")\n",
    "plt.show()\n",
    "#--#--#--#--#--#--#--#--#--#--#--#--#--#--#--#--#--#--#--#\n",
    "```"
   ]
  },
  {
   "cell_type": "code",
   "execution_count": null,
   "metadata": {
    "id": "_Ja3sCGAydUh"
   },
   "outputs": [],
   "source": []
  },
  {
   "cell_type": "markdown",
   "metadata": {
    "id": "hQI17vhIvuWE"
   },
   "source": [
    "### 2.8 外部からのファイル読み込み"
   ]
  },
  {
   "cell_type": "markdown",
   "metadata": {
    "id": "4TGyhJjd-WqQ"
   },
   "source": [
    "* 自分の持っているファイルをColaboratoryで使用する場合，Googleドライブを活用する\n",
    "    * __手順1__：ファイルをGoogleドライブに置く\n",
    "    * __手順2__：ColaboratoryでGoogleドライブを読めるようにする（マウントする）\n",
    "    * __手順3__：ファイルを読み込む\n",
    "* 詳細は[Colaboratoryのドキュメント](https://colab.research.google.com/notebooks/io.ipynb#scrollTo=u22w3BFiOveA)を参照のこと\n",
    "* 以下，2018気象データ（5都市）をColaboratoryで読み込む\n"
   ]
  },
  {
   "cell_type": "markdown",
   "metadata": {
    "id": "A9HYNPtvAxo5"
   },
   "source": [
    "* 【実習】__手順1__：[このリンクをクリック](https://drive.google.com/file/d/17ih74EOYkkCQ3wA42fV5egRmx9XFXyp_/view?usp=sharing)した後，画面右上のダウンロードボタンをクリックすることでweather5cities.xlsxをダウンロードし，それを自分のGoogleドライブのMy Drive直下に置く\n",
    "    * Colabと同じGoogleアカウントを使用すること\n",
    "    * ファイルを置くにはブラウザにファイルをドラッグ&ドロップすれば良い"
   ]
  },
  {
   "cell_type": "markdown",
   "metadata": {
    "id": "ZrkvyAFlCHIA"
   },
   "source": [
    "* 【実習】__手順2__：自分のGoogleドライブを/content/driveにマウントする．\n",
    "    * プログラム実行後，リンクが表示されるのでクリックして，認証を行う\n",
    "    * 認証完了後に表示される認証コードをColaboratoryの入力フォームに入力する"
   ]
  },
  {
   "cell_type": "markdown",
   "metadata": {
    "id": "VkRYDEMfZEF6"
   },
   "source": [
    "```\n",
    "#--#--#--#--#--#--#--#--#--#--#--#--#--#--#--#--#--#--#--#\n",
    "from google.colab import drive\n",
    "drive.mount('/content/drive')\n",
    "#--#--#--#--#--#--#--#--#--#--#--#--#--#--#--#--#--#--#--#\n",
    "```"
   ]
  },
  {
   "cell_type": "code",
   "execution_count": null,
   "metadata": {
    "id": "0kGdZL572PRZ"
   },
   "outputs": [],
   "source": []
  },
  {
   "cell_type": "markdown",
   "metadata": {
    "id": "FVPYAv8GDjMt"
   },
   "source": [
    "* 【実習】__手順3__：pandasを使ってエクセルファイルを読み込む\n",
    "    * GoogleドライブのファイルはColab画面左の「目次」タブを「ファイル」タブに切り換えたのち，/content/drive/My Driveを開くことで確認することができる\n",
    "    * Excelファイルを読み込むにはpandasの[`read_excel()`関数](https://pandas.pydata.org/pandas-docs/stable/reference/api/pandas.read_excel.html)を使う\n",
    "    * 追加された列について\n",
    "        * latitude: 都市の緯度情報（北に行くほど値が大きくなる）\n",
    "        * longitude: 経度（東に行くほど値が大きくなる）"
   ]
  },
  {
   "cell_type": "markdown",
   "metadata": {
    "id": "1Y89p6ffZItp"
   },
   "source": [
    "```\n",
    "#--#--#--#--#--#--#--#--#--#--#--#--#--#--#--#--#--#--#--#\n",
    "import pandas as pd  # 実行済みであればこの行は不要\n",
    "\n",
    "weather = pd.read_excel(\"/content/drive/My Drive/weather5cities2018.xlsx\")\n",
    "weather.head(30)\n",
    "#--#--#--#--#--#--#--#--#--#--#--#--#--#--#--#--#--#--#--#\n",
    "```"
   ]
  },
  {
   "cell_type": "code",
   "execution_count": null,
   "metadata": {
    "id": "s946wgvw7fV8"
   },
   "outputs": [],
   "source": []
  },
  {
   "cell_type": "markdown",
   "metadata": {
    "id": "noSotgVRA77v"
   },
   "source": [
    "* 【実習】読み込んだデータの概要情報を確認する"
   ]
  },
  {
   "cell_type": "markdown",
   "metadata": {
    "id": "CIQCQZ4lZKHO"
   },
   "source": [
    "```\n",
    "#--#--#--#--#--#--#--#--#--#--#--#--#--#--#--#--#--#--#--#\n",
    "weather.info()\n",
    "#--#--#--#--#--#--#--#--#--#--#--#--#--#--#--#--#--#--#--#\n",
    "```\n"
   ]
  },
  {
   "cell_type": "code",
   "execution_count": null,
   "metadata": {
    "id": "sa0YsJgaBCQg"
   },
   "outputs": [],
   "source": []
  },
  {
   "cell_type": "markdown",
   "metadata": {
    "id": "4WWNwkzCJi2U"
   },
   "source": [
    "### 2.9 演習"
   ]
  },
  {
   "cell_type": "markdown",
   "metadata": {
    "id": "xhGl5SIKF1kw"
   },
   "source": [
    "* 【実習】__演習__：読み込んだデータの各種基本統計量を確認してください（describe関数を使う）"
   ]
  },
  {
   "cell_type": "code",
   "execution_count": null,
   "metadata": {
    "id": "xXCN3D-KFUMK"
   },
   "outputs": [],
   "source": []
  },
  {
   "cell_type": "markdown",
   "metadata": {
    "id": "nTybtQZHGMHs"
   },
   "source": [
    "* 【実習】__演習__：最高気温が35度以上になっている行を取り出してください"
   ]
  },
  {
   "cell_type": "code",
   "execution_count": null,
   "metadata": {
    "id": "sFb4DUfyGSEL"
   },
   "outputs": [],
   "source": []
  },
  {
   "cell_type": "markdown",
   "metadata": {
    "id": "FZYR-QmZHoml"
   },
   "source": [
    "* 【実習】__演習__：このデータ（の数値データ）の相関行列を求めてください"
   ]
  },
  {
   "cell_type": "code",
   "execution_count": null,
   "metadata": {
    "id": "6D_B68WVHuJz"
   },
   "outputs": [],
   "source": []
  },
  {
   "cell_type": "markdown",
   "metadata": {
    "id": "2w0YQqLdH5AR"
   },
   "source": [
    "* 【実習】__演習__：このデータを使って最高気温と最低気温で散布図を書いてください"
   ]
  },
  {
   "cell_type": "code",
   "execution_count": null,
   "metadata": {
    "id": "RfW8cFiEH9rt"
   },
   "outputs": [],
   "source": []
  },
  {
   "cell_type": "markdown",
   "metadata": {
    "id": "J9fCFKFiQELp"
   },
   "source": [
    "* 【実習】__演習__：読み込んだデータの月ごとの各種基本統計量を確認してください（groupby関数とdescribe関数を使う）"
   ]
  },
  {
   "cell_type": "code",
   "execution_count": null,
   "metadata": {
    "id": "aMNNdpuXPsET"
   },
   "outputs": [],
   "source": []
  },
  {
   "cell_type": "markdown",
   "metadata": {
    "id": "fHUzrdXu7yXd"
   },
   "source": [
    "## 第3章 matplotlibを用いたデータ可視化"
   ]
  },
  {
   "cell_type": "markdown",
   "metadata": {
    "id": "WjM1dciP-W88"
   },
   "source": [
    "### 3.1 データ可視化ライブラリ"
   ]
  },
  {
   "cell_type": "markdown",
   "metadata": {
    "id": "fgAowDF9-eRr"
   },
   "source": [
    "* データ可視化（グラフ描画）のライブラリとして標準的にmatplotlibが使われている\n",
    "    * [matplotlib](https://matplotlib.org/index.html)\n",
    "* しかし，書き方がやや複雑でわかりづらいため，matplotlibを簡単に使えるようにするライブラリがいくつか提供されている\n",
    "    * [pandas](https://pandas.pydata.org)：データ解析用ライブラリだが，matplotlibを使ったデータ可視化を簡単に使えるようにする機能も持っている\n",
    "    * [seaborn](https://seaborn.pydata.org)：matplotlibのグラフを簡単に美しく書けるようにするためのライブラリ\n",
    "* 今回は基本的にmatplotlibを使うが，必要に応じてpandasの描画機能やseabornを用いることにする\n",
    "    * pandasの描画機能の詳細は[描画関数のドキュメント](https://pandas.pydata.org/pandas-docs/stable/reference/frame.html#plotting)を参照のこと\n",
    "* 日本語を使えるようにするのはやや面倒なので，今回は日本語は使用しない"
   ]
  },
  {
   "cell_type": "markdown",
   "metadata": {
    "id": "vHJnJIsw_e6h"
   },
   "source": [
    "* 【実習】ライブラリのインポート\n",
    "    * matplotlib.pyplot（matplotlibの描画機能）には`plt`という名前をつけるのが慣習となっている\n",
    "    * 最後の`%matplotlib inline`はJupyter Notebook内でグラフを描画するためのおまじない．Colaboratoryでは不要だが，念の為書いておく"
   ]
  },
  {
   "cell_type": "markdown",
   "metadata": {
    "id": "-V6dJ6Z4PtMf"
   },
   "source": [
    "```\n",
    "#--#--#--#--#--#--#--#--#--#--#--#--#--#--#--#--#--#--#--#\n",
    "import numpy as np\n",
    "import pandas as pd\n",
    "import matplotlib.pyplot as plt\n",
    "%matplotlib inline\n",
    "#--#--#--#--#--#--#--#--#--#--#--#--#--#--#--#--#--#--#--#\n",
    "```"
   ]
  },
  {
   "cell_type": "code",
   "execution_count": null,
   "metadata": {
    "id": "_7UfTTc2_mFI"
   },
   "outputs": [],
   "source": []
  },
  {
   "cell_type": "markdown",
   "metadata": {
    "id": "Kw2rF_7hP07P"
   },
   "source": [
    "### 3.2 データの準備"
   ]
  },
  {
   "cell_type": "markdown",
   "metadata": {
    "id": "_vZkzQ0EQPVS"
   },
   "source": [
    "* 今回は2.8節で読み込んだ気象データのうち，八戸のデータのみを使用する"
   ]
  },
  {
   "cell_type": "markdown",
   "metadata": {
    "id": "B0uWi56TP7ry"
   },
   "source": [
    "* 【実習】2.8節（外部からのデータ読み込み）の手順で気象データを読み込む（読み込み済みの場合は不要）\n"
   ]
  },
  {
   "cell_type": "markdown",
   "metadata": {
    "id": "HGxEws7bQEpI"
   },
   "source": [
    "* 【実習】気象データから八戸の行を取り出す"
   ]
  },
  {
   "cell_type": "markdown",
   "metadata": {
    "id": "gNqH4RDYZRpG"
   },
   "source": [
    "```\n",
    "#--#--#--#--#--#--#--#--#--#--#--#--#--#--#--#--#--#--#--#\n",
    "hachinohe = weather[weather[\"name\"]==\"八戸\"]\n",
    "hachinohe\n",
    "#--#--#--#--#--#--#--#--#--#--#--#--#--#--#--#--#--#--#--#\n",
    "```"
   ]
  },
  {
   "cell_type": "code",
   "execution_count": null,
   "metadata": {
    "id": "ilGVqrCqQcHz"
   },
   "outputs": [],
   "source": []
  },
  {
   "cell_type": "markdown",
   "metadata": {
    "id": "LhOoM3VCAlgO"
   },
   "source": [
    "### 3.3 折れ線グラフ"
   ]
  },
  {
   "cell_type": "markdown",
   "metadata": {
    "id": "G7WSXyFbTgmG"
   },
   "source": [
    "* `plt.plot()`関数で描画したのち，`plt.show()`で表示する\n",
    "    * [`plot()`関数のドキュメント](https://matplotlib.org/api/_as_gen/matplotlib.pyplot.plot.html)"
   ]
  },
  {
   "cell_type": "markdown",
   "metadata": {
    "id": "x6usonXYQl-5"
   },
   "source": [
    "* 【実習】八戸の各月の最高気温をプロットする"
   ]
  },
  {
   "cell_type": "markdown",
   "metadata": {
    "id": "zmeRs0qRZTAL"
   },
   "source": [
    "```\n",
    "#--#--#--#--#--#--#--#--#--#--#--#--#--#--#--#--#--#--#--#\n",
    "plt.plot(hachinohe[\"max_temp\"])\n",
    "plt.show()\n",
    "#--#--#--#--#--#--#--#--#--#--#--#--#--#--#--#--#--#--#--#\n",
    "```"
   ]
  },
  {
   "cell_type": "code",
   "execution_count": null,
   "metadata": {
    "id": "pBn6_sSreBeE"
   },
   "outputs": [],
   "source": []
  },
  {
   "cell_type": "markdown",
   "metadata": {
    "id": "YAKaQ3lqQ1VX"
   },
   "source": [
    "* 【実習】x軸の値をmonth列の値にする"
   ]
  },
  {
   "cell_type": "markdown",
   "metadata": {
    "id": "dMdvpiVGZUAM"
   },
   "source": [
    "```\n",
    "#--#--#--#--#--#--#--#--#--#--#--#--#--#--#--#--#--#--#--#\n",
    "plt.plot(hachinohe[\"month\"], hachinohe[\"max_temp\"])\n",
    "plt.show()\n",
    "#--#--#--#--#--#--#--#--#--#--#--#--#--#--#--#--#--#--#--#\n",
    "```"
   ]
  },
  {
   "cell_type": "code",
   "execution_count": null,
   "metadata": {
    "id": "4LN0wWLAQ7Lm"
   },
   "outputs": [],
   "source": []
  },
  {
   "cell_type": "markdown",
   "metadata": {
    "id": "tS3oAAWDSG8d"
   },
   "source": [
    "* 【実習】色々情報を付け加えてみる"
   ]
  },
  {
   "cell_type": "markdown",
   "metadata": {
    "id": "fosw_oeHZaCI"
   },
   "source": [
    "```\n",
    "#--#--#--#--#--#--#--#--#--#--#--#--#--#--#--#--#--#--#--#\n",
    "plt.plot(hachinohe[\"month\"], hachinohe[\"max_temp\"])\n",
    "plt.xlabel(\"Month\")\n",
    "plt.ylabel(\"Degree\")\n",
    "plt.title(\"Highest temperature at Hachinohe in 2018\")\n",
    "plt.show()\n",
    "#--#--#--#--#--#--#--#--#--#--#--#--#--#--#--#--#--#--#--#\n",
    "```"
   ]
  },
  {
   "cell_type": "code",
   "execution_count": null,
   "metadata": {
    "id": "PmcsXwNiSLJk"
   },
   "outputs": [],
   "source": []
  },
  {
   "cell_type": "markdown",
   "metadata": {
    "id": "jLZ0tEL0RB-T"
   },
   "source": [
    "* 【実習】最高気温と最低気温を同時にプロットする\n",
    "    * 2つのデータを区別するためにラベルをつけておく\n",
    "    * [`legend()`関数](https://matplotlib.org/3.1.1/api/_as_gen/matplotlib.pyplot.legend.html)を呼ぶことで凡例を表示できる"
   ]
  },
  {
   "cell_type": "markdown",
   "metadata": {
    "id": "eCZyJEkIZbSt"
   },
   "source": [
    "```\n",
    "#--#--#--#--#--#--#--#--#--#--#--#--#--#--#--#--#--#--#--#\n",
    "plt.plot(hachinohe[\"month\"], hachinohe[\"max_temp\"], label=\"max temp\")\n",
    "plt.plot(hachinohe[\"month\"], hachinohe[\"min_temp\"], label=\"min temp\")\n",
    "plt.legend()\n",
    "plt.show()\n",
    "#--#--#--#--#--#--#--#--#--#--#--#--#--#--#--#--#--#--#--#\n",
    "```"
   ]
  },
  {
   "cell_type": "code",
   "execution_count": null,
   "metadata": {
    "id": "MGOcEsLrAg9F"
   },
   "outputs": [],
   "source": []
  },
  {
   "cell_type": "markdown",
   "metadata": {
    "id": "KOOFUD_ymaAi"
   },
   "source": [
    "* 【実習】pandasではもう少し簡単に描画できる\n",
    "    * [`plot.line()`ドキュメント](https://pandas.pydata.org/pandas-docs/stable/reference/api/pandas.DataFrame.plot.line.html)"
   ]
  },
  {
   "cell_type": "markdown",
   "metadata": {
    "id": "UBypmNYFZdKl"
   },
   "source": [
    "```\n",
    "#--#--#--#--#--#--#--#--#--#--#--#--#--#--#--#--#--#--#--#\n",
    "hachinohe.plot.line(x=\"month\", y=[\"max_temp\", \"min_temp\"])\n",
    "plt.show()\n",
    "#--#--#--#--#--#--#--#--#--#--#--#--#--#--#--#--#--#--#--#\n",
    "```"
   ]
  },
  {
   "cell_type": "code",
   "execution_count": null,
   "metadata": {
    "id": "YZMmrb-vmfrL"
   },
   "outputs": [],
   "source": []
  },
  {
   "cell_type": "markdown",
   "metadata": {
    "id": "JM5QeNqVtIu1"
   },
   "source": [
    "### 3.4 棒グラフ"
   ]
  },
  {
   "cell_type": "markdown",
   "metadata": {
    "id": "RJYuoU_BtKph"
   },
   "source": [
    "* 【実習】最高気温と最低気温について棒グラフを書く\n",
    "    * `plot()`を`bar()`に変える\n",
    "    * [`bar()`関数のドキュメント](https://matplotlib.org/api/_as_gen/matplotlib.pyplot.bar.html)"
   ]
  },
  {
   "cell_type": "markdown",
   "metadata": {
    "id": "_8nWhyUHZfAh"
   },
   "source": [
    "```\n",
    "#--#--#--#--#--#--#--#--#--#--#--#--#--#--#--#--#--#--#--#\n",
    "plt.bar(hachinohe[\"month\"], hachinohe[\"max_temp\"], label=\"max temp\")\n",
    "plt.bar(hachinohe[\"month\"], hachinohe[\"min_temp\"], label=\"min temp\")\n",
    "plt.legend()\n",
    "plt.show()\n",
    "#--#--#--#--#--#--#--#--#--#--#--#--#--#--#--#--#--#--#--#\n",
    "```"
   ]
  },
  {
   "cell_type": "code",
   "execution_count": null,
   "metadata": {
    "id": "n6C6XbY7tYF7"
   },
   "outputs": [],
   "source": []
  },
  {
   "cell_type": "markdown",
   "metadata": {
    "id": "IphV0Q6buBzC"
   },
   "source": [
    "* 【実習】pandasではもう少し簡単に描画できる\n",
    "    * [`plot.bar()`ドキュメント](https://pandas.pydata.org/pandas-docs/stable/reference/api/pandas.DataFrame.plot.bar.html)"
   ]
  },
  {
   "cell_type": "markdown",
   "metadata": {
    "id": "WQHc8bTxZgIP"
   },
   "source": [
    "```\n",
    "#--#--#--#--#--#--#--#--#--#--#--#--#--#--#--#--#--#--#--#\n",
    "hachinohe.plot.bar(x=\"month\", y=[\"max_temp\", \"min_temp\"])\n",
    "plt.show()\n",
    "#--#--#--#--#--#--#--#--#--#--#--#--#--#--#--#--#--#--#--#\n",
    "```"
   ]
  },
  {
   "cell_type": "code",
   "execution_count": null,
   "metadata": {
    "id": "C-j7XCC2t5bu"
   },
   "outputs": [],
   "source": []
  },
  {
   "cell_type": "markdown",
   "metadata": {
    "id": "vJrSEZW0VN9M"
   },
   "source": [
    "### 3.5 ヒストグラム"
   ]
  },
  {
   "cell_type": "markdown",
   "metadata": {
    "id": "wib-SIkEWUnw"
   },
   "source": [
    "* 【実習】最高気温に関するヒストグラムを描画する\n",
    "    * [`hist()`関数のドキュメント](https://matplotlib.org/api/_as_gen/matplotlib.pyplot.hist.html)"
   ]
  },
  {
   "cell_type": "markdown",
   "metadata": {
    "id": "5CIP6Ox6Zhb7"
   },
   "source": [
    "```\n",
    "#--#--#--#--#--#--#--#--#--#--#--#--#--#--#--#--#--#--#--#\n",
    "plt.hist(hachinohe[\"max_temp\"])\n",
    "plt.show()\n",
    "#--#--#--#--#--#--#--#--#--#--#--#--#--#--#--#--#--#--#--#\n",
    "```\n"
   ]
  },
  {
   "cell_type": "code",
   "execution_count": null,
   "metadata": {
    "id": "ooFQ4xu8Ncej"
   },
   "outputs": [],
   "source": []
  },
  {
   "cell_type": "markdown",
   "metadata": {
    "id": "-SfeWsFMWcN5"
   },
   "source": [
    "* 【実習】最高気温と最低気温のヒストグラムを同時に描画する\n",
    "    * 最高気温のデータの一部が最低気温のデータで見えなくなっているが一応描画できている"
   ]
  },
  {
   "cell_type": "markdown",
   "metadata": {
    "id": "zJ31ceDKZix0"
   },
   "source": [
    "```\n",
    "#--#--#--#--#--#--#--#--#--#--#--#--#--#--#--#--#--#--#--#\n",
    "plt.hist(hachinohe[\"max_temp\"], label=\"max temp\")\n",
    "plt.hist(hachinohe[\"min_temp\"], label=\"min temp\")\n",
    "plt.legend()\n",
    "plt.show()\n",
    "#--#--#--#--#--#--#--#--#--#--#--#--#--#--#--#--#--#--#--#\n",
    "```\n"
   ]
  },
  {
   "cell_type": "code",
   "execution_count": null,
   "metadata": {
    "id": "x60eIxi1VWaM"
   },
   "outputs": [],
   "source": []
  },
  {
   "cell_type": "markdown",
   "metadata": {
    "id": "bXAI_JFqpmdc"
   },
   "source": [
    "* 【実習】もう少し見やすくする\n",
    "    * 棒の色を半透明にする（alphaは透過率）\n",
    "    * 最小値を-10, 最大値を40にし，5度刻みで集計する(ビンの数(集計する区分の数)を10個にする)\n",
    "    * x軸とy軸の説明を追加する"
   ]
  },
  {
   "cell_type": "markdown",
   "metadata": {
    "id": "RIocJ83wZkKe"
   },
   "source": [
    "```\n",
    "#--#--#--#--#--#--#--#--#--#--#--#--#--#--#--#--#--#--#--#\n",
    "plt.hist(hachinohe[\"max_temp\"], label=\"max temp\", alpha=0.5, range=(-10, 40), bins=10)\n",
    "plt.hist(hachinohe[\"min_temp\"], label=\"min temp\", alpha=0.5, range=(-10, 40), bins=10)\n",
    "plt.xlabel(\"Degree\")\n",
    "plt.ylabel(\"Frequency\")\n",
    "plt.legend()\n",
    "plt.show()\n",
    "#--#--#--#--#--#--#--#--#--#--#--#--#--#--#--#--#--#--#--#\n",
    "```\n"
   ]
  },
  {
   "cell_type": "code",
   "execution_count": null,
   "metadata": {
    "id": "VOaBR471pJm5"
   },
   "outputs": [],
   "source": []
  },
  {
   "cell_type": "markdown",
   "metadata": {
    "id": "lvou4O6uptA0"
   },
   "source": [
    "* 【実習】pandasの関数を使用してヒストグラムを作成する\n",
    "    * pandasではもう少し簡単にヒストグラムを描画できる\n",
    "    * [`plot.hist()`ドキュメント](https://pandas.pydata.org/pandas-docs/stable/reference/api/pandas.DataFrame.plot.hist.html)"
   ]
  },
  {
   "cell_type": "markdown",
   "metadata": {
    "id": "abPfAKL9ZlUg"
   },
   "source": [
    "```\n",
    "#--#--#--#--#--#--#--#--#--#--#--#--#--#--#--#--#--#--#--#\n",
    "hachinohe[[\"max_temp\", \"min_temp\"]].plot.hist(alpha=0.5)\n",
    "plt.show()\n",
    "#--#--#--#--#--#--#--#--#--#--#--#--#--#--#--#--#--#--#--#\n",
    "```"
   ]
  },
  {
   "cell_type": "code",
   "execution_count": null,
   "metadata": {
    "id": "tQ6y5rIDYY2m"
   },
   "outputs": [],
   "source": []
  },
  {
   "cell_type": "markdown",
   "metadata": {
    "id": "_yE6QxZCqEf8"
   },
   "source": [
    "### 3.6 箱ひげ図"
   ]
  },
  {
   "cell_type": "markdown",
   "metadata": {
    "id": "wJuT-0h5rjKH"
   },
   "source": [
    "* データの中央値と四分位点（25%, 75%）と最大値，最小値を表す"
   ]
  },
  {
   "cell_type": "markdown",
   "metadata": {
    "id": "of08ToR5qM6q"
   },
   "source": [
    "* 【実習】最高気温と最低気温に関して箱ひげ図を作成する\n",
    "    * [`boxplot()`ドキュメント](https://matplotlib.org/api/_as_gen/matplotlib.pyplot.boxplot.html)"
   ]
  },
  {
   "cell_type": "markdown",
   "metadata": {
    "id": "xUl21TQSZmeU"
   },
   "source": [
    "```\n",
    "#--#--#--#--#--#--#--#--#--#--#--#--#--#--#--#--#--#--#--#\n",
    "plt.boxplot([hachinohe[\"max_temp\"], hachinohe[\"min_temp\"]], labels=[\"max temp\", \"min temp\"])\n",
    "plt.show()\n",
    "#--#--#--#--#--#--#--#--#--#--#--#--#--#--#--#--#--#--#--#\n",
    "```"
   ]
  },
  {
   "cell_type": "code",
   "execution_count": null,
   "metadata": {
    "id": "F9o-ey9AjuSn"
   },
   "outputs": [],
   "source": []
  },
  {
   "cell_type": "markdown",
   "metadata": {
    "id": "ZAAoZgASq11U"
   },
   "source": [
    "* 【実習】pandasではもう少し簡単に描画できる\n",
    "    * [`plot.box()`ドキュメント](https://pandas.pydata.org/pandas-docs/stable/reference/api/pandas.DataFrame.plot.box.html)"
   ]
  },
  {
   "cell_type": "markdown",
   "metadata": {
    "id": "sUO2nOIHZniy"
   },
   "source": [
    "```\n",
    "#--#--#--#--#--#--#--#--#--#--#--#--#--#--#--#--#--#--#--#\n",
    "hachinohe[[\"max_temp\", \"min_temp\"]].plot.box()\n",
    "plt.show()\n",
    "#--#--#--#--#--#--#--#--#--#--#--#--#--#--#--#--#--#--#--#\n",
    "```"
   ]
  },
  {
   "cell_type": "code",
   "execution_count": null,
   "metadata": {
    "id": "qIKhuOLXWyBI"
   },
   "outputs": [],
   "source": []
  },
  {
   "cell_type": "markdown",
   "metadata": {
    "id": "1fkNy7tTuW1H"
   },
   "source": [
    "### 3.7 散布図"
   ]
  },
  {
   "cell_type": "markdown",
   "metadata": {
    "id": "3QZvLub8w7OX"
   },
   "source": [
    "* 【実習】最高気温と最低気温に関して散布図を作成する\n",
    "    * [`scatter()`ドキュメント](https://matplotlib.org/api/_as_gen/matplotlib.pyplot.scatter.html)"
   ]
  },
  {
   "cell_type": "markdown",
   "metadata": {
    "id": "5kPF-pdOZp_X"
   },
   "source": [
    "```\n",
    "#--#--#--#--#--#--#--#--#--#--#--#--#--#--#--#--#--#--#--#\n",
    "plt.scatter(hachinohe[\"max_temp\"], hachinohe[\"min_temp\"])\n",
    "plt.show()\n",
    "#--#--#--#--#--#--#--#--#--#--#--#--#--#--#--#--#--#--#--#\n",
    "```"
   ]
  },
  {
   "cell_type": "code",
   "execution_count": null,
   "metadata": {
    "id": "FRgFSKGzurk4"
   },
   "outputs": [],
   "source": []
  },
  {
   "cell_type": "markdown",
   "metadata": {
    "id": "A8KiJPW5xTe-"
   },
   "source": [
    "* 【実習】グラフに情報を付加する"
   ]
  },
  {
   "cell_type": "markdown",
   "metadata": {
    "id": "0037m6jWZq9p"
   },
   "source": [
    "```\n",
    "#--#--#--#--#--#--#--#--#--#--#--#--#--#--#--#--#--#--#--#\n",
    "plt.scatter(hachinohe[\"max_temp\"], hachinohe[\"min_temp\"])\n",
    "plt.xlabel(\"max temp (degree)\")\n",
    "plt.ylabel(\"min temp (degree)\")\n",
    "plt.title(\"max temp vs min temp\")\n",
    "plt.show()\n",
    "#--#--#--#--#--#--#--#--#--#--#--#--#--#--#--#--#--#--#--#\n",
    "```"
   ]
  },
  {
   "cell_type": "code",
   "execution_count": null,
   "metadata": {
    "id": "yk7ainL_u9j6"
   },
   "outputs": [],
   "source": []
  },
  {
   "cell_type": "markdown",
   "metadata": {
    "id": "w05fCPW9xwRb"
   },
   "source": [
    "* 【実習】pandasではもう少し簡単に描画できる\n",
    "    * [`plot.scatter()`ドキュメント](https://pandas.pydata.org/pandas-docs/stable/reference/api/pandas.DataFrame.plot.scatter.html)"
   ]
  },
  {
   "cell_type": "markdown",
   "metadata": {
    "id": "fFVhB_boZsA6"
   },
   "source": [
    "```\n",
    "#--#--#--#--#--#--#--#--#--#--#--#--#--#--#--#--#--#--#--#\n",
    "hachinohe.plot.scatter(x=\"max_temp\", y=\"min_temp\")\n",
    "plt.show()\n",
    "#--#--#--#--#--#--#--#--#--#--#--#--#--#--#--#--#--#--#--#\n",
    "```"
   ]
  },
  {
   "cell_type": "code",
   "execution_count": null,
   "metadata": {
    "id": "a6svUz00xl2x"
   },
   "outputs": [],
   "source": []
  },
  {
   "cell_type": "markdown",
   "metadata": {
    "id": "nRo7rW56zePm"
   },
   "source": [
    "### 3.8 seabornの活用"
   ]
  },
  {
   "cell_type": "markdown",
   "metadata": {
    "id": "iu3rE07c1PMR"
   },
   "source": [
    "* seabornをセットするだけで，自動で見た目を美しくしてくれる"
   ]
  },
  {
   "cell_type": "markdown",
   "metadata": {
    "id": "3KfhzoEs2YUt"
   },
   "source": [
    "* 【実習】searbornをセットする\n",
    "    * seabornには`sns`という名前をつけるのが慣習となっている\n",
    "    * [`set()`ドキュメント](https://seaborn.pydata.org/generated/seaborn.set.html)\n",
    "        * 引数で`context=\"talk\"`や`context=\"poster\"`を指定すると，フォントが大きくなる\n"
   ]
  },
  {
   "cell_type": "markdown",
   "metadata": {
    "id": "iJjlTd4_ZwMJ"
   },
   "source": [
    "```\n",
    "#--#--#--#--#--#--#--#--#--#--#--#--#--#--#--#--#--#--#--#\n",
    "import seaborn as sns\n",
    "sns.set()\n",
    "#--#--#--#--#--#--#--#--#--#--#--#--#--#--#--#--#--#--#--#\n",
    "```"
   ]
  },
  {
   "cell_type": "code",
   "execution_count": null,
   "metadata": {
    "id": "01noJd7Q2dUR"
   },
   "outputs": [],
   "source": []
  },
  {
   "cell_type": "markdown",
   "metadata": {
    "id": "RhftjGio3LEN"
   },
   "source": [
    "* 【実習】これまでに実行したグラフ描画プログラムを再実行する\n",
    "    * 見た目が変わっているはず"
   ]
  },
  {
   "cell_type": "markdown",
   "metadata": {
    "id": "99Z4qoex7k_H"
   },
   "source": [
    "### 3.9 ペアプロット"
   ]
  },
  {
   "cell_type": "markdown",
   "metadata": {
    "id": "-IgWnVcj7uAF"
   },
   "source": [
    "* 複数の変数間の相関関係を可視化する際に使用される\n",
    "* seabornを利用してペアプロットを作成する\n",
    "* seabornの[ペアプロット描画関数](https://seaborn.pydata.org/generated/seaborn.pairplot.html)は概ね以下の形式となる。\n",
    "    * `vars`を指定しないとすべての列が使用される\n",
    "    \n",
    "```\n",
    "sns.pairplot(\n",
    "    \"データフレーム名\",\n",
    "    vars = \"列名のリスト\",\n",
    "    その他オプション\n",
    ")\n",
    "```\n"
   ]
  },
  {
   "cell_type": "markdown",
   "metadata": {
    "id": "xDng8-Q78odb"
   },
   "source": [
    "* 【実習】八戸の気象データのペアプロットを作成する\n",
    "    * seabornの[`pairplot()`関数](https://seaborn.pydata.org/generated/seaborn.pairplot.html)を利用する"
   ]
  },
  {
   "cell_type": "markdown",
   "metadata": {
    "id": "qcrIxMRQZz-O"
   },
   "source": [
    "```\n",
    "#--#--#--#--#--#--#--#--#--#--#--#--#--#--#--#--#--#--#--#\n",
    "sns.pairplot(hachinohe)\n",
    "plt.show()\n",
    "#--#--#--#--#--#--#--#--#--#--#--#--#--#--#--#--#--#--#--#\n",
    "```"
   ]
  },
  {
   "cell_type": "code",
   "execution_count": null,
   "metadata": {
    "id": "y8s7x4A779IA"
   },
   "outputs": [],
   "source": []
  },
  {
   "cell_type": "markdown",
   "metadata": {
    "id": "efBnBfWA_op1"
   },
   "source": [
    "* 【実習】ペアプロットに回帰直線（データの傾向を表す直線）を入れる"
   ]
  },
  {
   "cell_type": "markdown",
   "metadata": {
    "id": "ojbwhR0GZ5ey"
   },
   "source": [
    "```\n",
    "#--#--#--#--#--#--#--#--#--#--#--#--#--#--#--#--#--#--#--#\n",
    "sns.pairplot(hachinohe, kind=\"reg\")\n",
    "plt.show()\n",
    "#--#--#--#--#--#--#--#--#--#--#--#--#--#--#--#--#--#--#--#\n",
    "```"
   ]
  },
  {
   "cell_type": "code",
   "execution_count": null,
   "metadata": {
    "id": "viUiG0hA_ZXs"
   },
   "outputs": [],
   "source": []
  },
  {
   "cell_type": "markdown",
   "metadata": {
    "id": "4tiK71GeEOla"
   },
   "source": [
    "* 【実習】5都市分の気象データに対して，都市ごとに色分けしてペアプロット図を作成する\n",
    "    * 日本語が扱えないので，最初に都市名のローマ字表記の列を追加する\n",
    "        * 列を追加するには新しい名前で列を指定して値を代入すれば良い\n",
    "        * ある列の各行の要素に対して変換処理を行うには[`map()`関数](https://pandas.pydata.org/pandas-docs/stable/reference/api/pandas.Series.map.html#pandas.Series.map)を使用する\n",
    "        * 参考まで，各要素に関数を適用するには[`apply()関数`](https://pandas.pydata.org/pandas-docs/stable/reference/api/pandas.Series.apply.html#pandas.Series.apply)を使う\n",
    "    * `hue`で指定した列の値で色分けする"
   ]
  },
  {
   "cell_type": "markdown",
   "metadata": {
    "id": "-h26nGcFZ7sl"
   },
   "source": [
    "```\n",
    "#--#--#--#--#--#--#--#--#--#--#--#--#--#--#--#--#--#--#--#\n",
    "weather[\"english_name\"] = weather[\"name\"].map(\n",
    "    {\"八戸\" : \"Hachinohe\", \"仙台\" : \"Sendai\", \"東京\" : \"Tokyo\", \"大阪\" : \"Osaka\", \"那覇\" : \"Naha\"}) \n",
    "weather\n",
    "#--#--#--#--#--#--#--#--#--#--#--#--#--#--#--#--#--#--#--#\n",
    "```"
   ]
  },
  {
   "cell_type": "code",
   "execution_count": null,
   "metadata": {
    "id": "S7jP88r7EY31"
   },
   "outputs": [],
   "source": []
  },
  {
   "cell_type": "markdown",
   "metadata": {
    "id": "rRySm_jLaAb-"
   },
   "source": [
    "```\n",
    "#--#--#--#--#--#--#--#--#--#--#--#--#--#--#--#--#--#--#--#\n",
    "sns.pairplot(weather[[\"sunshine\", \"rainfall\", \"under0\", \"over30\",\"max_temp\", \"min_temp\", \"english_name\"]], hue=\"english_name\")\n",
    "plt.show()\n",
    "#--#--#--#--#--#--#--#--#--#--#--#--#--#--#--#--#--#--#--#\n",
    "```"
   ]
  },
  {
   "cell_type": "code",
   "execution_count": null,
   "metadata": {
    "id": "JsxGlqHi5CHp"
   },
   "outputs": [],
   "source": []
  },
  {
   "cell_type": "markdown",
   "metadata": {
    "id": "PBrcxc3X_JhZ"
   },
   "source": [
    "### 3.10 描画した図のダウンロード"
   ]
  },
  {
   "cell_type": "markdown",
   "metadata": {
    "id": "K3HHhtpoCVmr"
   },
   "source": [
    "* プログラム実行時に自動でダウンロードさせたい場合は，以下の手順を行う\n",
    "    1. 描画した図をmatplotlibの[savefig()関数](https://matplotlib.org/api/_as_gen/matplotlib.pyplot.savefig.html)を使って画像ファイルとして保存\n",
    "        * `plt.show()`を呼ばずに`plt.savefig(\"ファイル名\")`を呼ぶ\n",
    "    2. google.colabのライブラリを使用して画像ファイルをダウンロードする\n",
    "* 手動ダウンロードでよければ，グラフ表示後，画像を右クリックして画像を保存するだけでよい"
   ]
  },
  {
   "cell_type": "markdown",
   "metadata": {
    "id": "Y5gZohlGDAv8"
   },
   "source": [
    "* 【実習】八戸の気象データに対するペアプロット図をダウンロードする\n",
    "   * エラーが出た場合，もう一回試すとうまくいくことがある"
   ]
  },
  {
   "cell_type": "markdown",
   "metadata": {
    "id": "nIYult3zaCx9"
   },
   "source": [
    "```\n",
    "#--#--#--#--#--#--#--#--#--#--#--#--#--#--#--#--#--#--#--#\n",
    "from google.colab import files\n",
    "\n",
    "sns.pairplot(hachinohe)\n",
    "plt.savefig(\"pairplot.png\")\n",
    "files.download(\"pairplot.png\")\n",
    "#--#--#--#--#--#--#--#--#--#--#--#--#--#--#--#--#--#--#--#\n",
    "```\n"
   ]
  },
  {
   "cell_type": "code",
   "execution_count": null,
   "metadata": {
    "id": "SvV7DvGq_M9Z"
   },
   "outputs": [],
   "source": []
  },
  {
   "cell_type": "markdown",
   "metadata": {
    "id": "5pSC3tOnMmgO"
   },
   "source": [
    " ## 第4章 総合演習1"
   ]
  },
  {
   "cell_type": "markdown",
   "metadata": {
    "id": "AnJfwkYpMsBl"
   },
   "source": [
    "* これまで学習した知識を利用してタイタニックデータの解析を行う\n",
    "* タイタニックデータ：沈没したタイタニック号の乗客データ\n",
    "    * [データの説明](https://www.kaggle.com/c/titanic/data)\n",
    "* タイタニックに関する情報\n",
    "    * [Wikipedia](https://ja.wikipedia.org/wiki/タイタニック_(客船))\n",
    "    * [Wikipedia（映画）](https://ja.wikipedia.org/wiki/タイタニック_(1997年の映画))\n",
    "    * Youtube\n",
    "        * [Titanic号](https://youtu.be/3lyiZMeTKIo)\n",
    "        * [映画Titanic](https://www.youtube.com/watch?v=1YGfrGKK9Mo)\n",
    "        * [Titanic号沈没](https://www.youtube.com/watch?v=tTJhOHXxa6w)"
   ]
  },
  {
   "cell_type": "markdown",
   "metadata": {
    "id": "tCzBmSyAJ91O"
   },
   "source": [
    "### 4.1 データの準備"
   ]
  },
  {
   "cell_type": "markdown",
   "metadata": {
    "id": "LoLWSQ8GM0wZ"
   },
   "source": [
    "* 【実習】タイタニックデータ読み込み"
   ]
  },
  {
   "cell_type": "markdown",
   "metadata": {
    "id": "jJvibMyhgEuM"
   },
   "source": [
    "```\n",
    "#--#--#--#--#--#--#--#--#--#--#--#--#--#--#--#--#--#--#--#\n",
    "import seaborn as sns\n",
    "titanic = sns.load_dataset('titanic')\n",
    "#--#--#--#--#--#--#--#--#--#--#--#--#--#--#--#--#--#--#--#\n",
    "```"
   ]
  },
  {
   "cell_type": "code",
   "execution_count": null,
   "metadata": {
    "id": "Swp4h_6lNS5o"
   },
   "outputs": [],
   "source": []
  },
  {
   "cell_type": "markdown",
   "metadata": {
    "id": "BpegjY4HM95v"
   },
   "source": [
    "* 【実習】読み込んだデータの型を確認する"
   ]
  },
  {
   "cell_type": "markdown",
   "metadata": {
    "id": "Gml13mzKgGHP"
   },
   "source": [
    "```\n",
    "#--#--#--#--#--#--#--#--#--#--#--#--#--#--#--#--#--#--#--#\n",
    "type(titanic)\n",
    "#--#--#--#--#--#--#--#--#--#--#--#--#--#--#--#--#--#--#--#\n",
    "```"
   ]
  },
  {
   "cell_type": "code",
   "execution_count": null,
   "metadata": {
    "id": "_VlWdgB2NcTt"
   },
   "outputs": [],
   "source": []
  },
  {
   "cell_type": "markdown",
   "metadata": {
    "id": "ifSXK92kNDR6"
   },
   "source": [
    "* 【実習】データフレームの概要情報を確認する"
   ]
  },
  {
   "cell_type": "markdown",
   "metadata": {
    "id": "AMOChlLfgIO1"
   },
   "source": [
    "```\n",
    "#--#--#--#--#--#--#--#--#--#--#--#--#--#--#--#--#--#--#--#\n",
    "titanic.info()\n",
    "#--#--#--#--#--#--#--#--#--#--#--#--#--#--#--#--#--#--#--#\n",
    "```"
   ]
  },
  {
   "cell_type": "code",
   "execution_count": null,
   "metadata": {
    "id": "JqdQQkPKBxQO"
   },
   "outputs": [],
   "source": []
  },
  {
   "cell_type": "markdown",
   "metadata": {
    "id": "3iyQfQfYO32p"
   },
   "source": [
    "* 【実習】データフレームの先頭データを表示する"
   ]
  },
  {
   "cell_type": "markdown",
   "metadata": {
    "id": "sRz7zYTPgJg7"
   },
   "source": [
    "```\n",
    "#--#--#--#--#--#--#--#--#--#--#--#--#--#--#--#--#--#--#--#\n",
    "titanic.head()\n",
    "#--#--#--#--#--#--#--#--#--#--#--#--#--#--#--#--#--#--#--#\n",
    "```"
   ]
  },
  {
   "cell_type": "code",
   "execution_count": null,
   "metadata": {
    "id": "UNGCuZaDNj9c"
   },
   "outputs": [],
   "source": []
  },
  {
   "cell_type": "markdown",
   "metadata": {
    "id": "sk-1p2VYPYKS"
   },
   "source": [
    "* 【実習】読み込んだデータの基本統計情報を表示する\n",
    "    * `survived`の平均値が生存率を意味することに注意"
   ]
  },
  {
   "cell_type": "markdown",
   "metadata": {
    "id": "oZtHQgz6gLNk"
   },
   "source": [
    "```\n",
    "#--#--#--#--#--#--#--#--#--#--#--#--#--#--#--#--#--#--#--#\n",
    "titanic.describe()\n",
    "#--#--#--#--#--#--#--#--#--#--#--#--#--#--#--#--#--#--#--#\n",
    "```"
   ]
  },
  {
   "cell_type": "code",
   "execution_count": null,
   "metadata": {
    "id": "jU9Z6gCtN91f"
   },
   "outputs": [],
   "source": []
  },
  {
   "cell_type": "markdown",
   "metadata": {
    "id": "kGHkA_eAPt6n"
   },
   "source": [
    "### 4.2 データ解析"
   ]
  },
  {
   "cell_type": "markdown",
   "metadata": {
    "id": "zG84HafCQU-H"
   },
   "source": [
    "* 【実習】__演習__：乗客の年齢分布を図示してください"
   ]
  },
  {
   "cell_type": "code",
   "execution_count": null,
   "metadata": {
    "id": "yz-hR1TCUbuR"
   },
   "outputs": [],
   "source": []
  },
  {
   "cell_type": "markdown",
   "metadata": {
    "id": "-NPGEEB-Q7by"
   },
   "source": [
    "* 【実習】__演習__：性別（`sex`）ごとの基本統計情報を出力してください\n",
    "    * 性別により生存率に違いがあるでしょうか？"
   ]
  },
  {
   "cell_type": "code",
   "execution_count": null,
   "metadata": {
    "id": "QsEeWyKgQJi-"
   },
   "outputs": [],
   "source": []
  },
  {
   "cell_type": "markdown",
   "metadata": {
    "id": "iYnpYW5oUB_Q"
   },
   "source": [
    "* 【実習】__演習__：チケットの等級（`pclass`）ごとの基本統計情報を出力してください\n",
    "    * チケット等級により生存率に違いがあるでしょうか？"
   ]
  },
  {
   "cell_type": "code",
   "execution_count": null,
   "metadata": {
    "id": "P2QRlUikRURN"
   },
   "outputs": [],
   "source": []
  },
  {
   "cell_type": "markdown",
   "metadata": {
    "id": "jLvoc2G7UT32"
   },
   "source": [
    "* 【実習】__演習__：乗船地（`embark_town`）ごとの基本統計情報を出力してください\n",
    "    * 乗船地により生存率に違いがあるのでしょうか？\n",
    "    * 乗船地により，チケット等級に違いがあるでしょうか"
   ]
  },
  {
   "cell_type": "code",
   "execution_count": null,
   "metadata": {
    "id": "SgCzYuPXQ-zP"
   },
   "outputs": [],
   "source": []
  },
  {
   "cell_type": "markdown",
   "metadata": {
    "id": "mz4lDw3tVOTX"
   },
   "source": [
    "* 【実習】__演習__：数値データに関する相関行列を求めてください\n",
    "    * 生存率と相関が大きい数値データはどれでしょうか？"
   ]
  },
  {
   "cell_type": "code",
   "execution_count": null,
   "metadata": {
    "id": "e5qYosrsRrnd"
   },
   "outputs": [],
   "source": []
  },
  {
   "cell_type": "markdown",
   "metadata": {
    "id": "3KSbU9BneDzS"
   },
   "source": [
    "* 【実習】__演習__：本データセットに含まれる10歳未満の乗客の数を求めてください"
   ]
  },
  {
   "cell_type": "code",
   "execution_count": null,
   "metadata": {
    "id": "T93OIhSoeUCA"
   },
   "outputs": [],
   "source": []
  },
  {
   "cell_type": "markdown",
   "metadata": {
    "id": "8zOyZTk1hsW6"
   },
   "source": [
    "* 【実習】__演習__：本データセットに含まれる10歳未満の乗客の生存率を求めてください"
   ]
  },
  {
   "cell_type": "code",
   "execution_count": null,
   "metadata": {
    "id": "r9tg6F9kgtk4"
   },
   "outputs": [],
   "source": []
  },
  {
   "cell_type": "markdown",
   "metadata": {
    "id": "pbV8G4XJiwCm"
   },
   "source": [
    "## 第5章 scikit-learnを用いた線形回帰"
   ]
  },
  {
   "cell_type": "markdown",
   "metadata": {
    "id": "KWLD1YRWjrYe"
   },
   "source": [
    "### 5.1 機械学習ライブラリ "
   ]
  },
  {
   "cell_type": "markdown",
   "metadata": {
    "id": "V0bcngIZj9_F"
   },
   "source": [
    "* Pythonの機械学習ライブラリとして[scikit-learn](https://scikit-learn.org/stable/)がある\n",
    "* 今回はscikit-learnの[線形回帰の関数](https://scikit-learn.org/stable/modules/generated/sklearn.linear_model.LinearRegression.html)を使用する"
   ]
  },
  {
   "cell_type": "markdown",
   "metadata": {
    "id": "yc8khSoSkzfD"
   },
   "source": [
    "### 5.2 データの準備"
   ]
  },
  {
   "cell_type": "markdown",
   "metadata": {
    "id": "VBcUwy1jk4na"
   },
   "source": [
    "* 2.8節で読み込んだ気象データを使用する\n",
    "* 今回はその中の1月のデータのみを使用する"
   ]
  },
  {
   "cell_type": "markdown",
   "metadata": {
    "id": "ORlaeTK1k12x"
   },
   "source": [
    "* 【実習】2.8節（外部からのデータ読み込み）の手順で気象データを読み込む（読み込み済みの場合は不要）"
   ]
  },
  {
   "cell_type": "markdown",
   "metadata": {
    "id": "Ob0M8nocpYJX"
   },
   "source": [
    "* 【実習】気象データから1月のデータのみを取り出す"
   ]
  },
  {
   "cell_type": "markdown",
   "metadata": {
    "id": "dOPpGVZPaO6n"
   },
   "source": [
    "```\n",
    "#--#--#--#--#--#--#--#--#--#--#--#--#--#--#--#--#--#--#--#\n",
    "import numpy as np\n",
    "jan = weather[weather[\"month\"]==\"Jan\"]\n",
    "jan\n",
    "#--#--#--#--#--#--#--#--#--#--#--#--#--#--#--#--#--#--#--#\n",
    "```"
   ]
  },
  {
   "cell_type": "code",
   "execution_count": null,
   "metadata": {
    "id": "B_9VmjN1qWVd"
   },
   "outputs": [],
   "source": []
  },
  {
   "cell_type": "markdown",
   "metadata": {
    "id": "747i_5NAsu3V"
   },
   "source": [
    "### 5.3 データの概要確認"
   ]
  },
  {
   "cell_type": "markdown",
   "metadata": {
    "id": "RrXHrB-EtYBW"
   },
   "source": [
    "* 【実習】1月の気象データについて基本統計量を計算する"
   ]
  },
  {
   "cell_type": "markdown",
   "metadata": {
    "id": "Uad8dOtfaQFM"
   },
   "source": [
    "```\n",
    "#--#--#--#--#--#--#--#--#--#--#--#--#--#--#--#--#--#--#--#\n",
    "jan.describe()\n",
    "#--#--#--#--#--#--#--#--#--#--#--#--#--#--#--#--#--#--#--#\n",
    "```"
   ]
  },
  {
   "cell_type": "code",
   "execution_count": null,
   "metadata": {
    "id": "KHcynu8ttdy4"
   },
   "outputs": [],
   "source": []
  },
  {
   "cell_type": "markdown",
   "metadata": {
    "id": "9ug-21dGsFN2"
   },
   "source": [
    "* 【実習】1月の気象データについて相関行列を求める"
   ]
  },
  {
   "cell_type": "markdown",
   "metadata": {
    "id": "WzOMzb6maUZF"
   },
   "source": [
    "```\n",
    "#--#--#--#--#--#--#--#--#--#--#--#--#--#--#--#--#--#--#--#\n",
    "jan.corr()\n",
    "#--#--#--#--#--#--#--#--#--#--#--#--#--#--#--#--#--#--#--#\n",
    "```"
   ]
  },
  {
   "cell_type": "code",
   "execution_count": null,
   "metadata": {
    "id": "kdppebyysVK4"
   },
   "outputs": [],
   "source": []
  },
  {
   "cell_type": "markdown",
   "metadata": {
    "id": "jMNuuRPks7lQ"
   },
   "source": [
    "* 【実習】緯度と最高気温に関して散布図を作成する\n",
    "    * [`scatter()`ドキュメント](https://matplotlib.org/api/_as_gen/matplotlib.pyplot.scatter.html)"
   ]
  },
  {
   "cell_type": "markdown",
   "metadata": {
    "id": "HrGwMBvbaVjV"
   },
   "source": [
    "```\n",
    "#--#--#--#--#--#--#--#--#--#--#--#--#--#--#--#--#--#--#--#\n",
    "import matplotlib.pyplot as plt\n",
    "plt.scatter(jan[\"latitude\"], jan[\"max_temp\"])\n",
    "plt.xlabel(\"latitude\")\n",
    "plt.ylabel(\"max temp\")\n",
    "plt.title(\"Jan. 2018\")\n",
    "plt.show()\n",
    "#--#--#--#--#--#--#--#--#--#--#--#--#--#--#--#--#--#--#--#\n",
    "```"
   ]
  },
  {
   "cell_type": "code",
   "execution_count": null,
   "metadata": {
    "id": "pgzQ3F7nqe0-"
   },
   "outputs": [],
   "source": []
  },
  {
   "cell_type": "markdown",
   "metadata": {
    "id": "5LHdd_4MvGbZ"
   },
   "source": [
    "### 5.4 線形回帰"
   ]
  },
  {
   "cell_type": "markdown",
   "metadata": {
    "id": "d3MoUya1v_Sp"
   },
   "source": [
    "* 線形回帰を用いて，緯度から最高気温を求める関数を作る\n",
    "* scikit-learnの[線形回帰の関数](https://scikit-learn.org/stable/modules/generated/sklearn.linear_model.LinearRegression.html)を使用する\n",
    "    * x（説明変数）の指定の仕方がやや特殊なので注意する\n",
    "        * `df[\"列名\"]`でなく，`df[[\"列名\"]]`とする\n",
    "        * `df[\"列名\"]`とするとSeriesというデータ構造でデータ取り出されるが，今回は1列からなるDataframeをライブラリに渡す必要があるため，このような書き方になる（`df[リスト]`と指定するとデータフレームが返される）"
   ]
  },
  {
   "cell_type": "markdown",
   "metadata": {
    "id": "F4V9Agu3AZjx"
   },
   "source": [
    "* 【実習】緯度情報だけからなるDataframeを作成する"
   ]
  },
  {
   "cell_type": "markdown",
   "metadata": {
    "id": "eiTrRnalaWqi"
   },
   "source": [
    "```\n",
    "#--#--#--#--#--#--#--#--#--#--#--#--#--#--#--#--#--#--#--#\n",
    "jan[[\"latitude\"]]\n",
    "#--#--#--#--#--#--#--#--#--#--#--#--#--#--#--#--#--#--#--#\n",
    "```"
   ]
  },
  {
   "cell_type": "code",
   "execution_count": null,
   "metadata": {
    "id": "mbq4is5MzMFV"
   },
   "outputs": [],
   "source": []
  },
  {
   "cell_type": "markdown",
   "metadata": {
    "id": "rcKFpoWnAnON"
   },
   "source": [
    "* 【実習】最高気温の情報を取り出す（こちらは通常どおりDataframeから1列を取り出す）"
   ]
  },
  {
   "cell_type": "markdown",
   "metadata": {
    "id": "ynWSjAxuaX3d"
   },
   "source": [
    "```\n",
    "#--#--#--#--#--#--#--#--#--#--#--#--#--#--#--#--#--#--#--#\n",
    "jan[\"max_temp\"]\n",
    "#--#--#--#--#--#--#--#--#--#--#--#--#--#--#--#--#--#--#--#\n",
    "```"
   ]
  },
  {
   "cell_type": "code",
   "execution_count": null,
   "metadata": {
    "id": "9zyumwGv0qiq"
   },
   "outputs": [],
   "source": []
  },
  {
   "cell_type": "markdown",
   "metadata": {
    "id": "j57NmSMiBLv3"
   },
   "source": [
    "* 【実習】緯度から最高気温を予測する線形関数を作る\n",
    "    * つまり`最高気温 = a * 緯度 + b`という関数を作り，`a`,`b`を求める\n",
    "    * scikit-learn LinearRegressionの[fit()関数](https://scikit-learn.org/stable/modules/generated/sklearn.linear_model.LinearRegression.html#sklearn.linear_model.LinearRegression.fit)を使用して学習する\n",
    "    * 学習後，説明変数の係数`a`が`model.coef_`に，切片`b`が`model.intercept_`に格納される\n",
    "        * 説明変数が複数指定されることもあるので，`model.coef_`はリストになっている\n",
    "    \n",
    "    \n"
   ]
  },
  {
   "cell_type": "markdown",
   "metadata": {
    "id": "-iG3A68faY_n"
   },
   "source": [
    "```\n",
    "#--#--#--#--#--#--#--#--#--#--#--#--#--#--#--#--#--#--#--#\n",
    "from sklearn.linear_model import LinearRegression\n",
    "model = LinearRegression()\n",
    "model.fit(jan[[\"latitude\"]], jan[\"max_temp\"])\n",
    "aa = model.coef_\n",
    "b = model.intercept_\n",
    "print(\"aa = \", aa)\n",
    "print(\"b = \", b)\n",
    "#--#--#--#--#--#--#--#--#--#--#--#--#--#--#--#--#--#--#--#\n",
    "```"
   ]
  },
  {
   "cell_type": "code",
   "execution_count": null,
   "metadata": {
    "id": "xe7pa-A2wjlp"
   },
   "outputs": [],
   "source": []
  },
  {
   "cell_type": "markdown",
   "metadata": {
    "id": "MmOBraUIG6I1"
   },
   "source": [
    "* 【実習】八戸（緯度=40.512449）での最高気温の予測値を求める（自分で計算する）"
   ]
  },
  {
   "cell_type": "markdown",
   "metadata": {
    "id": "qXw3vRx9adai"
   },
   "source": [
    "```\n",
    "#--#--#--#--#--#--#--#--#--#--#--#--#--#--#--#--#--#--#--#\n",
    "aa[0] * 40.512449 + b\n",
    "#--#--#--#--#--#--#--#--#--#--#--#--#--#--#--#--#--#--#--#\n",
    "```"
   ]
  },
  {
   "cell_type": "code",
   "execution_count": null,
   "metadata": {
    "id": "LY9L6ZiRHbHr"
   },
   "outputs": [],
   "source": []
  },
  {
   "cell_type": "markdown",
   "metadata": {
    "id": "2QPRwTGCJy18"
   },
   "source": [
    "* 【実習】[`predict()`関数](https://scikit-learn.org/stable/modules/generated/sklearn.linear_model.LinearRegression.html#sklearn.linear_model.LinearRegression.predict)を使って八戸（緯度=40.512449）の最高気温の予測値を求める\n",
    "    * これも引数の指定方法がやや特殊なので注意する\n",
    "    * リストに複数の入力を入れると，各入力に対する予測値を計算してくれる．各入力値はリストで指定される"
   ]
  },
  {
   "cell_type": "markdown",
   "metadata": {
    "id": "ooD3VORuafmc"
   },
   "source": [
    "```\n",
    "#--#--#--#--#--#--#--#--#--#--#--#--#--#--#--#--#--#--#--#\n",
    "model.predict([[40.512449]])\n",
    "#--#--#--#--#--#--#--#--#--#--#--#--#--#--#--#--#--#--#--#\n",
    "```"
   ]
  },
  {
   "cell_type": "code",
   "execution_count": null,
   "metadata": {
    "id": "efekDx75J-Ia"
   },
   "outputs": [],
   "source": []
  },
  {
   "cell_type": "markdown",
   "metadata": {
    "id": "YHgy8erILfbe"
   },
   "source": [
    "* 【実習】[`predict()`関数](https://scikit-learn.org/stable/modules/generated/sklearn.linear_model.LinearRegression.html#sklearn.linear_model.LinearRegression.predict)を使って仙台（緯度=38.268201）と那覇（緯度=26.212378）の最高気温の予測値を求める"
   ]
  },
  {
   "cell_type": "markdown",
   "metadata": {
    "id": "WC6at4-ragiF"
   },
   "source": [
    "```\n",
    "#--#--#--#--#--#--#--#--#--#--#--#--#--#--#--#--#--#--#--#\n",
    "model.predict([[38.268201], [26.212378]])\n",
    "#--#--#--#--#--#--#--#--#--#--#--#--#--#--#--#--#--#--#--#\n",
    "```"
   ]
  },
  {
   "cell_type": "code",
   "execution_count": null,
   "metadata": {
    "id": "Ssyn7xn8LyE7"
   },
   "outputs": [],
   "source": []
  },
  {
   "cell_type": "markdown",
   "metadata": {
    "id": "hAo_uMfaGap3"
   },
   "source": [
    "* 【実習】学習した直線を描画する\n",
    "    * 各都市の緯度（`jan[\"latitude\"]`）に対する最高気温の予測値（`model.predict(jan[[\"latitude\"]])`）を計算し，それらを直線でつなぐ"
   ]
  },
  {
   "cell_type": "markdown",
   "metadata": {
    "id": "5fuXyiwvahYl"
   },
   "source": [
    "```\n",
    "#--#--#--#--#--#--#--#--#--#--#--#--#--#--#--#--#--#--#--#\n",
    "plt.scatter(jan[\"latitude\"], jan[\"max_temp\"])\n",
    "plt.plot(jan[\"latitude\"], model.predict(jan[[\"latitude\"]]), \"red\")\n",
    "plt.xlabel(\"latitude\")\n",
    "plt.ylabel(\"max temp\")\n",
    "plt.title(\"Jan. 2018\")\n",
    "plt.show()\n",
    "#--#--#--#--#--#--#--#--#--#--#--#--#--#--#--#--#--#--#--#\n",
    "```"
   ]
  },
  {
   "cell_type": "code",
   "execution_count": null,
   "metadata": {
    "id": "BsBaTs_FE1--"
   },
   "outputs": [],
   "source": []
  },
  {
   "cell_type": "markdown",
   "metadata": {
    "id": "hEXNGydhMTH_"
   },
   "source": [
    "* 【実習】一関（緯度=38.93469）の最高気温を予測する\n",
    "    * 実際は10.6度だった"
   ]
  },
  {
   "cell_type": "markdown",
   "metadata": {
    "id": "BCqQ4dxWaiW7"
   },
   "source": [
    "```\n",
    "#--#--#--#--#--#--#--#--#--#--#--#--#--#--#--#--#--#--#--#\n",
    "model.predict([[38.93469]])\n",
    "#--#--#--#--#--#--#--#--#--#--#--#--#--#--#--#--#--#--#--#\n",
    "```"
   ]
  },
  {
   "cell_type": "code",
   "execution_count": null,
   "metadata": {
    "id": "nfu_KKFuMpu6"
   },
   "outputs": [],
   "source": []
  },
  {
   "cell_type": "markdown",
   "metadata": {
    "id": "XWhBVxr2fmpG"
   },
   "source": [
    "## 第6章 scikit-learnを用いた分類"
   ]
  },
  {
   "cell_type": "markdown",
   "metadata": {
    "id": "LbmdTqD8yILw"
   },
   "source": [
    "* 2.8節の気象データのうち，1月と5月のデータのみを使用する\n",
    "* 最低気温と緯度の情報から各行が1月のデータなのか5月のデータなのかを推定する\n",
    "    * 1月ならTrue，5月ならFalseを返す分類器を作る\n",
    "* 機械学習のライブラリとして今回もscikit-learnを使用する"
   ]
  },
  {
   "cell_type": "markdown",
   "metadata": {
    "id": "ggPn7GVGzmWZ"
   },
   "source": [
    "### 6.1 データの準備"
   ]
  },
  {
   "cell_type": "markdown",
   "metadata": {
    "id": "4iclb-Utzw1j"
   },
   "source": [
    "* 【実習】2.8節（外部からのデータ読み込み）の手順で気象データを読み込む（読み込み済みの場合は不要）"
   ]
  },
  {
   "cell_type": "markdown",
   "metadata": {
    "id": "h0oF0LJbz6kI"
   },
   "source": [
    "* 【実習】列（列名:isJan）を追加し，1月ならTrue，そうでなければFalseを格納する\n",
    "    * 最低気温と緯度からこの値を予測することにする"
   ]
  },
  {
   "cell_type": "markdown",
   "metadata": {
    "id": "L63Gve5SalE2"
   },
   "source": [
    "```\n",
    "#--#--#--#--#--#--#--#--#--#--#--#--#--#--#--#--#--#--#--#\n",
    "weather[\"isJan\"] = (weather[\"month\"] == \"Jan\")\n",
    "weather.head(15)\n",
    "#--#--#--#--#--#--#--#--#--#--#--#--#--#--#--#--#--#--#--#\n",
    "```"
   ]
  },
  {
   "cell_type": "code",
   "execution_count": null,
   "metadata": {
    "id": "Ox8GN6u-0pM0"
   },
   "outputs": [],
   "source": []
  },
  {
   "cell_type": "markdown",
   "metadata": {
    "id": "23JfGEjDzxy4"
   },
   "source": [
    "* 【実習】気象データから1月と5月のデータのみを取り出す"
   ]
  },
  {
   "cell_type": "markdown",
   "metadata": {
    "id": "NZAAUu_2ao2_"
   },
   "source": [
    "```\n",
    "#--#--#--#--#--#--#--#--#--#--#--#--#--#--#--#--#--#--#--#\n",
    "weather2 = weather[(weather[\"month\"] == \"Jan\") | (weather[\"month\"] == \"May\")]\n",
    "weather2\n",
    "#--#--#--#--#--#--#--#--#--#--#--#--#--#--#--#--#--#--#--#\n",
    "```"
   ]
  },
  {
   "cell_type": "code",
   "execution_count": null,
   "metadata": {
    "id": "Hd2VUAx4odBW"
   },
   "outputs": [],
   "source": []
  },
  {
   "cell_type": "markdown",
   "metadata": {
    "id": "MBj6G_OO4xjt"
   },
   "source": [
    "### 6.2 ロジスティック回帰"
   ]
  },
  {
   "cell_type": "markdown",
   "metadata": {
    "id": "3aetU_DfD4pC"
   },
   "source": [
    "* scikit-learnの[LogisticRegression](https://scikit-learn.org/stable/modules/generated/sklearn.linear_model.LogisticRegression.html)を使う"
   ]
  },
  {
   "cell_type": "markdown",
   "metadata": {
    "id": "tF5iANZj7kjs"
   },
   "source": [
    "* まずは，最低気温だけから1月か否かを分類する"
   ]
  },
  {
   "cell_type": "markdown",
   "metadata": {
    "id": "knDMoxJN_VbF"
   },
   "source": [
    "* 【実習】最低気温とisJan（1月か否か）を描画してみる\n",
    "    * 閾値で分類でしても程度はうまくいきそう"
   ]
  },
  {
   "cell_type": "markdown",
   "metadata": {
    "id": "-UaXgZq5aq0k"
   },
   "source": [
    "```\n",
    "#--#--#--#--#--#--#--#--#--#--#--#--#--#--#--#--#--#--#--#\n",
    "import matplotlib.pyplot as plt\n",
    "\n",
    "plt.scatter(weather2[\"min_temp\"],weather2[\"isJan\"])\n",
    "plt.xlabel(\"min temp\")\n",
    "plt.ylabel(\"isJan\")\n",
    "plt.show()\n",
    "#--#--#--#--#--#--#--#--#--#--#--#--#--#--#--#--#--#--#--#\n",
    "```"
   ]
  },
  {
   "cell_type": "code",
   "execution_count": null,
   "metadata": {
    "id": "BWGUescz_jtt"
   },
   "outputs": [],
   "source": []
  },
  {
   "cell_type": "markdown",
   "metadata": {
    "id": "P093M2Lf76sW"
   },
   "source": [
    "* 【実習】ロジスティック回帰を用いて，最低気温から1月か否かを推定するモデルを作る\n",
    "    * scikit-learn LogisticRegressionの[fit()関数](https://scikit-learn.org/stable/modules/generated/sklearn.linear_model.LogisticRegression.html#sklearn.linear_model.LogisticRegression.fit)を使用して学習する\n"
   ]
  },
  {
   "cell_type": "markdown",
   "metadata": {
    "id": "7cYhzJQEasbo"
   },
   "source": [
    "```\n",
    "#--#--#--#--#--#--#--#--#--#--#--#--#--#--#--#--#--#--#--#\n",
    "from sklearn.linear_model import LogisticRegression\n",
    "model1 = LogisticRegression()\n",
    "model1.fit(weather2[[\"min_temp\"]], weather2[\"isJan\"])\n",
    "#--#--#--#--#--#--#--#--#--#--#--#--#--#--#--#--#--#--#--#\n",
    "```"
   ]
  },
  {
   "cell_type": "code",
   "execution_count": null,
   "metadata": {
    "id": "BzO3uD-u5Enz"
   },
   "outputs": [],
   "source": []
  },
  {
   "cell_type": "markdown",
   "metadata": {
    "id": "J0ONMcZ4853F"
   },
   "source": [
    "* 【実習】大阪の1月の最低気温（-2.5度）を入れて，これが1月のデータか否かを判定する\n",
    "    * [`predict()`関数](https://scikit-learn.org/stable/modules/generated/sklearn.linear_model.LogisticRegression.html#sklearn.linear_model.LogisticRegression.predict)を使う"
   ]
  },
  {
   "cell_type": "markdown",
   "metadata": {
    "id": "6LHYXtKzaukp"
   },
   "source": [
    "```\n",
    "#--#--#--#--#--#--#--#--#--#--#--#--#--#--#--#--#--#--#--#\n",
    "model1.predict([[-2.5]])\n",
    "#--#--#--#--#--#--#--#--#--#--#--#--#--#--#--#--#--#--#--#\n",
    "```"
   ]
  },
  {
   "cell_type": "code",
   "execution_count": null,
   "metadata": {
    "id": "XUShDagg9LxF"
   },
   "outputs": [],
   "source": []
  },
  {
   "cell_type": "markdown",
   "metadata": {
    "id": "dxWj4P_i9VuT"
   },
   "source": [
    "* 【実習】一関のある月の最低気温（5.4度）を入れて，これが1月のデータか否かを判定する\n",
    "    * 実際は5月のデータ"
   ]
  },
  {
   "cell_type": "markdown",
   "metadata": {
    "id": "ZNIVMeOxavtC"
   },
   "source": [
    "```\n",
    "#--#--#--#--#--#--#--#--#--#--#--#--#--#--#--#--#--#--#--#\n",
    "model1.predict([[5.4]])\n",
    "#--#--#--#--#--#--#--#--#--#--#--#--#--#--#--#--#--#--#--#\n",
    "```"
   ]
  },
  {
   "cell_type": "code",
   "execution_count": null,
   "metadata": {
    "id": "FDkuwgMD9lgt"
   },
   "outputs": [],
   "source": []
  },
  {
   "cell_type": "markdown",
   "metadata": {
    "id": "JWGJt-Fb-KZ0"
   },
   "source": [
    "* 【実習】那覇の1月の最低気温（9.3度）を入れて，これが1月のデータか否かを判定する\n",
    "   * これは間違えてしまう．最低気温だけから月を推定するのは難しい．"
   ]
  },
  {
   "cell_type": "markdown",
   "metadata": {
    "id": "VnHU0w0FawkN"
   },
   "source": [
    "```\n",
    "#--#--#--#--#--#--#--#--#--#--#--#--#--#--#--#--#--#--#--#\n",
    "model1.predict([[9.3]])\n",
    "#--#--#--#--#--#--#--#--#--#--#--#--#--#--#--#--#--#--#--#\n",
    "```"
   ]
  },
  {
   "cell_type": "code",
   "execution_count": null,
   "metadata": {
    "id": "kF7gvapU-cJ9"
   },
   "outputs": [],
   "source": []
  },
  {
   "cell_type": "markdown",
   "metadata": {
    "id": "rfBiPeWoANDF"
   },
   "source": [
    "* 【実習】作成したモデルを描画する"
   ]
  },
  {
   "cell_type": "markdown",
   "metadata": {
    "id": "6ELyUmjsaxvC"
   },
   "source": [
    "```\n",
    "#--#--#--#--#--#--#--#--#--#--#--#--#--#--#--#--#--#--#--#\n",
    "x2 = np.linspace(-20, 20, 100)\n",
    "y2 = 1 / (1 + np.exp(-(model1.coef_[0,0] * x2 + model1.intercept_[0])))\n",
    "plt.plot(weather2[\"min_temp\"],weather2[\"isJan\"], \"o\")\n",
    "plt.plot(x2,y2)\n",
    "plt.xlabel(\"min temp\")\n",
    "plt.ylabel(\"isJan\")\n",
    "plt.show()\n",
    "#--#--#--#--#--#--#--#--#--#--#--#--#--#--#--#--#--#--#--#\n",
    "```"
   ]
  },
  {
   "cell_type": "code",
   "execution_count": null,
   "metadata": {
    "id": "himkQ52p5h8L"
   },
   "outputs": [],
   "source": []
  },
  {
   "cell_type": "markdown",
   "metadata": {
    "id": "1RGsNwDm-088"
   },
   "source": [
    "* 次に最低気温と緯度の情報からそのデータが1月のものか否かを判定することを考える"
   ]
  },
  {
   "cell_type": "markdown",
   "metadata": {
    "id": "VyjZ03g4Bh8G"
   },
   "source": [
    "* 【実習】サンプルごとの最低気温と緯度を描画してみる（●：1月データ，×：5月データ）\n",
    "    * 斜めに線を引けば，うまく分類できそう"
   ]
  },
  {
   "cell_type": "markdown",
   "metadata": {
    "id": "9w7dpHMdazEi"
   },
   "source": [
    "```\n",
    "#--#--#--#--#--#--#--#--#--#--#--#--#--#--#--#--#--#--#--#\n",
    "plt.scatter(weather2[weather2[\"isJan\"]==True][\"min_temp\"], weather2[weather2[\"isJan\"]==True][\"latitude\"], marker=\"o\")\n",
    "plt.scatter(weather2[weather2[\"isJan\"]==False][\"min_temp\"], weather2[weather2[\"isJan\"]==False][\"latitude\"], marker=\"x\")\n",
    "plt.xlabel(\"min temp\")\n",
    "plt.ylabel(\"latitude\")\n",
    "plt.show()\n",
    "#--#--#--#--#--#--#--#--#--#--#--#--#--#--#--#--#--#--#--#\n",
    "```"
   ]
  },
  {
   "cell_type": "code",
   "execution_count": null,
   "metadata": {
    "id": "D_Yrc5WUAzXn"
   },
   "outputs": [],
   "source": []
  },
  {
   "cell_type": "markdown",
   "metadata": {
    "id": "esN_tiOUCQL2"
   },
   "source": [
    "* 【実習】ロジスティック回帰を用いて，最低気温と緯度から1月か否かを推定するモデルを作る\n",
    "    * `C`はモデルの複雑度を制御するパラメータ．今回は複雑で良いので値を大きくする．詳細は[ドキュメント](https://scikit-learn.org/stable/modules/generated/sklearn.linear_model.LogisticRegression.html#sklearn.linear_model.LogisticRegression.fit)を参照のこと．"
   ]
  },
  {
   "cell_type": "markdown",
   "metadata": {
    "id": "3Ii1Q0JMa0Rk"
   },
   "source": [
    "```\n",
    "#--#--#--#--#--#--#--#--#--#--#--#--#--#--#--#--#--#--#--#\n",
    "from sklearn.linear_model import LogisticRegression\n",
    "model2 = LogisticRegression()\n",
    "model2.fit(weather2[[\"min_temp\", \"latitude\"]], weather2[\"isJan\"])\n",
    "#--#--#--#--#--#--#--#--#--#--#--#--#--#--#--#--#--#--#--#\n",
    "```"
   ]
  },
  {
   "cell_type": "code",
   "execution_count": null,
   "metadata": {
    "id": "re1nfWxFn8Ir"
   },
   "outputs": [],
   "source": []
  },
  {
   "cell_type": "markdown",
   "metadata": {
    "id": "RsiJStNHFEtq"
   },
   "source": [
    "* 【実習】那覇の1月の最低気温（9.3度）と緯度（26.212378）を入れて，これが1月のデータか否かを判定する\n",
    "    * [`predict()`関数](https://scikit-learn.org/stable/modules/generated/sklearn.linear_model.LogisticRegression.html#sklearn.linear_model.LogisticRegression.predict)を使う\n",
    "    * 正しく推定できたはず"
   ]
  },
  {
   "cell_type": "markdown",
   "metadata": {
    "id": "NwduLgDla1xb"
   },
   "source": [
    "```\n",
    "#--#--#--#--#--#--#--#--#--#--#--#--#--#--#--#--#--#--#--#\n",
    "model2.predict([[9.3, 26.212378]])\n",
    "#--#--#--#--#--#--#--#--#--#--#--#--#--#--#--#--#--#--#--#\n",
    "```"
   ]
  },
  {
   "cell_type": "code",
   "execution_count": null,
   "metadata": {
    "id": "kn0kzFcjFRRY"
   },
   "outputs": [],
   "source": []
  },
  {
   "cell_type": "markdown",
   "metadata": {
    "id": "4hVbFPpqbFOe"
   },
   "source": [
    "* 【実習】一関のある月の最低気温（5.4度）と緯度（38.93469）を入れて，これが1月のデータか否かを判定する\n",
    "    * 実際は5月のデータ"
   ]
  },
  {
   "cell_type": "markdown",
   "metadata": {
    "id": "5y-T7zI1a27y"
   },
   "source": [
    "```\n",
    "#--#--#--#--#--#--#--#--#--#--#--#--#--#--#--#--#--#--#--#\n",
    "model2.predict([[5.4, 38.93469]])\n",
    "#--#--#--#--#--#--#--#--#--#--#--#--#--#--#--#--#--#--#--#\n",
    "```"
   ]
  },
  {
   "cell_type": "code",
   "execution_count": null,
   "metadata": {
    "id": "CwxQbi9CbjhE"
   },
   "outputs": [],
   "source": []
  },
  {
   "cell_type": "markdown",
   "metadata": {
    "id": "9ZyDvwmGGyyW"
   },
   "source": [
    "* 【実習】分類の境界線を描画する（コピペすること）"
   ]
  },
  {
   "cell_type": "markdown",
   "metadata": {
    "id": "X6P9g1A4a3y0"
   },
   "source": [
    "```\n",
    "#--#--#--#--#--#--#--#--#--#--#--#--#--#--#--#--#--#--#--#\n",
    "w0 = model2.intercept_[0]\n",
    "w1 = model2.coef_[0,0]\n",
    "w2 = model2.coef_[0,1]\n",
    "\n",
    "import numpy as np\n",
    "import matplotlib.pyplot as plt\n",
    "x = np.array([-10,20])\n",
    "y = (-w1 * x - w0)/w2\n",
    "plt.plot(x, y, \"red\")\n",
    "plt.scatter(weather2[weather2[\"isJan\"]==True][\"min_temp\"], weather2[weather2[\"isJan\"]==True][\"latitude\"], marker=\"o\")\n",
    "plt.scatter(weather2[weather2[\"isJan\"]==False][\"min_temp\"], weather2[weather2[\"isJan\"]==False][\"latitude\"], marker=\"x\")\n",
    "plt.xlabel(\"min temp\")\n",
    "plt.ylabel(\"latitude\")\n",
    "plt.show()\n",
    "#--#--#--#--#--#--#--#--#--#--#--#--#--#--#--#--#--#--#--#\n",
    "```"
   ]
  },
  {
   "cell_type": "code",
   "execution_count": null,
   "metadata": {
    "id": "zW0bUIkH0Pmz"
   },
   "outputs": [],
   "source": []
  },
  {
   "cell_type": "markdown",
   "metadata": {
    "id": "JJVBh6JZHdhy"
   },
   "source": [
    "### 6.3 サポートベクターマシン"
   ]
  },
  {
   "cell_type": "markdown",
   "metadata": {
    "id": "2F48DeZjK7qU"
   },
   "source": [
    "* scikit-leanの[SVC](https://scikit-learn.org/stable/modules/generated/sklearn.svm.SVC.html)を使う"
   ]
  },
  {
   "cell_type": "markdown",
   "metadata": {
    "id": "9q0IjqrKH0rS"
   },
   "source": [
    "* 【実習】[SVC](https://scikit-learn.org/stable/modules/generated/sklearn.svm.SVC.html)を使ってサポートベクターマシン（線形カーネル）による分類モデルを作る\n",
    "    * `kernel`（カーネル：境界線の決め方）を`linear`（線形関数で分離）にする\n",
    "    * scikit-learn SVCの[fit()関数](https://scikit-learn.org/stable/modules/generated/sklearn.svm.SVC.html#sklearn.svm.SVC.fit)を使用して学習する\n"
   ]
  },
  {
   "cell_type": "markdown",
   "metadata": {
    "id": "rBB6P9Dpa5NB"
   },
   "source": [
    "```\n",
    "#--#--#--#--#--#--#--#--#--#--#--#--#--#--#--#--#--#--#--#\n",
    "from sklearn.svm import SVC\n",
    "svm_linear = SVC(kernel = \"linear\")\n",
    "svm_linear.fit(weather2[[\"min_temp\", \"latitude\"]], weather2[\"isJan\"])\n",
    "#--#--#--#--#--#--#--#--#--#--#--#--#--#--#--#--#--#--#--#\n",
    "```"
   ]
  },
  {
   "cell_type": "code",
   "execution_count": null,
   "metadata": {
    "id": "6zxVZWAfH-kR"
   },
   "outputs": [],
   "source": []
  },
  {
   "cell_type": "markdown",
   "metadata": {
    "id": "5H-N5AGXIbEQ"
   },
   "source": [
    "* 【実習】那覇の1月の最低気温（9.3度）と緯度（26.212378）を入れて，これが1月のデータか否かを判定する\n",
    "    * [`predict()`関数](https://scikit-learn.org/stable/modules/generated/sklearn.svm.SVC.html#sklearn.svm.SVC.predict)を使う\n",
    "    * 正しく推定できたはず"
   ]
  },
  {
   "cell_type": "markdown",
   "metadata": {
    "id": "4dn8TFnNa6uB"
   },
   "source": [
    "```\n",
    "#--#--#--#--#--#--#--#--#--#--#--#--#--#--#--#--#--#--#--#\n",
    "svm_linear.predict([[9.3, 26.212378]])\n",
    "#--#--#--#--#--#--#--#--#--#--#--#--#--#--#--#--#--#--#--#\n",
    "```\n"
   ]
  },
  {
   "cell_type": "code",
   "execution_count": null,
   "metadata": {
    "id": "Le6VAEteId5s"
   },
   "outputs": [],
   "source": []
  },
  {
   "cell_type": "markdown",
   "metadata": {
    "id": "OqLqt9qjImCM"
   },
   "source": [
    "* 【実習】分類の境界線を描画する（コピペすること）"
   ]
  },
  {
   "cell_type": "markdown",
   "metadata": {
    "id": "YbE8xFQEa7qV"
   },
   "source": [
    "```\n",
    "#--#--#--#--#--#--#--#--#--#--#--#--#--#--#--#--#--#--#--#\n",
    "xx, yy = np.meshgrid(np.linspace(-10, 20, 100), np.linspace(20, 50, 100))\n",
    "xy = np.vstack([xx.ravel(), yy.ravel()]).T\n",
    "p = svm_linear.decision_function(xy).reshape(100,100)\n",
    "plt.contour(xx, yy, p, levels=[0], linestyles=[\"-\"], colors=[\"red\"])\n",
    "plt.scatter(weather2[weather2[\"isJan\"]==True][\"min_temp\"], weather2[weather2[\"isJan\"]==True][\"latitude\"], marker=\"o\")\n",
    "plt.scatter(weather2[weather2[\"isJan\"]==False][\"min_temp\"], weather2[weather2[\"isJan\"]==False][\"latitude\"], marker=\"x\")\n",
    "plt.show()\n",
    "#--#--#--#--#--#--#--#--#--#--#--#--#--#--#--#--#--#--#--#\n",
    "```"
   ]
  },
  {
   "cell_type": "code",
   "execution_count": null,
   "metadata": {
    "id": "IRWC7z4VIrsk"
   },
   "outputs": [],
   "source": []
  },
  {
   "cell_type": "markdown",
   "metadata": {
    "id": "zfSvzZZ_KRaK"
   },
   "source": [
    "* 【実習】[SVC](https://scikit-learn.org/stable/modules/generated/sklearn.svm.SVC.html)を使ってサポートベクターマシン（ガウスカーネル）による分類モデルを作る\n",
    "    * `kernel`（カーネル：境界線の決め方）を`rbf`にする\n",
    "    * `rbf`がデフォルト値なので，何も指定しない場合も`rbf`になる\n",
    "    * scikit-learn SVCの[fit()関数](https://scikit-learn.org/stable/modules/generated/sklearn.svm.SVC.html#sklearn.svm.SVC.fit)を使用して学習する\n"
   ]
  },
  {
   "cell_type": "markdown",
   "metadata": {
    "id": "Eo6gjgv5a9BA"
   },
   "source": [
    "```\n",
    "#--#--#--#--#--#--#--#--#--#--#--#--#--#--#--#--#--#--#--#\n",
    "svm_rbf = SVC(kernel = \"rbf\", C = 10)\n",
    "svm_rbf.fit(weather2[[\"min_temp\", \"latitude\"]], weather2[\"isJan\"])\n",
    "#--#--#--#--#--#--#--#--#--#--#--#--#--#--#--#--#--#--#--#\n",
    "```"
   ]
  },
  {
   "cell_type": "code",
   "execution_count": null,
   "metadata": {
    "id": "fEnmQaOfzC1b"
   },
   "outputs": [],
   "source": []
  },
  {
   "cell_type": "markdown",
   "metadata": {
    "id": "fXHUIsBAKXf1"
   },
   "source": [
    "* 【実習】那覇の1月の最低気温（9.3度）と緯度（26.212378）を入れて，これが1月のデータか否かを判定する\n",
    "    * [`predict()`関数](https://scikit-learn.org/stable/modules/generated/sklearn.svm.SVC.html#sklearn.svm.SVC.predict)を使う\n",
    "   * 正しく推定できたはず"
   ]
  },
  {
   "cell_type": "markdown",
   "metadata": {
    "id": "bj9fTpWqa-eQ"
   },
   "source": [
    "```\n",
    "#--#--#--#--#--#--#--#--#--#--#--#--#--#--#--#--#--#--#--#\n",
    "svm_rbf.predict([[9.3, 26.212378]])\n",
    "#--#--#--#--#--#--#--#--#--#--#--#--#--#--#--#--#--#--#--#\n",
    "```"
   ]
  },
  {
   "cell_type": "code",
   "execution_count": null,
   "metadata": {
    "id": "Tzuo5QTo8xNg"
   },
   "outputs": [],
   "source": []
  },
  {
   "cell_type": "markdown",
   "metadata": {
    "id": "16We0c5HbxPE"
   },
   "source": [
    "* 【実習】一関のある月の最低気温（5.4度）と緯度（38.93469）を入れて，これが1月のデータか否かを判定する\n",
    "    * 実際は5月のデータ"
   ]
  },
  {
   "cell_type": "markdown",
   "metadata": {
    "id": "amoHgdkra_qH"
   },
   "source": [
    "```\n",
    "#--#--#--#--#--#--#--#--#--#--#--#--#--#--#--#--#--#--#--#\n",
    "svm_rbf.predict([[5.4, 38.93469]])\n",
    "#--#--#--#--#--#--#--#--#--#--#--#--#--#--#--#--#--#--#--#\n",
    "```"
   ]
  },
  {
   "cell_type": "code",
   "execution_count": null,
   "metadata": {
    "id": "3f6eTUbsb2U4"
   },
   "outputs": [],
   "source": []
  },
  {
   "cell_type": "markdown",
   "metadata": {
    "id": "ixbqmxjWMrs2"
   },
   "source": [
    "* 【実習】分類の境界線を描画する（コピペすること）\n",
    "    * ガウスカーネルでは出力が0となるデータの周りに境界線を作る（ノンパラメトリックモデルの一種）"
   ]
  },
  {
   "cell_type": "markdown",
   "metadata": {
    "id": "4T4qMqu-bAwX"
   },
   "source": [
    "```\n",
    "#--#--#--#--#--#--#--#--#--#--#--#--#--#--#--#--#--#--#--#\n",
    "xx, yy = np.meshgrid(np.linspace(-10, 20, 100), np.linspace(20, 45, 100))\n",
    "xy = np.vstack([xx.ravel(), yy.ravel()]).T\n",
    "p = svm_rbf.decision_function(xy).reshape(100,100)\n",
    "plt.contour(xx, yy, p, levels=[0], linestyles=[\"-\"], colors=[\"red\"])\n",
    "plt.scatter(weather2[weather2[\"isJan\"]==True][\"min_temp\"], weather2[weather2[\"isJan\"]==True][\"latitude\"], marker=\"o\")\n",
    "plt.scatter(weather2[weather2[\"isJan\"]==False][\"min_temp\"], weather2[weather2[\"isJan\"]==False][\"latitude\"], marker=\"x\")\n",
    "plt.show()\n",
    "#--#--#--#--#--#--#--#--#--#--#--#--#--#--#--#--#--#--#--#\n",
    "```"
   ]
  },
  {
   "cell_type": "code",
   "execution_count": null,
   "metadata": {
    "id": "2C4RmfO6KicF"
   },
   "outputs": [],
   "source": []
  },
  {
   "cell_type": "markdown",
   "metadata": {
    "id": "WUZXiNVKPbCt"
   },
   "source": [
    "### 6.4 決定木"
   ]
  },
  {
   "cell_type": "markdown",
   "metadata": {
    "id": "CPvlLIQWZP9Y"
   },
   "source": [
    "* scikit-learnの[DecisionTreeClassifier](https://scikit-learn.org/stable/modules/generated/sklearn.tree.DecisionTreeClassifier.html#sklearn.tree.DecisionTreeClassifier)を使って，決定木による分類を行う\n",
    "* 使い方の詳細は[ここ](https://scikit-learn.org/stable/modules/tree.html#classification)を参照のこと\n",
    "* 次節で説明するランダムフォレストは決定木をたくさん使用することで性能を向上させる手法"
   ]
  },
  {
   "cell_type": "markdown",
   "metadata": {
    "id": "b5atkmNpdLul"
   },
   "source": [
    "* 【実習】[DecisionTreeClassifier](https://scikit-learn.org/stable/modules/generated/sklearn.tree.DecisionTreeClassifier.html#sklearn.tree.DecisionTreeClassifier)を使って決定木による分類モデルを作る\n",
    "    * `max_depth`は木の深さ指定．木が深くなりすぎないようにするために使用する\n",
    "    * scikit-learn DecisionTreeClassifierの[fit()関数](https://scikit-learn.org/stable/modules/generated/sklearn.tree.DecisionTreeClassifier.html#sklearn.tree.DecisionTreeClassifier.fit)を使用して学習する\n"
   ]
  },
  {
   "cell_type": "markdown",
   "metadata": {
    "id": "z9qgBI7LbDmi"
   },
   "source": [
    "```\n",
    "#--#--#--#--#--#--#--#--#--#--#--#--#--#--#--#--#--#--#--#\n",
    "from sklearn.tree import DecisionTreeClassifier\n",
    "dtree = DecisionTreeClassifier(max_depth = 3)\n",
    "dtree.fit(weather2[[\"min_temp\", \"latitude\"]], weather2[\"isJan\"])\n",
    "#--#--#--#--#--#--#--#--#--#--#--#--#--#--#--#--#--#--#--#\n",
    "```"
   ]
  },
  {
   "cell_type": "code",
   "execution_count": null,
   "metadata": {
    "id": "53pvIw_JSyn9"
   },
   "outputs": [],
   "source": []
  },
  {
   "cell_type": "markdown",
   "metadata": {
    "id": "RKYB4RiIc4bz"
   },
   "source": [
    "* 【実習】那覇の1月の最低気温（9.3度）と緯度（26.212378）を入れて，これが1月のデータか否かを判定する\n",
    "    * [`predict()`関数](https://scikit-learn.org/stable/modules/generated/sklearn.tree.DecisionTreeClassifier.html#sklearn.tree.DecisionTreeClassifier.predict)を使う\n",
    "   * 正しく推定できたはず"
   ]
  },
  {
   "cell_type": "markdown",
   "metadata": {
    "id": "4SXRCGcXbFl-"
   },
   "source": [
    "```\n",
    "#--#--#--#--#--#--#--#--#--#--#--#--#--#--#--#--#--#--#--#\n",
    "dtree.predict([[9.3, 26.212378]])\n",
    "#--#--#--#--#--#--#--#--#--#--#--#--#--#--#--#--#--#--#--#\n",
    "```"
   ]
  },
  {
   "cell_type": "code",
   "execution_count": null,
   "metadata": {
    "id": "CSeSg3d6TVQ1"
   },
   "outputs": [],
   "source": []
  },
  {
   "cell_type": "markdown",
   "metadata": {
    "id": "33QyJcmhcZKk"
   },
   "source": [
    "* 【実習】一関のある月の最低気温（5.4度）と緯度（38.93469）を入れて，これが1月のデータか否かを判定する\n",
    "    * 実際は5月のデータ"
   ]
  },
  {
   "cell_type": "markdown",
   "metadata": {
    "id": "km4HkkxwbGzn"
   },
   "source": [
    "```\n",
    "#--#--#--#--#--#--#--#--#--#--#--#--#--#--#--#--#--#--#--#\n",
    "dtree.predict([[5.4, 38.93469]])\n",
    "#--#--#--#--#--#--#--#--#--#--#--#--#--#--#--#--#--#--#--#\n",
    "```"
   ]
  },
  {
   "cell_type": "code",
   "execution_count": null,
   "metadata": {
    "id": "ams1HgelcvEb"
   },
   "outputs": [],
   "source": []
  },
  {
   "cell_type": "markdown",
   "metadata": {
    "id": "TSLuDRLAeGB7"
   },
   "source": [
    "* 【実習】決定木を描画してダウンロードする（ソースをコピペすること）\n",
    "   * エラーが出た場合，もう一回試すとうまくいくことがある\n",
    "   * `gini`はジニ不純度で，どれくらい複数クラスのサンプルが混じった状態かを示す"
   ]
  },
  {
   "cell_type": "markdown",
   "metadata": {
    "id": "oBH8lTombINg"
   },
   "source": [
    "```\n",
    "#--#--#--#--#--#--#--#--#--#--#--#--#--#--#--#--#--#--#--#\n",
    "from pydotplus import graph_from_dot_data\n",
    "from sklearn.tree import export_graphviz\n",
    "dot_data = export_graphviz(dtree, filled=True, rounded=True, class_names=[\"May\", \"Jan\"], \n",
    "                          feature_names=[\"min_temp\", \"latitude\"], out_file=None)\n",
    "graph = graph_from_dot_data(dot_data)\n",
    "graph.write_png(\"tree.png\")\n",
    "\n",
    "from google.colab import files\n",
    "files.download(\"tree.png\")\n",
    "#--#--#--#--#--#--#--#--#--#--#--#--#--#--#--#--#--#--#--#\n",
    "```"
   ]
  },
  {
   "cell_type": "code",
   "execution_count": null,
   "metadata": {
    "id": "H-Y9Hfp6TerN"
   },
   "outputs": [],
   "source": []
  },
  {
   "cell_type": "markdown",
   "metadata": {
    "id": "zsFQUtSlV1ci"
   },
   "source": [
    "### 6.5 ランダムフォレスト"
   ]
  },
  {
   "cell_type": "markdown",
   "metadata": {
    "id": "XNNnoBXBgCw2"
   },
   "source": [
    "* scikit-learnの[RandomForestClassifier](https://scikit-learn.org/stable/modules/generated/sklearn.ensemble.RandomForestClassifier.html#sklearn.ensemble.RandomForestClassifier)を使って，ランダムフォレストによる分類を行う\n",
    "    * 複数の決定木の多数決により予測を行う\n",
    "* 使い方の詳細は[ここ](https://scikit-learn.org/stable/modules/ensemble.html#forest)を参照のこと\n",
    "* 高性能のため，よく使用される\n",
    "    * しかし現在では[勾配ブースティング](https://scikit-learn.org/stable/modules/ensemble.html#gradient-boosting)の方が高性能らしい"
   ]
  },
  {
   "cell_type": "markdown",
   "metadata": {
    "id": "CLBHdRrMhGhO"
   },
   "source": [
    "* 【実習】[RandomForestClassifier](https://scikit-learn.org/stable/modules/generated/sklearn.ensemble.RandomForestClassifier.html#sklearn.ensemble.RandomForestClassifier)を使って決定木による分類モデルを作る\n",
    "    * `n_estimators`は使用する決定木の数．多いほど高性能だが計算に時間がかかる\n",
    "    * scikit-learn RandomForestClassifierの[fit()関数](https://scikit-learn.org/stable/modules/generated/sklearn.ensemble.RandomForestClassifier.html#sklearn.ensemble.RandomForestClassifier.fit)を使用して学習する\n"
   ]
  },
  {
   "cell_type": "markdown",
   "metadata": {
    "id": "UAgbia1AbJlB"
   },
   "source": [
    "```\n",
    "#--#--#--#--#--#--#--#--#--#--#--#--#--#--#--#--#--#--#--#\n",
    "from sklearn.ensemble import RandomForestClassifier\n",
    "forest = RandomForestClassifier(n_estimators = 100)\n",
    "forest.fit(weather2[[\"min_temp\", \"latitude\"]], weather2[\"isJan\"])\n",
    "#--#--#--#--#--#--#--#--#--#--#--#--#--#--#--#--#--#--#--#\n",
    "```"
   ]
  },
  {
   "cell_type": "code",
   "execution_count": null,
   "metadata": {
    "id": "OlHo6jbwgn_g"
   },
   "outputs": [],
   "source": []
  },
  {
   "cell_type": "markdown",
   "metadata": {
    "id": "xrj4Z9oIkTCz"
   },
   "source": [
    "* 【実習】那覇の1月の最低気温（9.3度）と緯度（26.212378）を入れて，これが1月のデータか否かを判定する\n",
    "    * [`predict()`関数](https://scikit-learn.org/stable/modules/generated/sklearn.ensemble.RandomForestClassifier.html#sklearn.ensemble.RandomForestClassifier.predict)を使う\n",
    "   * 正しく推定できたはず"
   ]
  },
  {
   "cell_type": "markdown",
   "metadata": {
    "id": "9P2ixWS3bLLN"
   },
   "source": [
    "```\n",
    "#--#--#--#--#--#--#--#--#--#--#--#--#--#--#--#--#--#--#--#\n",
    "forest.predict([[9.3, 26.212378]])\n",
    "#--#--#--#--#--#--#--#--#--#--#--#--#--#--#--#--#--#--#--#\n",
    "```"
   ]
  },
  {
   "cell_type": "code",
   "execution_count": null,
   "metadata": {
    "id": "bJO5wuX7kaJ7"
   },
   "outputs": [],
   "source": []
  },
  {
   "cell_type": "markdown",
   "metadata": {
    "id": "ib_R_dbykoDr"
   },
   "source": [
    "* 【実習】一関のある月の最低気温（5.4度）と緯度（38.93469）を入れて，これが1月のデータか否かを判定する\n",
    "    * 実際は5月のデータ"
   ]
  },
  {
   "cell_type": "markdown",
   "metadata": {
    "id": "qej9bN_MbMhD"
   },
   "source": [
    "```\n",
    "#--#--#--#--#--#--#--#--#--#--#--#--#--#--#--#--#--#--#--#\n",
    "forest.predict([[5.4, 38.93469]])\n",
    "#--#--#--#--#--#--#--#--#--#--#--#--#--#--#--#--#--#--#--#\n",
    "```"
   ]
  },
  {
   "cell_type": "code",
   "execution_count": null,
   "metadata": {
    "id": "evXztzyWkrOg"
   },
   "outputs": [],
   "source": []
  },
  {
   "cell_type": "markdown",
   "metadata": {
    "id": "KFwamjqfQPDO"
   },
   "source": [
    "## 第7章 総合演習2"
   ]
  },
  {
   "cell_type": "markdown",
   "metadata": {
    "id": "m0OIT5iAk8vn"
   },
   "source": [
    "* タイタニックデータを使って，生存者の分類モデルを作る"
   ]
  },
  {
   "cell_type": "markdown",
   "metadata": {
    "id": "1bMFjy-WmD_C"
   },
   "source": [
    "### 7.1 データの準備"
   ]
  },
  {
   "cell_type": "markdown",
   "metadata": {
    "id": "U3u7UqTcmuJ4"
   },
   "source": [
    "* 一部のデータで学習を行った後，学習に使用しなかったデータで性能を評価する\n",
    "    * 今回は8割のデータで学習し，残り2割のデータで評価を行う"
   ]
  },
  {
   "cell_type": "markdown",
   "metadata": {
    "id": "qJ5hZKI0sraR"
   },
   "source": [
    "* 【実習】タイタニックデータを読み込む"
   ]
  },
  {
   "cell_type": "markdown",
   "metadata": {
    "id": "W8KXaYQLbNkq"
   },
   "source": [
    "```\n",
    "#--#--#--#--#--#--#--#--#--#--#--#--#--#--#--#--#--#--#--#\n",
    "import numpy as np\n",
    "import matplotlib.pyplot as plt\n",
    "%matplotlib inline\n",
    "import seaborn as sns\n",
    "titanic = sns.load_dataset('titanic')\n",
    "titanic.head()\n",
    "#--#--#--#--#--#--#--#--#--#--#--#--#--#--#--#--#--#--#--#\n",
    "```"
   ]
  },
  {
   "cell_type": "code",
   "execution_count": null,
   "metadata": {
    "id": "8740vveFsv-m"
   },
   "outputs": [],
   "source": []
  },
  {
   "cell_type": "markdown",
   "metadata": {
    "id": "Mfa11pU9xTY_"
   },
   "source": [
    "* 【実習】性別を数値に変換する（female:0, male:1）\n",
    "    * ある列の各行の要素に対して変換処理を行うには[`map()`関数](https://pandas.pydata.org/pandas-docs/stable/reference/api/pandas.Series.map.html)を使用する\n"
   ]
  },
  {
   "cell_type": "markdown",
   "metadata": {
    "id": "dSnT5kg8bPDM"
   },
   "source": [
    "```\n",
    "#--#--#--#--#--#--#--#--#--#--#--#--#--#--#--#--#--#--#--#\n",
    "titanic[\"gender\"] = titanic[\"sex\"].map({\"female\" : 0, \"male\" : 1})\n",
    "titanic.head()\n",
    "#--#--#--#--#--#--#--#--#--#--#--#--#--#--#--#--#--#--#--#\n",
    "```"
   ]
  },
  {
   "cell_type": "code",
   "execution_count": null,
   "metadata": {
    "id": "aPM076RUyDjK"
   },
   "outputs": [],
   "source": []
  },
  {
   "cell_type": "markdown",
   "metadata": {
    "id": "NE3HiA7Lyqzr"
   },
   "source": [
    "* 【実習】データセットから入力として使用する列(X)を抜き取る\n",
    "    * 他の列を抜き取っても良い"
   ]
  },
  {
   "cell_type": "markdown",
   "metadata": {
    "id": "CJov6Q3VbP-M"
   },
   "source": [
    "```\n",
    "#--#--#--#--#--#--#--#--#--#--#--#--#--#--#--#--#--#--#--#\n",
    "X = titanic[[\"pclass\", \"gender\", \"age\", \"sibsp\", \"parch\", \"fare\"]]\n",
    "X.head()\n",
    "#--#--#--#--#--#--#--#--#--#--#--#--#--#--#--#--#--#--#--#\n",
    "```"
   ]
  },
  {
   "cell_type": "code",
   "execution_count": null,
   "metadata": {
    "id": "DLbU-tfrzam5"
   },
   "outputs": [],
   "source": []
  },
  {
   "cell_type": "markdown",
   "metadata": {
    "id": "2M2_eQEo0DHJ"
   },
   "source": [
    "* 【実習】データから出力(y)を抜き取る"
   ]
  },
  {
   "cell_type": "markdown",
   "metadata": {
    "id": "DlNHlIMXbQ0I"
   },
   "source": [
    "```\n",
    "#--#--#--#--#--#--#--#--#--#--#--#--#--#--#--#--#--#--#--#\n",
    "y = titanic[\"survived\"]\n",
    "y.head()\n",
    "#--#--#--#--#--#--#--#--#--#--#--#--#--#--#--#--#--#--#--#\n",
    "```"
   ]
  },
  {
   "cell_type": "code",
   "execution_count": null,
   "metadata": {
    "id": "Og5iuBqcz9yC"
   },
   "outputs": [],
   "source": []
  },
  {
   "cell_type": "markdown",
   "metadata": {
    "id": "HsZAoU2mnu37"
   },
   "source": [
    "* 【実習】タイタニックデータを学習データ（8割）と評価データ（2割）に分割する\n",
    "    * ランダムに抽出してくれる"
   ]
  },
  {
   "cell_type": "markdown",
   "metadata": {
    "id": "sIjaNZOBbR32"
   },
   "source": [
    "```\n",
    "#--#--#--#--#--#--#--#--#--#--#--#--#--#--#--#--#--#--#--#\n",
    "from sklearn.model_selection import train_test_split\n",
    "X_train, X_test, y_train, y_test = train_test_split(X, y, test_size = 0.2)\n",
    "X_train.describe()\n",
    "#--#--#--#--#--#--#--#--#--#--#--#--#--#--#--#--#--#--#--#\n",
    "```"
   ]
  },
  {
   "cell_type": "code",
   "execution_count": null,
   "metadata": {
    "id": "mOmL4KGt0YAR"
   },
   "outputs": [],
   "source": []
  },
  {
   "cell_type": "markdown",
   "metadata": {
    "id": "Frj9ZxRkqiIn"
   },
   "source": [
    "* 【実習】学習データの概要を確認する"
   ]
  },
  {
   "cell_type": "markdown",
   "metadata": {
    "id": "hTRELh2kbTQj"
   },
   "source": [
    "```\n",
    "#--#--#--#--#--#--#--#--#--#--#--#--#--#--#--#--#--#--#--#\n",
    "X_train.info()\n",
    "#--#--#--#--#--#--#--#--#--#--#--#--#--#--#--#--#--#--#--#\n",
    "```\n"
   ]
  },
  {
   "cell_type": "code",
   "execution_count": null,
   "metadata": {
    "id": "SzfnMWdA-vs0"
   },
   "outputs": [],
   "source": []
  },
  {
   "cell_type": "markdown",
   "metadata": {
    "id": "WwHX1wh1qrSU"
   },
   "source": [
    "* 【実習】学習データの欠損値を平均値で埋める"
   ]
  },
  {
   "cell_type": "markdown",
   "metadata": {
    "id": "y6jQkr4mbUU1"
   },
   "source": [
    "```\n",
    "#--#--#--#--#--#--#--#--#--#--#--#--#--#--#--#--#--#--#--#\n",
    "X_train.fillna(X_train.mean(), inplace=True)\n",
    "#--#--#--#--#--#--#--#--#--#--#--#--#--#--#--#--#--#--#--#\n",
    "```"
   ]
  },
  {
   "cell_type": "code",
   "execution_count": null,
   "metadata": {
    "id": "l638InUS6X6C"
   },
   "outputs": [],
   "source": []
  },
  {
   "cell_type": "markdown",
   "metadata": {
    "id": "N7WrFaKdrxtV"
   },
   "source": [
    "### 7.2 生存条件の学習"
   ]
  },
  {
   "cell_type": "markdown",
   "metadata": {
    "id": "tHfmqsdLsBTl"
   },
   "source": [
    "* 【実習】ロジスティック回帰モデルを用いて学習する"
   ]
  },
  {
   "cell_type": "markdown",
   "metadata": {
    "id": "4u6aXuBrbVXQ"
   },
   "source": [
    "```\n",
    "#--#--#--#--#--#--#--#--#--#--#--#--#--#--#--#--#--#--#--#\n",
    "from sklearn.linear_model import LogisticRegression\n",
    "model_logistic = LogisticRegression()\n",
    "model_logistic.fit(X_train, y_train)\n",
    "#--#--#--#--#--#--#--#--#--#--#--#--#--#--#--#--#--#--#--#\n",
    "```\n"
   ]
  },
  {
   "cell_type": "code",
   "execution_count": null,
   "metadata": {
    "id": "dmwytTASsK3J"
   },
   "outputs": [],
   "source": []
  },
  {
   "cell_type": "markdown",
   "metadata": {
    "id": "IbBB_yMXtdTI"
   },
   "source": [
    "* 【実習】テストデータを使って学習したモデルを評価する\n",
    "    * テストデータに対する正解率を求める\n",
    "    * テストデータにも欠損値があるので，学習データの平均値を埋める"
   ]
  },
  {
   "cell_type": "markdown",
   "metadata": {
    "id": "jxkjgOG4tyUM"
   },
   "source": [
    "```\n",
    "#--#--#--#--#--#--#--#--#--#--#--#--#--#--#--#--#--#--#--#\n",
    "model_logistic.score(X_test.fillna(X_train.mean()), y_test)\n",
    "#--#--#--#--#--#--#--#--#--#--#--#--#--#--#--#--#--#--#--#\n",
    "```\n"
   ]
  },
  {
   "cell_type": "code",
   "execution_count": null,
   "metadata": {
    "id": "S1sr322OslO1"
   },
   "outputs": [],
   "source": []
  },
  {
   "cell_type": "markdown",
   "metadata": {
    "id": "SFgxlYduuRH6"
   },
   "source": [
    "* 【実習】__演習__: 他のやり方で分類してみよう（異なるモデルを使う等）"
   ]
  },
  {
   "cell_type": "code",
   "execution_count": null,
   "metadata": {
    "id": "ah-huGK51Bdc"
   },
   "outputs": [],
   "source": []
  }
 ],
 "metadata": {
  "colab": {
   "collapsed_sections": [],
   "name": "03-data-analysis.ipynb",
   "provenance": [
    {
     "file_id": "11jQqKm9mFl6lWFR1EQ15z8yHgfmURlBr",
     "timestamp": 1566140155857
    },
    {
     "file_id": "16CWjWb-Ck-3MsssZlZNUby0HeJftH7N1",
     "timestamp": 1566132724271
    },
    {
     "file_id": "1JJtK1zjpbyZu9pc27adPH-ZLhoYqvOG3",
     "timestamp": 1561794322235
    },
    {
     "file_id": "1_t4J3KCNFrjtqYBQsX07hDVGbToOvwCK",
     "timestamp": 1524718812672
    }
   ],
   "toc_visible": true
  },
  "kernelspec": {
   "display_name": "Python 3",
   "name": "python3"
  }
 },
 "nbformat": 4,
 "nbformat_minor": 0
}