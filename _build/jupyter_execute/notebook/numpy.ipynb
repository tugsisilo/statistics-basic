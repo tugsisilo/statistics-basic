{
 "cells": [
  {
   "cell_type": "markdown",
   "metadata": {
    "id": "ufi29e3ynVbG"
   },
   "source": [
    "# 基本統計処理"
   ]
  },
  {
   "cell_type": "markdown",
   "metadata": {
    "id": "x4PcqowXsS6w"
   },
   "source": [
    "## はじめに"
   ]
  },
  {
   "cell_type": "markdown",
   "metadata": {
    "id": "o21klyTwbPn8"
   },
   "source": [
    "### 開始前に行うこと（重要）"
   ]
  },
  {
   "cell_type": "markdown",
   "metadata": {
    "id": "uxGAUVjHbb4E"
   },
   "source": [
    "まず，Chrome 等のブラウザを利用して，本教材の URL にアクセスし，画面の指示に従い Google アカウントにログインしてください．その後，ブラウザ表示画面左上の「ファイル」をクリックし，さらにポップアップで出てくる項目から「ドライブにコピーを保存」をクリックしてください．これにより，本教材のコピーが自分のGoogleドライブに保存され，自分で書いたプログラムを実行できるようになります．\n",
    "\n",
    "また，多くのセルが非表示になっていると思われるため，同じくブラウザ表示画面上の「表示」をクリックし，さらにその項目から「セクションを展開」をクリックし，非表示のセルを表示させてください．"
   ]
  },
  {
   "cell_type": "markdown",
   "metadata": {
    "id": "w0Zh3zrKwm-N"
   },
   "source": [
    "```{hint}\n",
    "各ページの上部にロケットのアイコン <i class=\"fa fa-rocket\" aria-hidden=\"true\"></i> があるのでこれをクリックして各ページのファイルを Google Colaboratory 上で開いて利用してください．\n",
    "```"
   ]
  },
  {
   "cell_type": "markdown",
   "metadata": {
    "id": "F0-ckFxAiT5t"
   },
   "source": [
    "### 到達目標"
   ]
  },
  {
   "cell_type": "markdown",
   "metadata": {
    "id": "7nbMI0eOibob"
   },
   "source": [
    "NumPy を利用して基本的な統計処理ができるようになること目標とします．\n"
   ]
  },
  {
   "cell_type": "markdown",
   "metadata": {
    "id": "o_kFcAaQt7V9"
   },
   "source": [
    "### NumPy とは"
   ]
  },
  {
   "cell_type": "markdown",
   "metadata": {
    "id": "6xbi2Q8bIQkN"
   },
   "source": [
    "NumPy は，Python で科学技術などを行う際に使用する基本的なライブラリです．ベクトルや行列を扱えるほか，線形代数や統計の基本処理や離散フーリエ変換を行うこともできます．C言語でコンパイルされているため，C言語並みに高速に動作します．使い方の概要や詳細については，[NumPyユーザーガイド](https://numpy.org/doc/stable/user/index.html)をご覧ください．"
   ]
  },
  {
   "cell_type": "markdown",
   "metadata": {
    "id": "Ob1MHdrxL3CB"
   },
   "source": [
    "### NumPy のインポート"
   ]
  },
  {
   "cell_type": "markdown",
   "metadata": {
    "id": "lLVWXcwCL9Hl"
   },
   "source": [
    "NumPy は以下のようにインポートします．NumPy には np という略称を与えて利用するのが普通です．その都度 `numpy` とタイピングするのが面倒だからです．"
   ]
  },
  {
   "cell_type": "code",
   "execution_count": null,
   "metadata": {
    "id": "tUm59f0LM55C"
   },
   "outputs": [],
   "source": [
    "import numpy as np"
   ]
  },
  {
   "cell_type": "markdown",
   "metadata": {
    "id": "0-UwB6B76pxR"
   },
   "source": [
    "### 学習の進め方"
   ]
  },
  {
   "cell_type": "markdown",
   "metadata": {
    "id": "l_NBj_XO34gA"
   },
   "source": [
    "上から順に読み進み，<font color=\"blue\">【実習】</font>と書いてある箇所でコードを書いて実行してください．基本的に入力するコードの前に見本のコードが書かれており，見本と同じコードを書けば正しく動作するようになっています（見本コードの上下に入っている区切り線は入力する必要ありません）．理解を深めるには，見本とは異なるコードを書いて試してみることも役立つと思います．\n",
    "なお， Colab では，コードが書かれている領域をコードセル，説明文等が書かれている領域をテキストセルといいます．"
   ]
  },
  {
   "cell_type": "markdown",
   "metadata": {
    "id": "JL6g8UYC7YHo"
   },
   "source": [
    "## ベクトルの基本操作"
   ]
  },
  {
   "cell_type": "markdown",
   "metadata": {
    "id": "as_oHdp_8D76"
   },
   "source": [
    "### ベクトルの生成"
   ]
  },
  {
   "cell_type": "markdown",
   "metadata": {
    "id": "VFqaYMqlLxje"
   },
   "source": [
    "NumPy の ndarray クラスを用いてベクトルを生成するには NumPy の array 関数にリストを渡します．\n"
   ]
  },
  {
   "cell_type": "markdown",
   "metadata": {
    "id": "0T229wlr-2ZF"
   },
   "source": [
    "<font color=\"blue\">【実習】ベクトル `x=[6 7 8]` を生成する</font>"
   ]
  },
  {
   "cell_type": "markdown",
   "metadata": {
    "id": "OnwroMArlpho"
   },
   "source": [
    "```\n",
    "#--#--#--#--#--#--#--#--#--#--#--#--#--#--#--#--#--#--#--#\n",
    "x = np.array([6, 7, 8])\n",
    "print(x)\n",
    "#--#--#--#--#--#--#--#--#--#--#--#--#--#--#--#--#--#--#--#\n",
    "```"
   ]
  },
  {
   "cell_type": "code",
   "execution_count": null,
   "metadata": {
    "id": "WAVtytV5LnRB"
   },
   "outputs": [],
   "source": []
  },
  {
   "cell_type": "markdown",
   "metadata": {
    "id": "_SQD0_7nJ7iM"
   },
   "source": [
    "```{note}\n",
    "リストを `print` すると，`[6, 7, 8]`のように要素間にカンマ(,)が入りますが，ndarray のベクトルを `print` すると`[6 7 8]`のようにカンマが入りません．これによりリストとベクトルを区別することができます．\n",
    "```"
   ]
  },
  {
   "cell_type": "markdown",
   "metadata": {
    "id": "YkBvyCK-k3Cm"
   },
   "source": [
    "生成したベクトル `x` のデータ型を確認するには，`type(x)`と書きます．"
   ]
  },
  {
   "cell_type": "markdown",
   "metadata": {
    "id": "ox090m4ONE7v"
   },
   "source": [
    "<font color=\"blue\">【実習】 ベクトル `x` の型を確認する．</font>"
   ]
  },
  {
   "cell_type": "markdown",
   "metadata": {
    "id": "q3J3MwFsMLsJ"
   },
   "source": [
    "```\n",
    "#--#--#--#--#--#--#--#--#--#--#--#--#--#--#--#--#--#--#--#\n",
    "type(x)\n",
    "#--#--#--#--#--#--#--#--#--#--#--#--#--#--#--#--#--#--#--#\n",
    "```"
   ]
  },
  {
   "cell_type": "code",
   "execution_count": null,
   "metadata": {
    "id": "iOnkZoJ0k_yG"
   },
   "outputs": [],
   "source": []
  },
  {
   "cell_type": "markdown",
   "metadata": {
    "id": "fS8Tm-joXrVj"
   },
   "source": [
    "生成したベクトル`x`の形（要素数）を確認するには，`x.shape`と書きます．"
   ]
  },
  {
   "cell_type": "markdown",
   "metadata": {
    "id": "tU4yEwunNLhk"
   },
   "source": [
    "<font color=\"blue\">【実習】 ベクトル `x` の形(要素数)を確認する．</font>"
   ]
  },
  {
   "cell_type": "markdown",
   "metadata": {
    "id": "oh2V4iSNMPZz"
   },
   "source": [
    "```\n",
    "#--#--#--#--#--#--#--#--#--#--#--#--#--#--#--#--#--#--#--#\n",
    "print(x.shape)\n",
    "#--#--#--#--#--#--#--#--#--#--#--#--#--#--#--#--#--#--#--#\n",
    "```"
   ]
  },
  {
   "cell_type": "code",
   "execution_count": null,
   "metadata": {
    "id": "6irMiREJX5SR"
   },
   "outputs": [],
   "source": []
  },
  {
   "cell_type": "markdown",
   "metadata": {
    "id": "AhId8Kz_YAgz"
   },
   "source": [
    "```{note}\n",
    "ベクトルの`shape`は要素数1のタプルになります．値は3になっていますが，これは，１次元配列でその要素数が3であるという意味です．\n",
    "```"
   ]
  },
  {
   "cell_type": "markdown",
   "metadata": {
    "id": "5J-EWSaoJsq5"
   },
   "source": [
    "### ベクトルの基本演算"
   ]
  },
  {
   "cell_type": "markdown",
   "metadata": {
    "id": "h62INlNw7br6"
   },
   "source": [
    "ベクトル `x,y` の足し算は`x + y`，引き算は`x - y` とすれば計算できます．"
   ]
  },
  {
   "cell_type": "markdown",
   "metadata": {
    "id": "omuGCEOta5u0"
   },
   "source": [
    "<font color=\"blue\">【実習】 ベクトル `x=[6 7 8]` と`y = [1 2 3]` に対して， `x + y`と`x - y` を計算する．</font>"
   ]
  },
  {
   "cell_type": "markdown",
   "metadata": {
    "id": "T6Wrr3CplrFt"
   },
   "source": [
    "```\n",
    "#--#--#--#--#--#--#--#--#--#--#--#--#--#--#--#--#--#--#--#\n",
    "import numpy as np\n",
    "\n",
    "x = np.array([6, 7, 8])\n",
    "y = np.array([1, 2, 3])\n",
    "print(x + y)\n",
    "print(x - y)\n",
    "#--#--#--#--#--#--#--#--#--#--#--#--#--#--#--#--#--#--#--#\n",
    "```"
   ]
  },
  {
   "cell_type": "code",
   "execution_count": null,
   "metadata": {
    "id": "5-lrFIlUaQAM"
   },
   "outputs": [],
   "source": []
  },
  {
   "cell_type": "markdown",
   "metadata": {
    "id": "aG9Gj_ULLFUk"
   },
   "source": [
    "掛け算や割り算についても同じ位置の要素ごとに演算が行われます．通常のベクトルの演算と異なるので注意が必要です．"
   ]
  },
  {
   "cell_type": "markdown",
   "metadata": {
    "id": "YskBBQYWNV2J"
   },
   "source": [
    "<font color=\"blue\">【実習】 ベクトル `x=[6 7 8]` と`y = [1 2 3]` に対して， `x`と `y` の要素ごとの掛け算と割り算を計算する．</font>"
   ]
  },
  {
   "cell_type": "markdown",
   "metadata": {
    "id": "hGStU06JMUAz"
   },
   "source": [
    "```\n",
    "#--#--#--#--#--#--#--#--#--#--#--#--#--#--#--#--#--#--#--#\n",
    "print(x * y)\n",
    "print(x / y)\n",
    "#--#--#--#--#--#--#--#--#--#--#--#--#--#--#--#--#--#--#--#\n",
    "```"
   ]
  },
  {
   "cell_type": "code",
   "execution_count": null,
   "metadata": {
    "id": "FApe6pw9ODJT"
   },
   "outputs": [],
   "source": []
  },
  {
   "cell_type": "markdown",
   "metadata": {
    "id": "8A1kXHNlNYEu"
   },
   "source": [
    "```{note}\n",
    "同じ位置の要素ごとの積のことは，他の積と区別してアダマール積と呼ばれます．\n",
    "```"
   ]
  },
  {
   "cell_type": "markdown",
   "metadata": {
    "id": "48fKN8vrOsLy"
   },
   "source": [
    "ベクトル`u,v`の内積を行うには`np.dot(u,v)`，外積を行うには`np.cross(u,v)`とします．"
   ]
  },
  {
   "cell_type": "markdown",
   "metadata": {
    "id": "Z1OAvMFoNsj5"
   },
   "source": [
    "<font color=\"blue\">【実習】 ベクトル `u=[3 4 0]` と`y = [-4 3 0]` に対して， `u`と `v` の内積と外積を計算する．</font>"
   ]
  },
  {
   "cell_type": "markdown",
   "metadata": {
    "id": "eqc7U0u0MVoT"
   },
   "source": [
    "```\n",
    "#--#--#--#--#--#--#--#--#--#--#--#--#--#--#--#--#--#--#--#\n",
    "u = np.array([3, 4, 0])\n",
    "v = np.array([-4, 3, 0])\n",
    "print(np.dot(u, v))\n",
    "print(np.cross(u, v))\n",
    "#--#--#--#--#--#--#--#--#--#--#--#--#--#--#--#--#--#--#--#\n",
    "```"
   ]
  },
  {
   "cell_type": "code",
   "execution_count": null,
   "metadata": {
    "id": "nyGoOaSxPICF"
   },
   "outputs": [],
   "source": []
  },
  {
   "cell_type": "markdown",
   "metadata": {
    "id": "TJ9nY_ghR0d3"
   },
   "source": [
    "```{note}\n",
    "ndarrayによるベクトルには縦ベクトル（列ベクトル），横ベクトル（行ベクトル）といった方向の概念がないので注意しましょう．ベクトルと呼んでいますが，単にベクトル等の演算をサポートする１次元配列のことです．方向が必要な時は，ベクトルでなく行列(２次元配列)を使えばよいですが，ベクトルと行列は別物(ベクトルは１次元配列で行列は２次元配列)なので注意しましょう．詳細は[NumPyユーザガイド](https://numpy.org/doc/stable/user/absolute_beginners.html#how-to-convert-a-1d-array-into-a-2d-array-how-to-add-a-new-axis-to-an-array)を参照ください．\n",
    "```"
   ]
  },
  {
   "cell_type": "markdown",
   "metadata": {
    "id": "WtUiWx82MTrR"
   },
   "source": [
    "### ブロードキャスト"
   ]
  },
  {
   "cell_type": "markdown",
   "metadata": {
    "id": "rOd3q3BdMj93"
   },
   "source": [
    "ベクトルにスカラーをかけると，ベクトルの各要素にスカラー値が掛け算されます．このようにある演算をベクトル（や行列）の全要素に適用することをブロードキャストといいます．NumPyでは，乗算だけでなく，除算，加算，減算，べき乗などもブロードキャストできます．"
   ]
  },
  {
   "cell_type": "markdown",
   "metadata": {
    "id": "_cSAGPugmu5S"
   },
   "source": [
    "<font color=\"blue\">【実習】 ブロードキャストを利用してベクトル`x`の各要素を2倍する</font>"
   ]
  },
  {
   "cell_type": "markdown",
   "metadata": {
    "id": "QySb1Ob1lskM"
   },
   "source": [
    "```\n",
    "#--#--#--#--#--#--#--#--#--#--#--#--#--#--#--#--#--#--#--#\n",
    "import numpy as np\n",
    "\n",
    "x = np.array([6, 7, 8])\n",
    "print(x * 2)\n",
    "#--#--#--#--#--#--#--#--#--#--#--#--#--#--#--#--#--#--#--#\n",
    "```"
   ]
  },
  {
   "cell_type": "code",
   "execution_count": null,
   "metadata": {
    "id": "R_IEGXzmiMNm"
   },
   "outputs": [],
   "source": []
  },
  {
   "cell_type": "markdown",
   "metadata": {
    "id": "xP8kX0xfy-Wu"
   },
   "source": [
    "<font color=\"blue\">【実習】 ブロードキャストを利用してベクトル`x`の各要素に10を足す</font>"
   ]
  },
  {
   "cell_type": "markdown",
   "metadata": {
    "id": "eVStKa12luhR"
   },
   "source": [
    "```\n",
    "#--#--#--#--#--#--#--#--#--#--#--#--#--#--#--#--#--#--#--#\n",
    "print(10 + x)\n",
    "#--#--#--#--#--#--#--#--#--#--#--#--#--#--#--#--#--#--#--#\n",
    "```"
   ]
  },
  {
   "cell_type": "code",
   "execution_count": null,
   "metadata": {
    "id": "LnGVs1v8TQcp"
   },
   "outputs": [],
   "source": []
  },
  {
   "cell_type": "markdown",
   "metadata": {
    "id": "IUHPJNeHnJ9V"
   },
   "source": [
    "<font color=\"blue\">【実習】 ブロードキャストを利用してベクトル`x`の各要素を2乗する</font>"
   ]
  },
  {
   "cell_type": "markdown",
   "metadata": {
    "id": "COkChQhZnP9G"
   },
   "source": [
    "```\n",
    "#--#--#--#--#--#--#--#--#--#--#--#--#--#--#--#--#--#--#--#\n",
    "print(x ** 2)\n",
    "#--#--#--#--#--#--#--#--#--#--#--#--#--#--#--#--#--#--#--#\n",
    "```"
   ]
  },
  {
   "cell_type": "code",
   "execution_count": null,
   "metadata": {
    "id": "AZb29z6Pm3zH"
   },
   "outputs": [],
   "source": []
  },
  {
   "cell_type": "markdown",
   "metadata": {
    "id": "nb4zNujlUJCM"
   },
   "source": [
    "### 算術関数"
   ]
  },
  {
   "cell_type": "markdown",
   "metadata": {
    "id": "AlEr0YfDg0eh"
   },
   "source": [
    "NumPyの算術関数をベクトルに適用すると，基本的には要素ごとに計算します．\n",
    "* `np.exp(x)`: eのべき乗\n",
    "* `np.log(x)`: 対数（底はe）\n",
    "* `np.sqrt(x)`: 平方根\n",
    "\n",
    "使用可能な算術関数については，[NumPy API ReferenceのMathematical functions](https://numpy.org/doc/stable/reference/routines.math.html)をご覧ください．"
   ]
  },
  {
   "cell_type": "markdown",
   "metadata": {
    "id": "zA_GJYlYpLdD"
   },
   "source": [
    "<font color=\"blue\">【実習】 ベクトルの各要素の平方根をとる</font>"
   ]
  },
  {
   "cell_type": "markdown",
   "metadata": {
    "id": "w-curm5Mlwx_"
   },
   "source": [
    "```\n",
    "#--#--#--#--#--#--#--#--#--#--#--#--#--#--#--#--#--#--#--#\n",
    "import numpy as np\n",
    "\n",
    "z = np.array([2, 3, 4])\n",
    "print(np.sqrt(z))\n",
    "#--#--#--#--#--#--#--#--#--#--#--#--#--#--#--#--#--#--#--#\n",
    "```"
   ]
  },
  {
   "cell_type": "code",
   "execution_count": null,
   "metadata": {
    "id": "qefluuwHXBb-"
   },
   "outputs": [],
   "source": []
  },
  {
   "cell_type": "markdown",
   "metadata": {
    "id": "LnscQFFmOaLv"
   },
   "source": [
    "### 要素の確認と変更"
   ]
  },
  {
   "cell_type": "markdown",
   "metadata": {
    "id": "dUiZtwvXacjE"
   },
   "source": [
    "リストと同様の書き方でベクトルの要素にアクセスできます．"
   ]
  },
  {
   "cell_type": "markdown",
   "metadata": {
    "id": "36uqEwkVOJmd"
   },
   "source": [
    "<font color=\"blue\">【実習】 ベクトル `x = [6 7 8]` の2番目（index 1）の要素にアクセスする．</font>"
   ]
  },
  {
   "cell_type": "markdown",
   "metadata": {
    "id": "IQeT1jLAMbCl"
   },
   "source": [
    "```\n",
    "#--#--#--#--#--#--#--#--#--#--#--#--#--#--#--#--#--#--#--#\n",
    "import numpy as np\n",
    "\n",
    "x = np.array([6, 7, 8])\n",
    "print(x[1])\n",
    "#--#--#--#--#--#--#--#--#--#--#--#--#--#--#--#--#--#--#--#\n",
    "```"
   ]
  },
  {
   "cell_type": "code",
   "execution_count": null,
   "metadata": {
    "id": "QOoexagimUVB"
   },
   "outputs": [],
   "source": []
  },
  {
   "cell_type": "markdown",
   "metadata": {
    "id": "H_LT19hnme04"
   },
   "source": [
    "リストと同様，スライスを使って複数の要素にアクセスすることもできます．"
   ]
  },
  {
   "cell_type": "markdown",
   "metadata": {
    "id": "9PR3wsIAOYWD"
   },
   "source": [
    "<font color=\"blue\">【実習】 ベクトル `x = [6 7 8]` の先頭2要素にアクセスする．</font>"
   ]
  },
  {
   "cell_type": "markdown",
   "metadata": {
    "id": "Ey9tcKRHMbt3"
   },
   "source": [
    "```\n",
    "#--#--#--#--#--#--#--#--#--#--#--#--#--#--#--#--#--#--#--#\n",
    "print(x[0:2])\n",
    "#--#--#--#--#--#--#--#--#--#--#--#--#--#--#--#--#--#--#--#\n",
    "```"
   ]
  },
  {
   "cell_type": "code",
   "execution_count": null,
   "metadata": {
    "id": "o2x3el8mmlWM"
   },
   "outputs": [],
   "source": []
  },
  {
   "cell_type": "markdown",
   "metadata": {
    "id": "fUBc1YLIo5lR"
   },
   "source": [
    "```{note}\n",
    "`x[0:2]` と書いた時，インデックス 0 は含まれるが，インデックス 2 は含まれないことに注意しましょう．つまりこの書き方ではインデックスが 0 以上 1 以下の要素が抜き出されます．\n",
    "```"
   ]
  },
  {
   "cell_type": "markdown",
   "metadata": {
    "id": "ZMu-K8Ncn6Xc"
   },
   "source": [
    "要素の値を変更するには，指定要素に値を代入します．"
   ]
  },
  {
   "cell_type": "markdown",
   "metadata": {
    "id": "-EjqQmkYOr6X"
   },
   "source": [
    "<font color=\"blue\">【実習】 ベクトル `x = [6 7 8]` の3番目(index 2)の要素の値を20に変更する．</font>"
   ]
  },
  {
   "cell_type": "markdown",
   "metadata": {
    "id": "Lnz2Xd-4MccS"
   },
   "source": [
    "```\n",
    "#--#--#--#--#--#--#--#--#--#--#--#--#--#--#--#--#--#--#--#\n",
    "x[2] = 20\n",
    "print(x)\n",
    "#--#--#--#--#--#--#--#--#--#--#--#--#--#--#--#--#--#--#--#\n",
    "```"
   ]
  },
  {
   "cell_type": "code",
   "execution_count": null,
   "metadata": {
    "id": "ERS6nclcoEyo"
   },
   "outputs": [],
   "source": []
  },
  {
   "cell_type": "markdown",
   "metadata": {
    "id": "UpjhxI1NoTRm"
   },
   "source": [
    "スライスを使って複数要素に同時に値を代入することもできます．"
   ]
  },
  {
   "cell_type": "markdown",
   "metadata": {
    "id": "gpTuNSnvOz_h"
   },
   "source": [
    "<font color=\"blue\">【実習】 ベクトル `x = [6 7 20]` の先頭2要素の値を30, 31に変更する．</font>"
   ]
  },
  {
   "cell_type": "markdown",
   "metadata": {
    "id": "SQeRZv84Mc8U"
   },
   "source": [
    "```\n",
    "#--#--#--#--#--#--#--#--#--#--#--#--#--#--#--#--#--#--#--#\n",
    "x[0:2] = 30, 31\n",
    "print(x)\n",
    "#--#--#--#--#--#--#--#--#--#--#--#--#--#--#--#--#--#--#--#\n",
    "```"
   ]
  },
  {
   "cell_type": "code",
   "execution_count": null,
   "metadata": {
    "id": "h-S0MMfMoKHh"
   },
   "outputs": [],
   "source": []
  },
  {
   "cell_type": "markdown",
   "metadata": {
    "id": "YV6nIWUtuguR"
   },
   "source": [
    "### ベクトルのコピー"
   ]
  },
  {
   "cell_type": "markdown",
   "metadata": {
    "id": "x2Q3umukpcsA"
   },
   "source": [
    "ベクトル`x`をベクトル`y`にコピーする際は，`y = np.copy(x)` と書きます．\n",
    "決して `y = x` と書いてはいけません．"
   ]
  },
  {
   "cell_type": "markdown",
   "metadata": {
    "id": "CmCl69UqO7_v"
   },
   "source": [
    "<font color=\"blue\">【実習】 ベクトル `x = [6 7 8]` の値をベクトル `y` にコピーする．</font>"
   ]
  },
  {
   "cell_type": "markdown",
   "metadata": {
    "id": "_AudpdbGMdo4"
   },
   "source": [
    "```\n",
    "#--#--#--#--#--#--#--#--#--#--#--#--#--#--#--#--#--#--#--#\n",
    "import numpy as np\n",
    "\n",
    "x = np.array([6, 7, 8])\n",
    "#y = x # Wrong\n",
    "y = np.copy(x)\n",
    "x[1] = 100\n",
    "print(y)\n",
    "#--#--#--#--#--#--#--#--#--#--#--#--#--#--#--#--#--#--#--#\n",
    "```"
   ]
  },
  {
   "cell_type": "code",
   "execution_count": null,
   "metadata": {
    "id": "3Rv3My_-p4eS"
   },
   "outputs": [],
   "source": []
  },
  {
   "cell_type": "markdown",
   "metadata": {
    "id": "0EfPfpytoJly"
   },
   "source": [
    "```{note}\n",
    "`y = x` と書いてしまうと，変数`y`と変数`x`が同じオブジェクトIDを持つことになり，`y`は`x`の別名を表すことになってしまいます．つまり，`x`の値を変更すると勝手に`y`の値も変わってしまいします．リストでは，`y = x[:]`という書き方でコピーができましたが，NumPy の ndarray ではできません（これも`y`が`x`の別名になってしまう）ので注意しましょう．\n",
    "```"
   ]
  },
  {
   "cell_type": "markdown",
   "metadata": {
    "id": "gw6uq7w9uWy8"
   },
   "source": [
    "## 行列の基本操作\n"
   ]
  },
  {
   "cell_type": "markdown",
   "metadata": {
    "id": "EDru8qiNvYJD"
   },
   "source": [
    "### 行列の生成"
   ]
  },
  {
   "cell_type": "markdown",
   "metadata": {
    "id": "Jz3rHyN2oMtU"
   },
   "source": [
    "NumPy の ndarray クラスを用いて行列を生成するには NumPy の array 関数に２次元リストを渡します．"
   ]
  },
  {
   "cell_type": "markdown",
   "metadata": {
    "id": "4N9IRRLhld-6"
   },
   "source": [
    "<font color=\"blue\">【実習】 行列 $X=\\begin{bmatrix}1 & 2\\\\3 & 4\\end{bmatrix}$ を生成する\n",
    "</font>"
   ]
  },
  {
   "cell_type": "markdown",
   "metadata": {
    "id": "Vnf6UD85l1Ev"
   },
   "source": [
    "```\n",
    "#--#--#--#--#--#--#--#--#--#--#--#--#--#--#--#--#--#--#--#\n",
    "import numpy as np\n",
    "\n",
    "X = np.array([[1,2],[3,4]])\n",
    "print(X)\n",
    "#--#--#--#--#--#--#--#--#--#--#--#--#--#--#--#--#--#--#--#\n",
    "```"
   ]
  },
  {
   "cell_type": "code",
   "execution_count": null,
   "metadata": {
    "id": "HZl-sDkHiA5z"
   },
   "outputs": [],
   "source": []
  },
  {
   "cell_type": "markdown",
   "metadata": {
    "id": "dUO5XOm2ZF7-"
   },
   "source": [
    "生成した行列`X`の形（行と列それぞれの要素数）を確認するには，`X.shape`と書きます．"
   ]
  },
  {
   "cell_type": "markdown",
   "metadata": {
    "id": "TeMGGNAdPHAS"
   },
   "source": [
    "<font color=\"blue\">【実習】 行列 $X=\\begin{bmatrix}1 & 2\\\\3 & 4\\end{bmatrix}$ の形（行と列の要素数）を確認する</font>"
   ]
  },
  {
   "cell_type": "markdown",
   "metadata": {
    "id": "wEZUAduiMfZO"
   },
   "source": [
    "```\n",
    "#--#--#--#--#--#--#--#--#--#--#--#--#--#--#--#--#--#--#--#\n",
    "print(X.shape)\n",
    "#--#--#--#--#--#--#--#--#--#--#--#--#--#--#--#--#--#--#--#\n",
    "```"
   ]
  },
  {
   "cell_type": "code",
   "execution_count": null,
   "metadata": {
    "id": "Px7o_pclZUP7"
   },
   "outputs": [],
   "source": []
  },
  {
   "cell_type": "markdown",
   "metadata": {
    "id": "oj4nBo59WpDy"
   },
   "source": [
    "```{hint}\n",
    "1行（もしくは１列）の行列とベクトルは厳密に区別されますので注意しましょう．行列は２次元配列に線形代数の機能を追加したものであり，ベクトルは１次元配列に線形代数の機能を追加したものです．`shape`で得られるタプルの要素数は，ベクトルでは1つ，行列では2つになります．\n",
    "```"
   ]
  },
  {
   "cell_type": "markdown",
   "metadata": {
    "id": "sXQCIwkXcLkg"
   },
   "source": [
    "### 行列に対する基本演算"
   ]
  },
  {
   "cell_type": "markdown",
   "metadata": {
    "id": "0fuL81LIcLki"
   },
   "source": [
    "行列に対する加減乗除は同じ位置の成分同士に対して行われます．"
   ]
  },
  {
   "cell_type": "markdown",
   "metadata": {
    "id": "zNt-NV9s3SX3"
   },
   "source": [
    "<font color=\"blue\">【実習】 行列 $X=\\begin{bmatrix}1 & 2\\\\3 & 4\\end{bmatrix}, Y=\\begin{bmatrix}5 & 6\\\\7 & 8\\end{bmatrix}$ に対して，$X+Y$を計算する</font>"
   ]
  },
  {
   "cell_type": "markdown",
   "metadata": {
    "id": "5JvwqLmQl2pa"
   },
   "source": [
    "```\n",
    "#--#--#--#--#--#--#--#--#--#--#--#--#--#--#--#--#--#--#--#\n",
    "import numpy as np\n",
    "\n",
    "X = np.array([[1,2],[3,4]])\n",
    "Y = np.array([[5,6],[7,8]])\n",
    "print(X+Y)\n",
    "#--#--#--#--#--#--#--#--#--#--#--#--#--#--#--#--#--#--#--#\n",
    "```"
   ]
  },
  {
   "cell_type": "code",
   "execution_count": null,
   "metadata": {
    "id": "LRCp76tdcFO6"
   },
   "outputs": [],
   "source": []
  },
  {
   "cell_type": "markdown",
   "metadata": {
    "id": "me8gUxBVjSju"
   },
   "source": [
    "算術計算の関数も基本的には要素ごとに計算されます．"
   ]
  },
  {
   "cell_type": "markdown",
   "metadata": {
    "id": "RV99gx9M-WPc"
   },
   "source": [
    "<font color=\"blue\">【実習】 行列 $X=\\begin{bmatrix}1 & 2\\\\3 & 4\\end{bmatrix}$ に対して，成分ごとに対数をとる</font>"
   ]
  },
  {
   "cell_type": "markdown",
   "metadata": {
    "id": "xHbzhnJv-mqw"
   },
   "source": [
    "```\n",
    "#--#--#--#--#--#--#--#--#--#--#--#--#--#--#--#--#--#--#--#\n",
    "print(np.log(X))\n",
    "#--#--#--#--#--#--#--#--#--#--#--#--#--#--#--#--#--#--#--#\n",
    "```"
   ]
  },
  {
   "cell_type": "code",
   "execution_count": null,
   "metadata": {
    "id": "d-M97xbA-N8m"
   },
   "outputs": [],
   "source": []
  },
  {
   "cell_type": "markdown",
   "metadata": {
    "id": "cATWcTXHjjJ_"
   },
   "source": [
    "行列 `X,Y` に対して，`X * Y` と書くと，`X` と `Y` の成分ごとの積(アダマール積)が計算されます．"
   ]
  },
  {
   "cell_type": "markdown",
   "metadata": {
    "id": "GBm7YzMl7Scy"
   },
   "source": [
    "<font color=\"blue\">【実習】 行列 $X=\\begin{bmatrix}1 & 2\\\\3 & 4\\end{bmatrix}, Y=\\begin{bmatrix}5 & 6\\\\7 & 8\\end{bmatrix}$ に対して，$X$と$Y$の成分ごとの積(アダマール積)を計算する</font>"
   ]
  },
  {
   "cell_type": "markdown",
   "metadata": {
    "id": "4ciUrG5N775z"
   },
   "source": [
    "```\n",
    "#--#--#--#--#--#--#--#--#--#--#--#--#--#--#--#--#--#--#--#\n",
    "print(X * Y)\n",
    "#--#--#--#--#--#--#--#--#--#--#--#--#--#--#--#--#--#--#--#\n",
    "```"
   ]
  },
  {
   "cell_type": "code",
   "execution_count": null,
   "metadata": {
    "id": "iYu4lKK07bes"
   },
   "outputs": [],
   "source": []
  },
  {
   "cell_type": "markdown",
   "metadata": {
    "id": "N0o4s-KTuZHa"
   },
   "source": [
    "```{note}\n",
    "行列の成分ごとに積をとったもののことをアダマール積といいます．用語としては便利ですが，万人に通じる用語ではないので，使用する際は注意しましょう．\n",
    "```"
   ]
  },
  {
   "cell_type": "markdown",
   "metadata": {
    "id": "Ic2rC3FxWI67"
   },
   "source": [
    "行列`X`と行列`Y`の行列積を計算するには，`X @ Y`と書きます．"
   ]
  },
  {
   "cell_type": "markdown",
   "metadata": {
    "id": "w8Fu33X63wSn"
   },
   "source": [
    "<font color=\"blue\">【実習】 行列 $X=\\begin{bmatrix}1 & 2\\\\3 & 4\\end{bmatrix}, Y=\\begin{bmatrix}5 & 6\\\\7 & 8\\end{bmatrix}$ に対して，$X$と$Y$の行列積を計算する</font>"
   ]
  },
  {
   "cell_type": "markdown",
   "metadata": {
    "id": "PCkI0Ib1l4BQ"
   },
   "source": [
    "```\n",
    "#--#--#--#--#--#--#--#--#--#--#--#--#--#--#--#--#--#--#--#\n",
    "print(X @ Y)\n",
    "#--#--#--#--#--#--#--#--#--#--#--#--#--#--#--#--#--#--#--#\n",
    "```"
   ]
  },
  {
   "cell_type": "code",
   "execution_count": null,
   "metadata": {
    "id": "7LnvmAWjWIUo"
   },
   "outputs": [],
   "source": []
  },
  {
   "cell_type": "markdown",
   "metadata": {
    "id": "Hkt4eSY7FvFJ"
   },
   "source": [
    "```{note}\n",
    "`@`による行列積計算はバージョン3.5以降のPythonで使用できます．それより前のPythonを使用する場合は，`np.matmul`関数を使用する必要があります．\n",
    "```"
   ]
  },
  {
   "cell_type": "markdown",
   "metadata": {
    "id": "-UW7s5uU_MQ7"
   },
   "source": [
    "行列においても，ベクトルと同様にブロードキャストを行うことができます．"
   ]
  },
  {
   "cell_type": "markdown",
   "metadata": {
    "id": "lp8x8JZ4_ZQ4"
   },
   "source": [
    "<font color=\"blue\">【実習】 行列 $X=\\begin{bmatrix}1 & 2\\\\3 & 4\\end{bmatrix}$ に対して，各成分の値を半分にした行列を計算する</font>"
   ]
  },
  {
   "cell_type": "markdown",
   "metadata": {
    "id": "BLy599e7MiyT"
   },
   "source": [
    "```\n",
    "#--#--#--#--#--#--#--#--#--#--#--#--#--#--#--#--#--#--#--#\n",
    "print(X / 2)\n",
    "#--#--#--#--#--#--#--#--#--#--#--#--#--#--#--#--#--#--#--#\n",
    "```"
   ]
  },
  {
   "cell_type": "code",
   "execution_count": null,
   "metadata": {
    "id": "ePwVImcG_dy5"
   },
   "outputs": [],
   "source": []
  },
  {
   "cell_type": "markdown",
   "metadata": {
    "id": "v9Mv7SN0qyoZ"
   },
   "source": [
    "行列$S$ の行列式 $det(S)$ を計算するには`np.linalg.det(S)` と書きます．  \n",
    "$S=\\begin{bmatrix}a & b\\\\c & d\\end{bmatrix}$ の時，$det(S)$ はベクトル $\\begin{bmatrix}a\\\\c\\end{bmatrix}$ とベクトル $\\begin{bmatrix}b\\\\d\\end{bmatrix}$ により作られる平行四辺形の符号付き面積を表します．"
   ]
  },
  {
   "cell_type": "markdown",
   "metadata": {
    "id": "iRpTTra0tzaY"
   },
   "source": [
    "<font color=\"blue\">【実習】 行列 $S=\\begin{bmatrix}3 & 1\\\\1 & 2\\end{bmatrix}$ に対して，$S$の行列式を計算する</font>"
   ]
  },
  {
   "cell_type": "markdown",
   "metadata": {
    "id": "x4ATTZC4Mkh1"
   },
   "source": [
    "```\n",
    "#--#--#--#--#--#--#--#--#--#--#--#--#--#--#--#--#--#--#--#\n",
    "S = np.array([[3,1],[1,2]])\n",
    "print(np.linalg.det(S))\n",
    "#--#--#--#--#--#--#--#--#--#--#--#--#--#--#--#--#--#--#--#\n",
    "```"
   ]
  },
  {
   "cell_type": "code",
   "execution_count": null,
   "metadata": {
    "id": "e34yIXBzq8GV"
   },
   "outputs": [],
   "source": []
  },
  {
   "cell_type": "markdown",
   "metadata": {
    "id": "IHbT0GrNs2Dl"
   },
   "source": [
    "```{note}\n",
    "Xの行列式は-2になりますが，`np.linalg.det(X)` の値は計算誤差により，-2ぴったりになっていないかもしれません．\n",
    "```"
   ]
  },
  {
   "cell_type": "markdown",
   "metadata": {
    "id": "QUkv7HItpuDs"
   },
   "source": [
    "行列`P`の転置は`P.T`と書きます．"
   ]
  },
  {
   "cell_type": "markdown",
   "metadata": {
    "id": "484GIFiEp57w"
   },
   "source": [
    "<font color=\"blue\">【実習】 行列 $P=\\begin{bmatrix}1 & 2 \\\\3 & 4 \\\\ 5 & 6\\end{bmatrix}$ に対して，$P$の転置を出力する．</font>"
   ]
  },
  {
   "cell_type": "markdown",
   "metadata": {
    "id": "4pSAQy_2MlYc"
   },
   "source": [
    "```\n",
    "#--#--#--#--#--#--#--#--#--#--#--#--#--#--#--#--#--#--#--#\n",
    "P = np.array([[1,2],[3,4],[5,6]])\n",
    "print(P.T)\n",
    "#--#--#--#--#--#--#--#--#--#--#--#--#--#--#--#--#--#--#--#\n",
    "```"
   ]
  },
  {
   "cell_type": "code",
   "execution_count": null,
   "metadata": {
    "id": "EuWDzFwUqIyU"
   },
   "outputs": [],
   "source": []
  },
  {
   "cell_type": "markdown",
   "metadata": {
    "id": "xdZijZhcsAH7"
   },
   "source": [
    "```{hint}\n",
    "ここで挙げたもの以外にも行列に関する様々な計算をNumPyを使って行うことができます．詳しくは[Numpy API Reference Linear algebra](https://numpy.org/doc/stable/reference/routines.linalg.html)をご覧ください．\n",
    "```"
   ]
  },
  {
   "cell_type": "markdown",
   "metadata": {
    "id": "01X1vuYiLWhy"
   },
   "source": [
    "### 行列とベクトルの積"
   ]
  },
  {
   "cell_type": "markdown",
   "metadata": {
    "id": "GdEMF0c8MpPN"
   },
   "source": [
    "行列とベクトルとの行列積も `@`演算子を使って計算できます．この場合の計算結果はベクトルになります．NumPyのベクトルには向き（縦ベクトルや横ベクトル）の区別がないため，行列積を計算する際には最初に向きを決めないといけませんが，NumPy側でいい感じに向きを決めてくれます．"
   ]
  },
  {
   "cell_type": "markdown",
   "metadata": {
    "id": "qug9MdIsODSf"
   },
   "source": [
    "```{note}\n",
    "[Numpy API Reference](https://numpy.org/doc/stable/reference/generated/numpy.matmul.html#numpy-matmul)によれば，行列積計算において第１項が（n要素の）ベクトルの際は，まずそれを1行n列の行列に変換してから行列積を計算するようです．同様に，第２項がベクトルの際は，まずそれをn行1列の行列に変換してから行列積を計算するようです．そして行列積計算後，行列からベクトルに変換する（次元を上げた分を元に戻す）ようです．\n",
    "```"
   ]
  },
  {
   "cell_type": "markdown",
   "metadata": {
    "id": "Pri2uvukegSI"
   },
   "source": [
    "<font color=\"blue\">【実習】 行列 $W=\\begin{bmatrix}5 & 2\\\\1 & 3\\end{bmatrix}$，ベクトル $z=\\begin{bmatrix}2 \\\\1 \\end{bmatrix}$ に対して，行列積$Wz$と$z^T W$を計算する</font>"
   ]
  },
  {
   "cell_type": "markdown",
   "metadata": {
    "id": "SaCCa7TjMmvm"
   },
   "source": [
    "```\n",
    "#--#--#--#--#--#--#--#--#--#--#--#--#--#--#--#--#--#--#--#\n",
    "import numpy as np\n",
    "\n",
    "W = np.array([[5,2],[1,3]])\n",
    "z = np.array([2,1])\n",
    "\n",
    "print(W @ z)\n",
    "print(z @ W)\n",
    "#--#--#--#--#--#--#--#--#--#--#--#--#--#--#--#--#--#--#--#\n",
    "```"
   ]
  },
  {
   "cell_type": "code",
   "execution_count": null,
   "metadata": {
    "id": "7MVmGUBbRmWr"
   },
   "outputs": [],
   "source": []
  },
  {
   "cell_type": "markdown",
   "metadata": {
    "id": "ShF3vCtNFxtB"
   },
   "source": [
    "### 逆行列と線形連立方程式"
   ]
  },
  {
   "cell_type": "markdown",
   "metadata": {
    "id": "9JxiwEgXFxtF"
   },
   "source": [
    "行列$A$に対し、$A^{-1}A = I$を満たすような行列$A^{-1}$を$A$の逆行列といいます．\n",
    "\n",
    "NumPyでは`np.linalg.inv(A)`と書くことで，$A$の逆行列$A^{-1}$を計算できます．"
   ]
  },
  {
   "cell_type": "markdown",
   "metadata": {
    "id": "fxV3ZaYSFVtP"
   },
   "source": [
    "<font color=\"blue\">【実習】 行列 $A=\\begin{bmatrix}2 & 5\\\\1 & 3\\end{bmatrix}$ の逆行列を求める．（逆行列は$\\frac{1}{2\\cdot 3 - 5\\cdot 1}\\begin{bmatrix}3 & -5\\\\-1 & 2\\end{bmatrix} = \\begin{bmatrix}3 & -5\\\\-1 & 2\\end{bmatrix}$となる．）</font>"
   ]
  },
  {
   "cell_type": "markdown",
   "metadata": {
    "id": "wf0oJgtxl6Vl"
   },
   "source": [
    "```\n",
    "#--#--#--#--#--#--#--#--#--#--#--#--#--#--#--#--#--#--#--#\n",
    "import numpy as np\n",
    "\n",
    "A = np.array([[2, 5], [1, 3]])\n",
    "print(np.linalg.inv(A))\n",
    "#--#--#--#--#--#--#--#--#--#--#--#--#--#--#--#--#--#--#--#\n",
    "```"
   ]
  },
  {
   "cell_type": "code",
   "execution_count": null,
   "metadata": {
    "id": "57X3yxdBFxtH"
   },
   "outputs": [],
   "source": []
  },
  {
   "cell_type": "markdown",
   "metadata": {
    "id": "WFTbZKNEG1ij"
   },
   "source": [
    "逆行列を求めることにより，線形連立方程式の解を計算することができます．\n",
    "\n",
    "例として下記のような$x,y$を変数とする連立方程式を考えます．\n",
    "\\begin{eqnarray}\n",
    "  a_{00} x + a_{01}y & = & b_0 \\\\\n",
    "  a_{10} x + a_{11}y& = & b_1\n",
    "\\end{eqnarray}\n",
    "\n",
    "上記の連立方程式は以下のように記述できます．\n",
    "$$\\begin{bmatrix}a_{00} & a_{01}\\\\a_{10} & a_{11}\\end{bmatrix}\\begin{bmatrix}x\\\\ y\\end{bmatrix} = \\begin{bmatrix}b_0\\\\ b_1\\end{bmatrix}$$\n",
    "\n",
    "この時，$A = \\begin{bmatrix}a_{00} & a_{01}\\\\a_{10} & a_{11}\\end{bmatrix}$，\n",
    "$B=\\begin{bmatrix}b_0\\\\ b_1\\end{bmatrix}$とおくと，\n",
    "$A \\begin{bmatrix}x\\\\ y\\end{bmatrix} = B$\n",
    "となりますので，  \n",
    "これに左から$A^{-1}$をかけることで，\n",
    "$$\\begin{bmatrix}x\\\\ y\\end{bmatrix} = A^{-1}B$$\n",
    "となり連立方程式の解を求めることができます．"
   ]
  },
  {
   "cell_type": "markdown",
   "metadata": {
    "id": "_qQ2kETYJ8I1"
   },
   "source": [
    "<font color=\"blue\">【実習】 以下の連立方程式の解を求める．\n",
    "\\begin{eqnarray}\n",
    "  2 x + 5y & = & 3 \\\\\n",
    "    x + 3y& = & 2\n",
    "\\end{eqnarray}\n",
    "</font>"
   ]
  },
  {
   "cell_type": "markdown",
   "metadata": {
    "id": "QJwgpgBjMokU"
   },
   "source": [
    "```\n",
    "#--#--#--#--#--#--#--#--#--#--#--#--#--#--#--#--#--#--#--#\n",
    "A = np.array([[2, 5], [1, 3]])\n",
    "B = np.array([3, 2])\n",
    "print(np.linalg.inv(A) @ B)\n",
    "#--#--#--#--#--#--#--#--#--#--#--#--#--#--#--#--#--#--#--#\n",
    "```"
   ]
  },
  {
   "cell_type": "code",
   "execution_count": null,
   "metadata": {
    "id": "2SlEgPciKj-1"
   },
   "outputs": [],
   "source": []
  },
  {
   "cell_type": "markdown",
   "metadata": {
    "id": "ZlsbLb4qyZ2W"
   },
   "source": [
    "### 要素の確認と変更"
   ]
  },
  {
   "cell_type": "markdown",
   "metadata": {
    "id": "0LeBk1P2y3IR"
   },
   "source": [
    "行列Xの要素にアクセスするには`X[ ]`の中にカンマ区切りで行と列を指定します．\n",
    "\n",
    "インデックスが0始まりであることに気をつけましょう．\n",
    "行列`X` の左上の要素は `X[0,0]` です．"
   ]
  },
  {
   "cell_type": "markdown",
   "metadata": {
    "id": "hfDN8f2BPT6-"
   },
   "source": [
    "<font color=\"blue\">【実習】 行列 $Q=\\begin{bmatrix}1 & 2 & 3 \\\\ 4 & 5 & 6 \\\\ 7 & 8 & 9 \\end{bmatrix}$ の 0行1列の要素にアクセスする</font>"
   ]
  },
  {
   "cell_type": "markdown",
   "metadata": {
    "id": "ndK1gGw4MpOD"
   },
   "source": [
    "```\n",
    "#--#--#--#--#--#--#--#--#--#--#--#--#--#--#--#--#--#--#--#\n",
    "import numpy as np\n",
    "\n",
    "Q = np.array([[1, 2, 3], [4, 5, 6], [7, 8, 9]])\n",
    "print(Q[0,1])\n",
    "#--#--#--#--#--#--#--#--#--#--#--#--#--#--#--#--#--#--#--#\n",
    "```"
   ]
  },
  {
   "cell_type": "code",
   "execution_count": null,
   "metadata": {
    "id": "02hgYDtP0NIb"
   },
   "outputs": [],
   "source": []
  },
  {
   "cell_type": "markdown",
   "metadata": {
    "id": "Sy_kdztf1jgo"
   },
   "source": [
    "行と列のそれぞれに対してスライスを使って範囲を指定することができます．"
   ]
  },
  {
   "cell_type": "markdown",
   "metadata": {
    "id": "D-NO4pW1PuJX"
   },
   "source": [
    "<font color=\"blue\">【実習】 行列 $Q=\\begin{bmatrix}1 & 2 & 3 \\\\ 4 & 5 & 6 \\\\ 7 & 8 & 9 \\end{bmatrix}$ の すべての行の先頭2列の要素にアクセスする\n",
    "</font>"
   ]
  },
  {
   "cell_type": "markdown",
   "metadata": {
    "id": "9NnioOBhMqGb"
   },
   "source": [
    "```\n",
    "#--#--#--#--#--#--#--#--#--#--#--#--#--#--#--#--#--#--#--#\n",
    "print(Q[:,0:2])\n",
    "#--#--#--#--#--#--#--#--#--#--#--#--#--#--#--#--#--#--#--#\n",
    "```"
   ]
  },
  {
   "cell_type": "code",
   "execution_count": null,
   "metadata": {
    "id": "cb2AsAVY1txW"
   },
   "outputs": [],
   "source": []
  },
  {
   "cell_type": "markdown",
   "metadata": {
    "id": "BslJN-kf5DI3"
   },
   "source": [
    "```{hint}\n",
    "スライス `:` の左側の数字を省略すると，最初からという意味になり，右側の数字を省略すると，最後までという意味になることを思い出しましょう．\n",
    "```"
   ]
  },
  {
   "cell_type": "markdown",
   "metadata": {
    "id": "wbTtZm0JP6Og"
   },
   "source": [
    "<font color=\"blue\">【実習】 行列 $Q=\\begin{bmatrix}1 & 2 & 3 \\\\ 4 & 5 & 6 \\\\ 7 & 8 & 9 \\end{bmatrix}$ の index 1の行をベクトルとして取り出す．\n",
    "</font>"
   ]
  },
  {
   "cell_type": "markdown",
   "metadata": {
    "id": "LDUOZLPXMq3T"
   },
   "source": [
    "```\n",
    "#--#--#--#--#--#--#--#--#--#--#--#--#--#--#--#--#--#--#--#\n",
    "print(Q[1,:])\n",
    "#--#--#--#--#--#--#--#--#--#--#--#--#--#--#--#--#--#--#--#\n",
    "```"
   ]
  },
  {
   "cell_type": "code",
   "execution_count": null,
   "metadata": {
    "id": "NeUwWwJp45on"
   },
   "outputs": [],
   "source": []
  },
  {
   "cell_type": "markdown",
   "metadata": {
    "id": "NNfALF0k4E2L"
   },
   "source": [
    "```{note}\n",
    "行列`Q` の要素にアクセスする際，行と列の両方にインデックス値を指定すると，スカラー値が返ってきます．一方，行と列の両方にスライスを指定した場合は，行列(２次元配列)が返ってきます．また，行と列の片方をインデックス値，もう片方をスライスにすると，ベクトル（１次元配列）が返ってきます．\n",
    "```"
   ]
  },
  {
   "cell_type": "markdown",
   "metadata": {
    "id": "ddbrvVUI5uhH"
   },
   "source": [
    "値を代入する処理も，ベクトルと同様に行えます．\n",
    "複数の値を同時に代入することが可能です．"
   ]
  },
  {
   "cell_type": "markdown",
   "metadata": {
    "id": "yTjiX6ebQOqT"
   },
   "source": [
    "<font color=\"blue\">【実習】 行列 $Q=\\begin{bmatrix}1 & 2 & 3 \\\\ 4 & 5 & 6 \\\\ 7 & 8 & 9 \\end{bmatrix}$ の index 1の行の値を34, 35, 36 に変更する．\n",
    "</font>"
   ]
  },
  {
   "cell_type": "markdown",
   "metadata": {
    "id": "0FoMRl8HMrhC"
   },
   "source": [
    "```\n",
    "#--#--#--#--#--#--#--#--#--#--#--#--#--#--#--#--#--#--#--#\n",
    "Q[1,:] = 34, 35, 36\n",
    "print(Q)\n",
    "#--#--#--#--#--#--#--#--#--#--#--#--#--#--#--#--#--#--#--#\n",
    "```"
   ]
  },
  {
   "cell_type": "code",
   "execution_count": null,
   "metadata": {
    "id": "iK0lUDno5_S1"
   },
   "outputs": [],
   "source": []
  },
  {
   "cell_type": "markdown",
   "metadata": {
    "id": "sd_VeoOLQWl_"
   },
   "source": [
    "<font color=\"blue\">【実習】 行列 $Q=\\begin{bmatrix}1 & 2 & 3 \\\\ 4 & 5 & 6 \\\\ 7 & 8 & 9 \\end{bmatrix}$ を行列 $R$ にコピーする．\n",
    "</font>"
   ]
  },
  {
   "cell_type": "markdown",
   "metadata": {
    "id": "YD1bSzl86u6n"
   },
   "source": [
    "行列をコピーする処理もベクトルと同様に`np.copy()`関数を用いて行います．"
   ]
  },
  {
   "cell_type": "markdown",
   "metadata": {
    "id": "zoQ6j1Q1MsJC"
   },
   "source": [
    "```\n",
    "#--#--#--#--#--#--#--#--#--#--#--#--#--#--#--#--#--#--#--#\n",
    "Q = np.array([[1, 2, 3], [4, 5, 6], [7, 8, 9]])\n",
    "#R = Q # Wrong\n",
    "R = np.copy(Q)\n",
    "Q[0,0] = 100\n",
    "print(R)\n",
    "#--#--#--#--#--#--#--#--#--#--#--#--#--#--#--#--#--#--#--#\n",
    "```"
   ]
  },
  {
   "cell_type": "code",
   "execution_count": null,
   "metadata": {
    "id": "HHRCFifj65w9"
   },
   "outputs": [],
   "source": []
  },
  {
   "cell_type": "markdown",
   "metadata": {
    "id": "2aUs1MDO8ZCz"
   },
   "source": [
    "## 応用的な操作や変形\n"
   ]
  },
  {
   "cell_type": "markdown",
   "metadata": {
    "id": "JQi-DSgI8p48"
   },
   "source": [
    "### ゼロ行列"
   ]
  },
  {
   "cell_type": "markdown",
   "metadata": {
    "id": "8lD4SNVS3c7R"
   },
   "source": [
    "要素がすべて0のベクトルを作るには，[`np.zeros()` 関数](https://numpy.org/doc/stable/reference/generated/numpy.zeros.html)にベクトルの要素数を渡します．"
   ]
  },
  {
   "cell_type": "markdown",
   "metadata": {
    "id": "y0JdYykP8NlV"
   },
   "source": [
    "<font color=\"blue\">【実習】 要素数4のゼロベクトルを生成する．</font>"
   ]
  },
  {
   "cell_type": "markdown",
   "metadata": {
    "id": "9I_ypshtMs-1"
   },
   "source": [
    "```\n",
    "#--#--#--#--#--#--#--#--#--#--#--#--#--#--#--#--#--#--#--#\n",
    "import numpy as np\n",
    "\n",
    "d = np.zeros(4)\n",
    "print(d)\n",
    "#--#--#--#--#--#--#--#--#--#--#--#--#--#--#--#--#--#--#--#\n",
    "```"
   ]
  },
  {
   "cell_type": "code",
   "execution_count": null,
   "metadata": {
    "id": "ZPenjD1x742j"
   },
   "outputs": [],
   "source": []
  },
  {
   "cell_type": "markdown",
   "metadata": {
    "id": "bSr-qBVA9qGP"
   },
   "source": [
    "要素数がすべて0の行列を作るには，`np.zeros()` 関数に行列の `shape`（行と列の要素数を表すタプル）を渡します．タプルのカッコは省略できませんので注意しましょう．"
   ]
  },
  {
   "cell_type": "markdown",
   "metadata": {
    "id": "CUCyLBdl-UQe"
   },
   "source": [
    "<font color=\"blue\">【実習】 3行2列のゼロ行列を生成する．</font>"
   ]
  },
  {
   "cell_type": "markdown",
   "metadata": {
    "id": "y4wh7kfSMtqx"
   },
   "source": [
    "```\n",
    "#--#--#--#--#--#--#--#--#--#--#--#--#--#--#--#--#--#--#--#\n",
    "E = np.zeros((3,2))\n",
    "print(E)\n",
    "#--#--#--#--#--#--#--#--#--#--#--#--#--#--#--#--#--#--#--#\n",
    "```"
   ]
  },
  {
   "cell_type": "code",
   "execution_count": null,
   "metadata": {
    "id": "7CGfvFwA3uMq"
   },
   "outputs": [],
   "source": []
  },
  {
   "cell_type": "markdown",
   "metadata": {
    "id": "J63GALI0-ovS"
   },
   "source": [
    "デフォルトでは，各要素は浮動小数点(float)型になります．\n",
    "それ以外の型にするには，`dtype` を指定します．"
   ]
  },
  {
   "cell_type": "markdown",
   "metadata": {
    "id": "6zVDwbvw_NR4"
   },
   "source": [
    "<font color=\"blue\">【実習】 3行2列の整数型のゼロ行列を生成する．</font>"
   ]
  },
  {
   "cell_type": "markdown",
   "metadata": {
    "id": "oYTBmUjuMuYH"
   },
   "source": [
    "```\n",
    "#--#--#--#--#--#--#--#--#--#--#--#--#--#--#--#--#--#--#--#\n",
    "Z = np.zeros((3,2), dtype=int)\n",
    "print(Z)\n",
    "#--#--#--#--#--#--#--#--#--#--#--#--#--#--#--#--#--#--#--#\n",
    "```"
   ]
  },
  {
   "cell_type": "code",
   "execution_count": null,
   "metadata": {
    "id": "AkOzreK5-cfE"
   },
   "outputs": [],
   "source": []
  },
  {
   "cell_type": "markdown",
   "metadata": {
    "id": "-N2MT0V6_ZfC"
   },
   "source": [
    "```{hint}\n",
    "`dtype`に指定可能な値については，[NumPy User Guide Data types](https://numpy.org/doc/stable/user/basics.types.html?highlight=dtype)をご覧ください．基本的には，`np.int64`のように`np` をつけて指定しますが，ユーザガイドによれば，`int`，`bool`，`float`，`complex`については`np`を付けずに指定可能です．これらはそれぞれ`np.int_`，`np.bool_`，`np.float_`，`np.complex_`に変換されます．\n",
    "```"
   ]
  },
  {
   "cell_type": "markdown",
   "metadata": {
    "id": "55f_RqUzBEcT"
   },
   "source": [
    "すべての要素が1の行列を作るには`np.zeros()`の代わりに[`np.ones()`](https://numpy.org/doc/stable/reference/generated/numpy.ones.html)を使います．"
   ]
  },
  {
   "cell_type": "markdown",
   "metadata": {
    "id": "prboQatvQh0o"
   },
   "source": [
    "<font color=\"blue\">【実習】 すべての要素の値が1であるような2行2列の行列を作成する．\n",
    "</font>"
   ]
  },
  {
   "cell_type": "markdown",
   "metadata": {
    "id": "zlMLcktaMvFU"
   },
   "source": [
    "```\n",
    "#--#--#--#--#--#--#--#--#--#--#--#--#--#--#--#--#--#--#--#\n",
    "B = np.ones((2,2))\n",
    "print(B)\n",
    "#--#--#--#--#--#--#--#--#--#--#--#--#--#--#--#--#--#--#--#\n",
    "```"
   ]
  },
  {
   "cell_type": "code",
   "execution_count": null,
   "metadata": {
    "id": "XfZGOfBkCjg6"
   },
   "outputs": [],
   "source": []
  },
  {
   "cell_type": "markdown",
   "metadata": {
    "id": "BTP2zjWTDkYR"
   },
   "source": [
    "### 単位行列"
   ]
  },
  {
   "cell_type": "markdown",
   "metadata": {
    "id": "up4xPSBgDzu0"
   },
   "source": [
    "単位行列（対角成分が1それ以外が0の正方行列）を作るには[`np.identity()`関数](https://numpy.org/doc/stable/reference/generated/numpy.identity.html)に単位行列の行数を渡します．`dtype` については`np.zeros()`と同じ仕様です．"
   ]
  },
  {
   "cell_type": "markdown",
   "metadata": {
    "id": "SsyMo6muQ0mD"
   },
   "source": [
    "<font color=\"blue\">【実習】 3行3列の単位行列を作成する．\n",
    "</font>"
   ]
  },
  {
   "cell_type": "markdown",
   "metadata": {
    "id": "gu2LssnIMvxb"
   },
   "source": [
    "```\n",
    "#--#--#--#--#--#--#--#--#--#--#--#--#--#--#--#--#--#--#--#\n",
    "import numpy as np\n",
    "\n",
    "I = np.identity(3)\n",
    "print(I)\n",
    "#--#--#--#--#--#--#--#--#--#--#--#--#--#--#--#--#--#--#--#\n",
    "```"
   ]
  },
  {
   "cell_type": "code",
   "execution_count": null,
   "metadata": {
    "id": "Wq2DqWcUEa22"
   },
   "outputs": [],
   "source": []
  },
  {
   "cell_type": "markdown",
   "metadata": {
    "id": "VCYN7Y6dKNv-"
   },
   "source": [
    "### 一定間隔で値を並べたベクトル"
   ]
  },
  {
   "cell_type": "markdown",
   "metadata": {
    "id": "cmMFHzvSCayL"
   },
   "source": [
    "Pythonのfor文で使用する[`range`](https://docs.python.org/ja/3/library/stdtypes.html#range)と同様の仕様で，ベクトルを生成する関数として，`np.arange()`があります．\n",
    "\n",
    "`np.arange(n,m)` と書くと`n` 以上 `m` 未満の連続した整数値からなるベクトルが生成されます．"
   ]
  },
  {
   "cell_type": "markdown",
   "metadata": {
    "id": "d_jn2gHmLsc9"
   },
   "source": [
    "<font color=\"blue\">【実習】 3以上8未満の連続した整数値からなるベクトルを生成する．</font>"
   ]
  },
  {
   "cell_type": "markdown",
   "metadata": {
    "id": "x-G86RH6l8Sw"
   },
   "source": [
    "```\n",
    "#--#--#--#--#--#--#--#--#--#--#--#--#--#--#--#--#--#--#--#\n",
    "import numpy as np\n",
    "\n",
    "a = np.arange(3,8)\n",
    "print(a)\n",
    "#--#--#--#--#--#--#--#--#--#--#--#--#--#--#--#--#--#--#--#\n",
    "```"
   ]
  },
  {
   "cell_type": "code",
   "execution_count": null,
   "metadata": {
    "id": "MQh8GnOnHaD1"
   },
   "outputs": [],
   "source": []
  },
  {
   "cell_type": "markdown",
   "metadata": {
    "id": "VKWk6-y0SYWU"
   },
   "source": [
    "```{hint}\n",
    "`arange`のつづりは英語の arrange とは異なりますので，注意しましょう．\n",
    "```"
   ]
  },
  {
   "cell_type": "markdown",
   "metadata": {
    "id": "qPN6A9I7T_cQ"
   },
   "source": [
    "`np.arange(n,m)` において先頭の数字`n`を省略し，`np.arange(m)` と書くと，`0` 以上 `m` 未満の連続した整数値からなるベクトルが生成されます．"
   ]
  },
  {
   "cell_type": "markdown",
   "metadata": {
    "id": "S49uQfdKSB07"
   },
   "source": [
    "<font color=\"blue\">【実習】 0以上8未満の連続した整数値からなるベクトルを生成する．</font>"
   ]
  },
  {
   "cell_type": "markdown",
   "metadata": {
    "id": "JPCIpggJMxzc"
   },
   "source": [
    "```\n",
    "#--#--#--#--#--#--#--#--#--#--#--#--#--#--#--#--#--#--#--#\n",
    "b = np.arange(8)\n",
    "print(b)\n",
    "#--#--#--#--#--#--#--#--#--#--#--#--#--#--#--#--#--#--#--#\n",
    "```"
   ]
  },
  {
   "cell_type": "code",
   "execution_count": null,
   "metadata": {
    "id": "tVpRbEBYSvvw"
   },
   "outputs": [],
   "source": []
  },
  {
   "cell_type": "markdown",
   "metadata": {
    "id": "V28WEItwS8M-"
   },
   "source": [
    "`range`と同様に一定間隔ごとに値を並べたベクトルを生成することもできます．\n",
    "\n",
    "`np.arange(n,m,s)` と書くと`n` 以上 `m` 未満のの整数を間隔 `s` で取り出したベクトルが生成されます．"
   ]
  },
  {
   "cell_type": "markdown",
   "metadata": {
    "id": "cYsHDPzJTfTX"
   },
   "source": [
    "<font color=\"blue\">【実習】 0以上8未満の偶数値からなるベクトルを生成する．</font>"
   ]
  },
  {
   "cell_type": "markdown",
   "metadata": {
    "id": "POlfB19SMyqr"
   },
   "source": [
    "```\n",
    "#--#--#--#--#--#--#--#--#--#--#--#--#--#--#--#--#--#--#--#\n",
    "e = np.arange(0,8,2)\n",
    "print(e)\n",
    "#--#--#--#--#--#--#--#--#--#--#--#--#--#--#--#--#--#--#--#\n",
    "```"
   ]
  },
  {
   "cell_type": "code",
   "execution_count": null,
   "metadata": {
    "id": "7Df1KAK-Th1C"
   },
   "outputs": [],
   "source": []
  },
  {
   "cell_type": "markdown",
   "metadata": {
    "id": "t_Z1iGdnDIW7"
   },
   "source": [
    "`np.arange()` では，開始，終了の数値や間隔を浮動小数点数にすることができます．"
   ]
  },
  {
   "cell_type": "markdown",
   "metadata": {
    "id": "prnEKqfrnAXQ"
   },
   "source": [
    "<font color=\"blue\">【実習】 -2.0以上，3.0未満の数値を0.1間隔で取り出したベクトルを生成する．</font>"
   ]
  },
  {
   "cell_type": "markdown",
   "metadata": {
    "id": "ycQs0Guul9tI"
   },
   "source": [
    "```\n",
    "#--#--#--#--#--#--#--#--#--#--#--#--#--#--#--#--#--#--#--#\n",
    "x = np.arange(-2.0, 3.0, 0.1)\n",
    "print(x)\n",
    "#--#--#--#--#--#--#--#--#--#--#--#--#--#--#--#--#--#--#--#\n",
    "```"
   ]
  },
  {
   "cell_type": "code",
   "execution_count": null,
   "metadata": {
    "id": "1Ul_wYIyDajH"
   },
   "outputs": [],
   "source": []
  },
  {
   "cell_type": "markdown",
   "metadata": {
    "id": "015hy007XEEP"
   },
   "source": [
    "このようなベクトルは関数のグラフを描画する際によく使います．\n",
    "関数 $f(x)$ の描画は，$x$ のそれぞれの値での $f(x)$ の値を計算することにより行えます．"
   ]
  },
  {
   "cell_type": "markdown",
   "metadata": {
    "id": "Bscqxk40Xo4I"
   },
   "source": [
    "<font color=\"blue\">【実習】 $f(x) = x^3 - x^2 - 2x$ を -2.0 以上，3.0 未満の範囲で描画する．</font>"
   ]
  },
  {
   "cell_type": "markdown",
   "metadata": {
    "id": "M84pPYMmM0u5"
   },
   "source": [
    "```\n",
    "#--#--#--#--#--#--#--#--#--#--#--#--#--#--#--#--#--#--#--#\n",
    "import matplotlib.pyplot as plt\n",
    "\n",
    "x = np.arange(-2.0, 3.0, 0.1)\n",
    "f = x ** 3 - x ** 2 - 2 * x\n",
    "print(f)\n",
    "\n",
    "plt.plot(x, f)\n",
    "plt.show()\n",
    "#--#--#--#--#--#--#--#--#--#--#--#--#--#--#--#--#--#--#--#\n",
    "```"
   ]
  },
  {
   "cell_type": "code",
   "execution_count": null,
   "metadata": {
    "id": "qxd22_D3X3r7"
   },
   "outputs": [],
   "source": []
  },
  {
   "cell_type": "markdown",
   "metadata": {
    "id": "kiQq1i_PqlmR"
   },
   "source": [
    "```{note}\n",
    "ブロードキャストのおかげで，各$x$での$f(x)$の値を簡単に計算することができます．描画にはmatplotlibを使用しています．`plot()`が描画処理で`show()`が画面に描画したものを表示する処理です．\n",
    "```"
   ]
  },
  {
   "cell_type": "markdown",
   "metadata": {
    "id": "FEtw-tbEDrB0"
   },
   "source": [
    "等間隔で値を並べたベクトルを作る際，間隔を指定するのではなく，範囲と生成されるデータ数を指定することもできます．その場合には，[`np.linspace()`関数](https://numpy.org/doc/stable/reference/generated/numpy.linspace.html)使用します．`np.linspace(p,q,n)` と書くと，`p`から`q`までの範囲を`n`等分してベクトルを生成します．"
   ]
  },
  {
   "cell_type": "markdown",
   "metadata": {
    "id": "re66IRS0zOBC"
   },
   "source": [
    "<font color=\"blue\">【実習】 `np.linspace()` を利用して，$f(x) = x^3 - x^2 - 2x$ を -2.0 以上，3.0 未満の範囲で描画する．</font>"
   ]
  },
  {
   "cell_type": "markdown",
   "metadata": {
    "id": "bDVj6LK1mDJc"
   },
   "source": [
    "```\n",
    "#--#--#--#--#--#--#--#--#--#--#--#--#--#--#--#--#--#--#--#\n",
    "x = np.linspace(-2.0, 3.0, 50)\n",
    "f = x ** 3 - x ** 2 - 2 * x\n",
    "print(x)\n",
    "print(f)\n",
    "\n",
    "plt.plot(x, f)\n",
    "plt.show()\n",
    "#--#--#--#--#--#--#--#--#--#--#--#--#--#--#--#--#--#--#--#\n",
    "```"
   ]
  },
  {
   "cell_type": "code",
   "execution_count": null,
   "metadata": {
    "id": "jKCh1T7NuyKm"
   },
   "outputs": [],
   "source": []
  },
  {
   "cell_type": "markdown",
   "metadata": {
    "id": "lfUUsjOn0GA3"
   },
   "source": [
    "```{note}\n",
    "`np.linspace()` 関数のデフォルト設定では，終了位置の値もベクトルに含まれるようになっています．\n",
    "```"
   ]
  },
  {
   "cell_type": "markdown",
   "metadata": {
    "id": "JS6HFolOOaUm"
   },
   "source": [
    "### ランダムな値を持つ行列"
   ]
  },
  {
   "cell_type": "markdown",
   "metadata": {
    "id": "972f8BeOFdfq"
   },
   "source": [
    "NumPyでは2019年7月にリリースされたver1.17.0から乱数の生成方式が変更になりました．\n",
    "旧方式で乱数を生成する際はRandomStateと呼ばれるクラスを使用しますが，新方式で乱数を生成する際はGeneratorと呼ばれるクラスを使用します．\n",
    "\n",
    "ここでは新方式を使う方法について説明します．\n",
    "新方式の詳細については[NumPy API Reference Random sampling](https://numpy.org/doc/stable/reference/random/index.html)をご覧ください．\n",
    "\n"
   ]
  },
  {
   "cell_type": "markdown",
   "metadata": {
    "id": "t0TimXTiNgNm"
   },
   "source": [
    "乱数を生成する際は，まず，乱数生成器（Random Number Generator）を作ります．  \n",
    "`rng = np.random.default_rng(12345)`のように書くと `rng` という生成器が作られます．\n",
    "以降では，`rng`という名前の生成器を使う前提で説明します．\n",
    "\n",
    "上記において，12345の部分は乱数のシード（種）と呼ばれるもので，これを指定することで，毎回同じ乱数列が生成されるようになります．他の数字を指定することで，異なる乱数列が生成されるようになります．\n",
    "シードを指定しない場合は，引数をなしにします．\n",
    "詳細は[乱数生成器のAPI Reference](https://numpy.org/doc/stable/reference/random/generator.html#numpy.random.default_rng)をご覧ください．"
   ]
  },
  {
   "cell_type": "markdown",
   "metadata": {
    "id": "lxImR8u_2cYI"
   },
   "source": [
    "```{note}\n",
    "再現性（後で実行しても同じ結果を得られる）が必要な場合は，シードを指定する必要があります．開発や実験の際は，再現性がある方が望ましいことが多いと思います．\n",
    "```"
   ]
  },
  {
   "cell_type": "markdown",
   "metadata": {
    "id": "Uep_Uxtl4ZYD"
   },
   "source": [
    "乱数生成器から整数の乱数値を得るには，[`rng.integers()`関数](https://numpy.org/doc/stable/reference/random/generated/numpy.random.Generator.integers.html#numpy.random.Generator.integers)を使います．\n",
    "\n",
    "`rng.integers(a, b)`のように書くと，a以上，b未満の整数乱数値を一つ得ることができます．"
   ]
  },
  {
   "cell_type": "markdown",
   "metadata": {
    "id": "15M1KlRmVf4U"
   },
   "source": [
    "<font color=\"blue\">【実習】 0以上10未満の整数乱数を一つ生成する．</font>"
   ]
  },
  {
   "cell_type": "markdown",
   "metadata": {
    "id": "jSachP6ZmHuA"
   },
   "source": [
    "```\n",
    "#--#--#--#--#--#--#--#--#--#--#--#--#--#--#--#--#--#--#--#\n",
    "import numpy as np\n",
    "\n",
    "rng = np.random.default_rng(12345)\n",
    "n = rng.integers(0,10)\n",
    "print(n)\n",
    "#--#--#--#--#--#--#--#--#--#--#--#--#--#--#--#--#--#--#--#\n",
    "```"
   ]
  },
  {
   "cell_type": "code",
   "execution_count": null,
   "metadata": {
    "id": "jbxsStP8N7Rg"
   },
   "outputs": [],
   "source": []
  },
  {
   "cell_type": "markdown",
   "metadata": {
    "id": "jOu3tAmigTth"
   },
   "source": [
    "整数乱数値を持つベクトルを生成するには，`rng.integers(a, b, size=n)`のようにベクトルの要素数`n`を指定します．"
   ]
  },
  {
   "cell_type": "markdown",
   "metadata": {
    "id": "Z5j98DunhI9P"
   },
   "source": [
    "<font color=\"blue\">【実習】 0以上10未満の整数乱数5個からなるベクトルを生成する．</font>"
   ]
  },
  {
   "cell_type": "markdown",
   "metadata": {
    "id": "CDSY-p_VmI4U"
   },
   "source": [
    "```\n",
    "#--#--#--#--#--#--#--#--#--#--#--#--#--#--#--#--#--#--#--#\n",
    "v = rng.integers(0,10, size=5)\n",
    "print(v)\n",
    "#--#--#--#--#--#--#--#--#--#--#--#--#--#--#--#--#--#--#--#\n",
    "```"
   ]
  },
  {
   "cell_type": "code",
   "execution_count": null,
   "metadata": {
    "id": "7dc2bnefgTtm"
   },
   "outputs": [],
   "source": []
  },
  {
   "cell_type": "markdown",
   "metadata": {
    "id": "47JyjrkqOM-H"
   },
   "source": [
    "整数乱数値を持つ行列を生成するには，`rng.integers()`の`size` パラメータに行列のshape（行と列の数）を指定します"
   ]
  },
  {
   "cell_type": "markdown",
   "metadata": {
    "id": "RfBy6UG0elwE"
   },
   "source": [
    "<font color=\"blue\">【実習】 0以上10未満の整数乱数値を持つ2行3列の行列を生成する．</font>"
   ]
  },
  {
   "cell_type": "markdown",
   "metadata": {
    "id": "62h0e5PrmKGT"
   },
   "source": [
    "```\n",
    "#--#--#--#--#--#--#--#--#--#--#--#--#--#--#--#--#--#--#--#\n",
    "W = rng.integers(0,10, size=(2,3))\n",
    "print(W)\n",
    "#--#--#--#--#--#--#--#--#--#--#--#--#--#--#--#--#--#--#--#\n",
    "```"
   ]
  },
  {
   "cell_type": "code",
   "execution_count": null,
   "metadata": {
    "id": "AspAYNzKOWDa"
   },
   "outputs": [],
   "source": []
  },
  {
   "cell_type": "markdown",
   "metadata": {
    "id": "7csigKemOkAa"
   },
   "source": [
    "ベクトルの値について，要素間でシャッフルしたい場合は，[`rng.shuffle()`関数](https://numpy.org/doc/stable/reference/random/generated/numpy.random.Generator.shuffle.html#numpy.random.Generator.shuffle)を使います．"
   ]
  },
  {
   "cell_type": "markdown",
   "metadata": {
    "id": "5is3ZlCqj8E3"
   },
   "source": [
    "<font color=\"blue\">【実習】 ベクトル `p = [1 3 4 5 6 10]`の値をベクトル内でシャッフルする．）</font>"
   ]
  },
  {
   "cell_type": "markdown",
   "metadata": {
    "id": "tTZ0M2jTmLy-"
   },
   "source": [
    "```\n",
    "#--#--#--#--#--#--#--#--#--#--#--#--#--#--#--#--#--#--#--#\n",
    "p = np.array([1, 3, 4, 5, 6, 10])\n",
    "rng.shuffle(p)\n",
    "print(p)\n",
    "#--#--#--#--#--#--#--#--#--#--#--#--#--#--#--#--#--#--#--#\n",
    "```"
   ]
  },
  {
   "cell_type": "code",
   "execution_count": null,
   "metadata": {
    "id": "DLDBjc5aOkAa"
   },
   "outputs": [],
   "source": []
  },
  {
   "cell_type": "markdown",
   "metadata": {
    "id": "QzB2dfUMO4KP"
   },
   "source": [
    "乱数生成器から浮動小数点数の乱数値を得るには，[`rng.uniform()`関数](https://numpy.org/doc/stable/reference/random/generated/numpy.random.Generator.uniform.html#numpy.random.Generator.uniform)を使います．\n",
    "\n",
    "`rng.uniform(a, b, size=(n,m))` と書くと，`a` 以上`b` 未満の浮動小数点数が一様分布から生成され，n行m列の行列が作られます（`a`以上 `b` 未満のどの値も等確率で生成されます）．\n",
    "\n",
    "`rng.integers()`と同様に，`size`を指定しないと一つの乱数値が生成され，`size` に整数値を指定すると，その要素数のベクトルが生成されます．"
   ]
  },
  {
   "cell_type": "markdown",
   "metadata": {
    "id": "9QjUT-uqnZqw"
   },
   "source": [
    "<font color=\"blue\">【実習】 80以上100未満の浮動小数点数の乱数値を持つ2行3列の行列を生成する．</font>"
   ]
  },
  {
   "cell_type": "markdown",
   "metadata": {
    "id": "4d2vUxbxmNZ6"
   },
   "source": [
    "```\n",
    "#--#--#--#--#--#--#--#--#--#--#--#--#--#--#--#--#--#--#--#\n",
    "U = rng.uniform(80, 100, size=(2,3))\n",
    "print(U)\n",
    "#--#--#--#--#--#--#--#--#--#--#--#--#--#--#--#--#--#--#--#\n",
    "```"
   ]
  },
  {
   "cell_type": "code",
   "execution_count": null,
   "metadata": {
    "id": "DdI4B7OzO4KR"
   },
   "outputs": [],
   "source": []
  },
  {
   "cell_type": "markdown",
   "metadata": {
    "id": "PXDsmsUv3zlb"
   },
   "source": [
    "正規分布から生成される乱数値を得るには，[`rng.normal()`関数](https://numpy.org/doc/stable/reference/random/generated/numpy.random.Generator.normal.html#numpy.random.Generator.normal)を使います．\n",
    "\n",
    "`rng.normal(u, s, size=(n,m))` と書くと，平均値 `u`，標準偏差`s` の正規分布から乱数が生成され，n行m列の行列が作られます．\n",
    "\n",
    "`size`については，他と同様の仕様です．"
   ]
  },
  {
   "cell_type": "markdown",
   "metadata": {
    "id": "HVXiGC8Yo9SV"
   },
   "source": [
    "<font color=\"blue\">【実習】 ある試験の得点分布が平均値80，標準偏差10の正規分布に従うと仮定して，40人の結果のサンプルをベクトルデータとして取得する．</font>"
   ]
  },
  {
   "cell_type": "markdown",
   "metadata": {
    "id": "QjyUKaOYmP9Z"
   },
   "source": [
    "```\n",
    "#--#--#--#--#--#--#--#--#--#--#--#--#--#--#--#--#--#--#--#\n",
    "N = rng.normal(80, 10, size=40)\n",
    "print(N)\n",
    "#--#--#--#--#--#--#--#--#--#--#--#--#--#--#--#--#--#--#--#\n",
    "```"
   ]
  },
  {
   "cell_type": "code",
   "execution_count": null,
   "metadata": {
    "id": "MLvJZorH3zlh"
   },
   "outputs": [],
   "source": []
  },
  {
   "cell_type": "markdown",
   "metadata": {
    "id": "_meNnKYuvaNe"
   },
   "source": [
    "```{hint}\n",
    "NumPyでは様々な分布から乱数を取得することができます．詳細は[NumPy API Reference Random GeneratorのDistributions](https://numpy.org/doc/stable/reference/random/generator.html#distributions)を参照してください．\n",
    "```"
   ]
  },
  {
   "cell_type": "markdown",
   "metadata": {
    "id": "fXx_s5LVOacE"
   },
   "source": [
    "### 行列の変形"
   ]
  },
  {
   "cell_type": "markdown",
   "metadata": {
    "id": "U-Eyfg8nZfpW"
   },
   "source": [
    "行列の要素数を変えないまま，行と列の数を変更したり，ベクトルと行列の変換をしたりできます．\n",
    "そのためには，ベクトルや行列（ndarray型のインスタンス）に対して，[`reshape()`メソッド](https://numpy.org/doc/stable/reference/generated/numpy.ndarray.reshape.html#numpy.ndarray.reshape)を呼びます．\n",
    "\n",
    "`d`要素からなるベクトル`v`に対して，`v.reshape(n,m)`と書くと，`v`を`n`行`m`列に変換した行列が生成されます（`v`は変更されません）．\n",
    "\n",
    "一方，`reshape(n)`のように引数を一つにすると，ベクトルに変換されます．"
   ]
  },
  {
   "cell_type": "markdown",
   "metadata": {
    "id": "sadQR90DCq_t"
   },
   "source": [
    "<font color=\"blue\">【実習】 ベクトル $w=\\begin{bmatrix}0 & 1 & 2 & 3 & 4 & 5 \\end{bmatrix}$ を変形して，行列 $W=\\begin{bmatrix}0 & 1 & 2 \\\\ 3 & 4 & 5 \\end{bmatrix}$ を生成する</font>"
   ]
  },
  {
   "cell_type": "markdown",
   "metadata": {
    "id": "2b3YCIGemWD-"
   },
   "source": [
    "```\n",
    "#--#--#--#--#--#--#--#--#--#--#--#--#--#--#--#--#--#--#--#\n",
    "import numpy as np\n",
    "\n",
    "w = np.arange(6)\n",
    "W = w.reshape(2,3)\n",
    "print(W)\n",
    "#--#--#--#--#--#--#--#--#--#--#--#--#--#--#--#--#--#--#--#\n",
    "```"
   ]
  },
  {
   "cell_type": "code",
   "execution_count": null,
   "metadata": {
    "id": "E_9G6uEd7SGU"
   },
   "outputs": [],
   "source": []
  },
  {
   "cell_type": "markdown",
   "metadata": {
    "id": "u3yyC-z8DqW8"
   },
   "source": [
    "```{note}\n",
    "[`reshape()`メソッドの引数の仕様](https://numpy.org/doc/stable/reference/generated/numpy.ndarray.reshape.html#numpy.ndarray.reshape)を見ると，変形後の形`shape`は一つの数値かタプルで指定されることになっているため，上記の変形処理は`w.reshape((2,3))`と引数をタプルにして呼ぶのが正しいように思われます．しかし，実はこのメソッドでは，タプルでなく，個別の引数として行列の形を指定することが[許されています](https://numpy.org/doc/stable/reference/generated/numpy.ndarray.reshape.html#numpy.ndarray.reshape)．つまり，`w.reshape((2,3))`のような2重カッコを使った書き方でなく，`w.reshape(2,3)`と書くことができます．\n",
    "```"
   ]
  },
  {
   "cell_type": "markdown",
   "metadata": {
    "id": "99EgDjqQvhYy"
   },
   "source": [
    "```{note}\n",
    "終わりです．\n",
    "```"
   ]
  }
 ],
 "metadata": {
  "colab": {
   "provenance": [],
   "toc_visible": true
  },
  "kernelspec": {
   "display_name": "Python 3",
   "name": "python3"
  },
  "language_info": {
   "name": "python"
  }
 },
 "nbformat": 4,
 "nbformat_minor": 0
}