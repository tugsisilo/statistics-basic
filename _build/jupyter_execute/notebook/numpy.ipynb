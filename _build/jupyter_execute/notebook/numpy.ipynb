{
 "cells": [
  {
   "cell_type": "markdown",
   "metadata": {
    "id": "ufi29e3ynVbG"
   },
   "source": [
    "# 基本統計処理"
   ]
  },
  {
   "cell_type": "markdown",
   "metadata": {
    "id": "x4PcqowXsS6w"
   },
   "source": [
    "## はじめに"
   ]
  },
  {
   "cell_type": "markdown",
   "metadata": {
    "id": "o21klyTwbPn8"
   },
   "source": [
    "### 開始前に行うこと（重要）"
   ]
  },
  {
   "cell_type": "markdown",
   "metadata": {
    "id": "uxGAUVjHbb4E"
   },
   "source": [
    "まず，Chrome 等のブラウザを利用して，本教材の URL にアクセスし，画面の指示に従い Google アカウントにログインしてください．その後，ブラウザ表示画面左上の「ファイル」をクリックし，さらにポップアップで出てくる項目から「ドライブにコピーを保存」をクリックしてください．これにより，本教材のコピーが自分のGoogleドライブに保存され，自分で書いたプログラムを実行できるようになります．\n",
    "\n",
    "また，多くのセルが非表示になっていると思われるため，同じくブラウザ表示画面上の「表示」をクリックし，さらにその項目から「セクションを展開」をクリックし，非表示のセルを表示させてください．"
   ]
  },
  {
   "cell_type": "markdown",
   "metadata": {
    "id": "w0Zh3zrKwm-N"
   },
   "source": [
    "```{hint}\n",
    "各ページの上部にロケットのアイコン <i class=\"fa fa-rocket\" aria-hidden=\"true\"></i> があるのでこれをクリックして各ページのファイルを Google Colaboratory 上で開いて利用してください．\n",
    "```"
   ]
  },
  {
   "cell_type": "markdown",
   "metadata": {
    "id": "F0-ckFxAiT5t"
   },
   "source": [
    "### 到達目標"
   ]
  },
  {
   "cell_type": "markdown",
   "metadata": {
    "id": "7nbMI0eOibob"
   },
   "source": [
    "NumPy を利用して基本的な統計処理ができるようになること目標とします．\n"
   ]
  },
  {
   "cell_type": "markdown",
   "metadata": {
    "id": "o_kFcAaQt7V9"
   },
   "source": [
    "### NumPy とは"
   ]
  },
  {
   "cell_type": "markdown",
   "metadata": {
    "id": "6xbi2Q8bIQkN"
   },
   "source": [
    "NumPy は，Python で科学技術などを行う際に使用する基本的なライブラリです．ベクトルや行列を扱えるほか，線形代数や統計の基本処理や離散フーリエ変換を行うこともできます．C言語でコンパイルされているため，C言語並みに高速に動作します．使い方の概要や詳細については，[NumPyユーザーガイド](https://numpy.org/doc/stable/user/index.html)をご覧ください．"
   ]
  },
  {
   "cell_type": "markdown",
   "metadata": {
    "id": "Ob1MHdrxL3CB"
   },
   "source": [
    "### NumPy のインポート"
   ]
  },
  {
   "cell_type": "markdown",
   "metadata": {
    "id": "lLVWXcwCL9Hl"
   },
   "source": [
    "NumPy は以下のようにインポートします．NumPy には np という略称を与えて利用するのが普通です．その都度 `numpy` とタイピングするのが面倒だからです．"
   ]
  },
  {
   "cell_type": "code",
   "execution_count": null,
   "metadata": {
    "id": "tUm59f0LM55C"
   },
   "outputs": [],
   "source": [
    "import numpy as np"
   ]
  },
  {
   "cell_type": "markdown",
   "metadata": {
    "id": "0-UwB6B76pxR"
   },
   "source": [
    "### 学習の進め方"
   ]
  },
  {
   "cell_type": "markdown",
   "metadata": {
    "id": "l_NBj_XO34gA"
   },
   "source": [
    "上から順に読み進み，<font color=\"blue\">【実習】</font>と書いてある箇所でコードを書いて実行してください．基本的に入力するコードの前に見本のコードが書かれており，見本と同じコードを書けば正しく動作するようになっています（見本コードの上下に入っている区切り線は入力する必要ありません）．理解を深めるには，見本とは異なるコードを書いて試してみることも役立つと思います．\n",
    "なお， Colab では，コードが書かれている領域をコードセル，説明文等が書かれている領域をテキストセルといいます．"
   ]
  },
  {
   "cell_type": "markdown",
   "metadata": {
    "id": "JL6g8UYC7YHo"
   },
   "source": [
    "## ベクトルの基本操作"
   ]
  },
  {
   "cell_type": "markdown",
   "metadata": {
    "id": "as_oHdp_8D76"
   },
   "source": [
    "### ベクトルの生成"
   ]
  },
  {
   "cell_type": "markdown",
   "metadata": {
    "id": "VFqaYMqlLxje"
   },
   "source": [
    "NumPy の ndarray クラスを用いてベクトルを生成するには NumPy の array 関数にリストを渡します．\n"
   ]
  },
  {
   "cell_type": "markdown",
   "metadata": {
    "id": "0T229wlr-2ZF"
   },
   "source": [
    "<font color=\"blue\">【実習】numpy をインポート後，ベクトル `x=[6 7 8]` を生成する</font>"
   ]
  },
  {
   "cell_type": "markdown",
   "metadata": {
    "id": "OnwroMArlpho"
   },
   "source": [
    "```\n",
    "#--#--#--#--#--#--#--#--#--#--#--#--#--#--#--#--#--#--#--#\n",
    "import numpy as np\n",
    "\n",
    "x = np.array([6, 7, 8])\n",
    "print(x)\n",
    "#--#--#--#--#--#--#--#--#--#--#--#--#--#--#--#--#--#--#--#\n",
    "```"
   ]
  },
  {
   "cell_type": "code",
   "execution_count": null,
   "metadata": {
    "id": "WAVtytV5LnRB"
   },
   "outputs": [],
   "source": []
  },
  {
   "cell_type": "markdown",
   "metadata": {
    "id": "_SQD0_7nJ7iM"
   },
   "source": [
    "```{note}\n",
    "リストを `print` すると，`[6, 7, 8]`のように要素間にカンマ(,)が入りますが，ndarray のベクトルを `print` すると`[6 7 8]`のようにカンマが入りません．これによりリストとベクトルを区別することができます．\n",
    "```"
   ]
  },
  {
   "cell_type": "markdown",
   "metadata": {
    "id": "YkBvyCK-k3Cm"
   },
   "source": [
    "生成したベクトル `x` のデータ型を確認するには，`type(x)`と書きます．"
   ]
  },
  {
   "cell_type": "markdown",
   "metadata": {
    "id": "ox090m4ONE7v"
   },
   "source": [
    "<font color=\"blue\">【実習】 ベクトル `x` の型を確認する．</font>"
   ]
  },
  {
   "cell_type": "markdown",
   "metadata": {
    "id": "q3J3MwFsMLsJ"
   },
   "source": [
    "```\n",
    "#--#--#--#--#--#--#--#--#--#--#--#--#--#--#--#--#--#--#--#\n",
    "type(x)\n",
    "#--#--#--#--#--#--#--#--#--#--#--#--#--#--#--#--#--#--#--#\n",
    "```"
   ]
  },
  {
   "cell_type": "code",
   "execution_count": null,
   "metadata": {
    "id": "iOnkZoJ0k_yG"
   },
   "outputs": [],
   "source": []
  },
  {
   "cell_type": "markdown",
   "metadata": {
    "id": "fS8Tm-joXrVj"
   },
   "source": [
    "生成したベクトル`x`の形（要素数）を確認するには，`x.shape`と書きます．"
   ]
  },
  {
   "cell_type": "markdown",
   "metadata": {
    "id": "tU4yEwunNLhk"
   },
   "source": [
    "<font color=\"blue\">【実習】 ベクトル `x` の形(要素数)を確認する．</font>"
   ]
  },
  {
   "cell_type": "markdown",
   "metadata": {
    "id": "oh2V4iSNMPZz"
   },
   "source": [
    "```\n",
    "#--#--#--#--#--#--#--#--#--#--#--#--#--#--#--#--#--#--#--#\n",
    "print(x.shape)\n",
    "#--#--#--#--#--#--#--#--#--#--#--#--#--#--#--#--#--#--#--#\n",
    "```"
   ]
  },
  {
   "cell_type": "code",
   "execution_count": null,
   "metadata": {
    "id": "6irMiREJX5SR"
   },
   "outputs": [],
   "source": []
  },
  {
   "cell_type": "markdown",
   "metadata": {
    "id": "AhId8Kz_YAgz"
   },
   "source": [
    "```{note}\n",
    "ベクトルの`shape`は要素数1のタプルになります．値は3になっていますが，これは，１次元配列でその要素数が3であるという意味です．\n",
    "```"
   ]
  },
  {
   "cell_type": "markdown",
   "metadata": {
    "id": "5J-EWSaoJsq5"
   },
   "source": [
    "### ベクトルの基本演算"
   ]
  },
  {
   "cell_type": "markdown",
   "metadata": {
    "id": "h62INlNw7br6"
   },
   "source": [
    "ベクトル `x,y` の足し算は`x + y`，引き算は`x - y` とすれば計算できます．"
   ]
  },
  {
   "cell_type": "markdown",
   "metadata": {
    "id": "omuGCEOta5u0"
   },
   "source": [
    "<font color=\"blue\">【実習】 ベクトル `x=[6 7 8]` と`y = [1 2 3]` に対して， `x + y`と`x - y` を計算する．</font>"
   ]
  },
  {
   "cell_type": "markdown",
   "metadata": {
    "id": "T6Wrr3CplrFt"
   },
   "source": [
    "```\n",
    "#--#--#--#--#--#--#--#--#--#--#--#--#--#--#--#--#--#--#--#\n",
    "import numpy as np\n",
    "\n",
    "x = np.array([6, 7, 8])\n",
    "y = np.array([1, 2, 3])\n",
    "print(x + y)\n",
    "print(x - y)\n",
    "#--#--#--#--#--#--#--#--#--#--#--#--#--#--#--#--#--#--#--#\n",
    "```"
   ]
  },
  {
   "cell_type": "code",
   "execution_count": null,
   "metadata": {
    "id": "5-lrFIlUaQAM"
   },
   "outputs": [],
   "source": []
  },
  {
   "cell_type": "markdown",
   "metadata": {
    "id": "aG9Gj_ULLFUk"
   },
   "source": [
    "掛け算や割り算についても同じ位置の要素ごとに演算が行われます．通常のベクトルの演算と異なるので注意が必要です．"
   ]
  },
  {
   "cell_type": "markdown",
   "metadata": {
    "id": "YskBBQYWNV2J"
   },
   "source": [
    "<font color=\"blue\">【実習】 ベクトル `x=[6 7 8]` と`y = [1 2 3]` に対して， `x`と `y` の要素ごとの掛け算と割り算を計算する．</font>"
   ]
  },
  {
   "cell_type": "markdown",
   "metadata": {
    "id": "hGStU06JMUAz"
   },
   "source": [
    "```\n",
    "#--#--#--#--#--#--#--#--#--#--#--#--#--#--#--#--#--#--#--#\n",
    "print(x * y)\n",
    "print(x / y)\n",
    "#--#--#--#--#--#--#--#--#--#--#--#--#--#--#--#--#--#--#--#\n",
    "```"
   ]
  },
  {
   "cell_type": "code",
   "execution_count": null,
   "metadata": {
    "id": "FApe6pw9ODJT"
   },
   "outputs": [],
   "source": []
  },
  {
   "cell_type": "markdown",
   "metadata": {
    "id": "8A1kXHNlNYEu"
   },
   "source": [
    "```{note}\n",
    "同じ位置の要素ごとの積のことは，他の積と区別してアダマール積と呼ばれます．\n",
    "```"
   ]
  },
  {
   "cell_type": "markdown",
   "metadata": {
    "id": "48fKN8vrOsLy"
   },
   "source": [
    "ベクトル`u,v`の内積を行うには`np.dot(u,v)`，外積を行うには`np.cross(u,v)`とします．"
   ]
  },
  {
   "cell_type": "markdown",
   "metadata": {
    "id": "Z1OAvMFoNsj5"
   },
   "source": [
    "<font color=\"blue\">【実習】 ベクトル `u=[3 4 0]` と`y = [-4 3 0]` に対して， `u`と `v` の内積と外積を計算する．</font>"
   ]
  },
  {
   "cell_type": "markdown",
   "metadata": {
    "id": "eqc7U0u0MVoT"
   },
   "source": [
    "```\n",
    "#--#--#--#--#--#--#--#--#--#--#--#--#--#--#--#--#--#--#--#\n",
    "u = np.array([3, 4, 0])\n",
    "v = np.array([-4, 3, 0])\n",
    "print(np.dot(u, v))\n",
    "print(np.cross(u, v))\n",
    "#--#--#--#--#--#--#--#--#--#--#--#--#--#--#--#--#--#--#--#\n",
    "```"
   ]
  },
  {
   "cell_type": "code",
   "execution_count": null,
   "metadata": {
    "id": "nyGoOaSxPICF"
   },
   "outputs": [],
   "source": []
  },
  {
   "cell_type": "markdown",
   "metadata": {
    "id": "TJ9nY_ghR0d3"
   },
   "source": [
    "```{note}\n",
    "ndarrayによるベクトルには縦ベクトル（列ベクトル），横ベクトル（行ベクトル）といった方向の概念がないので注意しましょう．ベクトルと呼んでいますが，単にベクトル等の演算をサポートする１次元配列のことです．方向が必要な時は，ベクトルでなく行列(２次元配列)を使えばよいですが，ベクトルと行列は別物(ベクトルは１次元配列で行列は２次元配列)なので注意しましょう．詳細は[NumPyユーザガイド](https://numpy.org/doc/stable/user/absolute_beginners.html#how-to-convert-a-1d-array-into-a-2d-array-how-to-add-a-new-axis-to-an-array)を参照ください．\n",
    "```"
   ]
  },
  {
   "cell_type": "markdown",
   "metadata": {
    "id": "WtUiWx82MTrR"
   },
   "source": [
    "### ブロードキャスト"
   ]
  },
  {
   "cell_type": "markdown",
   "metadata": {
    "id": "rOd3q3BdMj93"
   },
   "source": [
    "ベクトルにスカラーをかけると，ベクトルの各要素にスカラー値が掛け算されます．このようにある演算をベクトル（や行列）の全要素に適用することをブロードキャストといいます．NumPyでは，乗算だけでなく，除算，加算，減算，べき乗などもブロードキャストできます．"
   ]
  },
  {
   "cell_type": "markdown",
   "metadata": {
    "id": "_cSAGPugmu5S"
   },
   "source": [
    "<font color=\"blue\">【実習】 ブロードキャストを利用してベクトル`x`の各要素を2倍する</font>"
   ]
  },
  {
   "cell_type": "markdown",
   "metadata": {
    "id": "QySb1Ob1lskM"
   },
   "source": [
    "```\n",
    "#--#--#--#--#--#--#--#--#--#--#--#--#--#--#--#--#--#--#--#\n",
    "import numpy as np\n",
    "\n",
    "x = np.array([6, 7, 8])\n",
    "print(x * 2)\n",
    "#--#--#--#--#--#--#--#--#--#--#--#--#--#--#--#--#--#--#--#\n",
    "```"
   ]
  },
  {
   "cell_type": "code",
   "execution_count": null,
   "metadata": {
    "id": "R_IEGXzmiMNm"
   },
   "outputs": [],
   "source": []
  },
  {
   "cell_type": "markdown",
   "metadata": {
    "id": "xP8kX0xfy-Wu"
   },
   "source": [
    "<font color=\"blue\">【実習】 ブロードキャストを利用してベクトル`x`の各要素に10を足す</font>"
   ]
  },
  {
   "cell_type": "markdown",
   "metadata": {
    "id": "eVStKa12luhR"
   },
   "source": [
    "```\n",
    "#--#--#--#--#--#--#--#--#--#--#--#--#--#--#--#--#--#--#--#\n",
    "print(10 + x)\n",
    "#--#--#--#--#--#--#--#--#--#--#--#--#--#--#--#--#--#--#--#\n",
    "```"
   ]
  },
  {
   "cell_type": "code",
   "execution_count": null,
   "metadata": {
    "id": "LnGVs1v8TQcp"
   },
   "outputs": [],
   "source": []
  },
  {
   "cell_type": "markdown",
   "metadata": {
    "id": "IUHPJNeHnJ9V"
   },
   "source": [
    "<font color=\"blue\">【実習】 ブロードキャストを利用してベクトル`x`の各要素を2乗する</font>"
   ]
  },
  {
   "cell_type": "markdown",
   "metadata": {
    "id": "COkChQhZnP9G"
   },
   "source": [
    "```\n",
    "#--#--#--#--#--#--#--#--#--#--#--#--#--#--#--#--#--#--#--#\n",
    "print(x ** 2)\n",
    "#--#--#--#--#--#--#--#--#--#--#--#--#--#--#--#--#--#--#--#\n",
    "```"
   ]
  },
  {
   "cell_type": "code",
   "execution_count": null,
   "metadata": {
    "id": "AZb29z6Pm3zH"
   },
   "outputs": [],
   "source": []
  },
  {
   "cell_type": "markdown",
   "metadata": {
    "id": "nb4zNujlUJCM"
   },
   "source": [
    "### 算術関数"
   ]
  },
  {
   "cell_type": "markdown",
   "metadata": {
    "id": "AlEr0YfDg0eh"
   },
   "source": [
    "NumPyの算術関数をベクトルに適用すると，基本的には要素ごとに計算します．\n",
    "* `np.exp(x)`: eのべき乗\n",
    "* `np.log(x)`: 対数（底はe）\n",
    "* `np.sqrt(x)`: 平方根\n",
    "\n",
    "使用可能な算術関数については，[NumPy API ReferenceのMathematical functions](https://numpy.org/doc/stable/reference/routines.math.html)をご覧ください．"
   ]
  },
  {
   "cell_type": "markdown",
   "metadata": {
    "id": "zA_GJYlYpLdD"
   },
   "source": [
    "<font color=\"blue\">【実習】 ベクトルの各要素の平方根をとる</font>"
   ]
  },
  {
   "cell_type": "markdown",
   "metadata": {
    "id": "w-curm5Mlwx_"
   },
   "source": [
    "```\n",
    "#--#--#--#--#--#--#--#--#--#--#--#--#--#--#--#--#--#--#--#\n",
    "import numpy as np\n",
    "\n",
    "z = np.array([2, 3, 4])\n",
    "print(np.sqrt(z))\n",
    "#--#--#--#--#--#--#--#--#--#--#--#--#--#--#--#--#--#--#--#\n",
    "```"
   ]
  },
  {
   "cell_type": "code",
   "execution_count": null,
   "metadata": {
    "id": "qefluuwHXBb-"
   },
   "outputs": [],
   "source": []
  },
  {
   "cell_type": "markdown",
   "metadata": {
    "id": "LnscQFFmOaLv"
   },
   "source": [
    "### 要素の確認と変更"
   ]
  },
  {
   "cell_type": "markdown",
   "metadata": {
    "id": "dUiZtwvXacjE"
   },
   "source": [
    "リストと同様の書き方でベクトルの要素にアクセスできます．"
   ]
  },
  {
   "cell_type": "markdown",
   "metadata": {
    "id": "36uqEwkVOJmd"
   },
   "source": [
    "<font color=\"blue\">【実習】 ベクトル `x = [6 7 8]` の2番目（index 1）の要素にアクセスする．</font>"
   ]
  },
  {
   "cell_type": "markdown",
   "metadata": {
    "id": "IQeT1jLAMbCl"
   },
   "source": [
    "```\n",
    "#--#--#--#--#--#--#--#--#--#--#--#--#--#--#--#--#--#--#--#\n",
    "import numpy as np\n",
    "\n",
    "x = np.array([6, 7, 8])\n",
    "print(x[1])\n",
    "#--#--#--#--#--#--#--#--#--#--#--#--#--#--#--#--#--#--#--#\n",
    "```"
   ]
  },
  {
   "cell_type": "code",
   "execution_count": null,
   "metadata": {
    "id": "QOoexagimUVB"
   },
   "outputs": [],
   "source": []
  },
  {
   "cell_type": "markdown",
   "metadata": {
    "id": "H_LT19hnme04"
   },
   "source": [
    "リストと同様，スライスを使って複数の要素にアクセスすることもできます．"
   ]
  },
  {
   "cell_type": "markdown",
   "metadata": {
    "id": "9PR3wsIAOYWD"
   },
   "source": [
    "<font color=\"blue\">【実習】 ベクトル `x = [6 7 8]` の先頭2要素にアクセスする．</font>"
   ]
  },
  {
   "cell_type": "markdown",
   "metadata": {
    "id": "Ey9tcKRHMbt3"
   },
   "source": [
    "```\n",
    "#--#--#--#--#--#--#--#--#--#--#--#--#--#--#--#--#--#--#--#\n",
    "print(x[0:2])\n",
    "#--#--#--#--#--#--#--#--#--#--#--#--#--#--#--#--#--#--#--#\n",
    "```"
   ]
  },
  {
   "cell_type": "code",
   "execution_count": null,
   "metadata": {
    "id": "o2x3el8mmlWM"
   },
   "outputs": [],
   "source": []
  },
  {
   "cell_type": "markdown",
   "metadata": {
    "id": "fUBc1YLIo5lR"
   },
   "source": [
    "```{note}\n",
    "`x[0:2]` と書いた時，インデックス 0 は含まれるが，インデックス 2 は含まれないことに注意しましょう．つまりこの書き方ではインデックスが 0 以上 1 以下の要素が抜き出されます．\n",
    "```"
   ]
  },
  {
   "cell_type": "markdown",
   "metadata": {
    "id": "ZMu-K8Ncn6Xc"
   },
   "source": [
    "要素の値を変更するには，指定要素に値を代入します．"
   ]
  },
  {
   "cell_type": "markdown",
   "metadata": {
    "id": "-EjqQmkYOr6X"
   },
   "source": [
    "<font color=\"blue\">【実習】 ベクトル `x = [6 7 8]` の3番目(index 2)の要素の値を20に変更する．</font>"
   ]
  },
  {
   "cell_type": "markdown",
   "metadata": {
    "id": "Lnz2Xd-4MccS"
   },
   "source": [
    "```\n",
    "#--#--#--#--#--#--#--#--#--#--#--#--#--#--#--#--#--#--#--#\n",
    "x[2] = 20\n",
    "print(x)\n",
    "#--#--#--#--#--#--#--#--#--#--#--#--#--#--#--#--#--#--#--#\n",
    "```"
   ]
  },
  {
   "cell_type": "code",
   "execution_count": null,
   "metadata": {
    "id": "ERS6nclcoEyo"
   },
   "outputs": [],
   "source": []
  },
  {
   "cell_type": "markdown",
   "metadata": {
    "id": "UpjhxI1NoTRm"
   },
   "source": [
    "スライスを使って複数要素に同時に値を代入することもできます．"
   ]
  },
  {
   "cell_type": "markdown",
   "metadata": {
    "id": "gpTuNSnvOz_h"
   },
   "source": [
    "<font color=\"blue\">【実習】 ベクトル `x = [6 7 20]` の先頭2要素の値を30, 31に変更する．</font>"
   ]
  },
  {
   "cell_type": "markdown",
   "metadata": {
    "id": "SQeRZv84Mc8U"
   },
   "source": [
    "```\n",
    "#--#--#--#--#--#--#--#--#--#--#--#--#--#--#--#--#--#--#--#\n",
    "x[0:2] = 30, 31\n",
    "print(x)\n",
    "#--#--#--#--#--#--#--#--#--#--#--#--#--#--#--#--#--#--#--#\n",
    "```"
   ]
  },
  {
   "cell_type": "code",
   "execution_count": null,
   "metadata": {
    "id": "h-S0MMfMoKHh"
   },
   "outputs": [],
   "source": []
  },
  {
   "cell_type": "markdown",
   "metadata": {
    "id": "YV6nIWUtuguR"
   },
   "source": [
    "### ベクトルのコピー"
   ]
  },
  {
   "cell_type": "markdown",
   "metadata": {
    "id": "x2Q3umukpcsA"
   },
   "source": [
    "ベクトル`x`をベクトル`y`にコピーする際は，`y = np.copy(x)` と書きます．\n",
    "決して `y = x` と書いてはいけません．"
   ]
  },
  {
   "cell_type": "markdown",
   "metadata": {
    "id": "CmCl69UqO7_v"
   },
   "source": [
    "<font color=\"blue\">【実習】 ベクトル `x = [6 7 8]` の値をベクトル `y` にコピーする．</font>"
   ]
  },
  {
   "cell_type": "markdown",
   "metadata": {
    "id": "_AudpdbGMdo4"
   },
   "source": [
    "```\n",
    "#--#--#--#--#--#--#--#--#--#--#--#--#--#--#--#--#--#--#--#\n",
    "import numpy as np\n",
    "\n",
    "x = np.array([6, 7, 8])\n",
    "#y = x # Wrong\n",
    "y = np.copy(x)\n",
    "x[1] = 100\n",
    "print(y)\n",
    "#--#--#--#--#--#--#--#--#--#--#--#--#--#--#--#--#--#--#--#\n",
    "```"
   ]
  },
  {
   "cell_type": "code",
   "execution_count": null,
   "metadata": {
    "id": "3Rv3My_-p4eS"
   },
   "outputs": [],
   "source": []
  },
  {
   "cell_type": "markdown",
   "metadata": {
    "id": "0EfPfpytoJly"
   },
   "source": [
    "```{note}\n",
    "`y = x` と書いてしまうと，変数`y`と変数`x`が同じオブジェクトIDを持つことになり，`y`は`x`の別名を表すことになってしまいます．つまり，`x`の値を変更すると勝手に`y`の値も変わってしまいします．リストでは，`y = x[:]`という書き方でコピーができましたが，NumPy の ndarray ではできません（これも`y`が`x`の別名になってしまう）ので注意しましょう．\n",
    "```"
   ]
  },
  {
   "cell_type": "markdown",
   "metadata": {
    "id": "gw6uq7w9uWy8"
   },
   "source": [
    "## 行列の基本操作\n"
   ]
  }
 ],
 "metadata": {
  "colab": {
   "provenance": [],
   "toc_visible": true
  },
  "kernelspec": {
   "display_name": "Python 3",
   "name": "python3"
  },
  "language_info": {
   "name": "python"
  }
 },
 "nbformat": 4,
 "nbformat_minor": 0
}