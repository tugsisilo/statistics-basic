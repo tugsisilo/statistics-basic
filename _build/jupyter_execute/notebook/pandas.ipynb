{
 "cells": [
  {
   "cell_type": "markdown",
   "metadata": {
    "id": "3lUiKwANna6h"
   },
   "source": [
    "# 多変量データ解析"
   ]
  },
  {
   "cell_type": "markdown",
   "metadata": {
    "id": "x4PcqowXsS6w"
   },
   "source": [
    "## はじめに"
   ]
  },
  {
   "cell_type": "markdown",
   "metadata": {
    "id": "o21klyTwbPn8"
   },
   "source": [
    "### 開始前に行うこと（重要）"
   ]
  },
  {
   "cell_type": "markdown",
   "metadata": {
    "id": "uxGAUVjHbb4E"
   },
   "source": [
    "まず，Chrome 等のブラウザを利用して，本教材の URL にアクセスし，画面の指示に従い Google アカウントにログインしてください．その後，ブラウザ表示画面左上の「ファイル」をクリックし，さらにポップアップで出てくる項目から「ドライブにコピーを保存」をクリックしてください．これにより，本教材のコピーが自分のGoogleドライブに保存され，自分で書いたプログラムを実行できるようになります．\n",
    "\n",
    "また，多くのセルが非表示になっていると思われるため，同じくブラウザ表示画面上の「表示」をクリックし，さらにその項目から「セクションを展開」をクリックし，非表示のセルを表示させてください．"
   ]
  },
  {
   "cell_type": "markdown",
   "metadata": {
    "id": "w0Zh3zrKwm-N"
   },
   "source": [
    "```{hint}\n",
    "各ページの上部にロケットのアイコン <i class=\"fa fa-rocket\" aria-hidden=\"true\"></i> があるのでこれをクリックして各ページのファイルを Google Colaboratory 上で開いて利用してください．\n",
    "```"
   ]
  },
  {
   "cell_type": "markdown",
   "metadata": {
    "id": "F0-ckFxAiT5t"
   },
   "source": [
    "### 到達目標"
   ]
  },
  {
   "cell_type": "markdown",
   "metadata": {
    "id": "7nbMI0eOibob"
   },
   "source": [
    "pandas を利用する方法を身に着けることを目標とします．\n"
   ]
  },
  {
   "cell_type": "markdown",
   "metadata": {
    "id": "o_kFcAaQt7V9"
   },
   "source": [
    "### pandas とは"
   ]
  },
  {
   "cell_type": "markdown",
   "metadata": {
    "id": "6xbi2Q8bIQkN"
   },
   "source": [
    "pandas は Python からデータを簡単に扱うことができるようになるライブラリです．R というプログラミング言語かつ環境のデータフレームというものと類似しています．特に，行列形式に成型されたデータの扱いが得意です．"
   ]
  },
  {
   "cell_type": "markdown",
   "metadata": {
    "id": "Ob1MHdrxL3CB"
   },
   "source": [
    "### pandas のインポート"
   ]
  },
  {
   "cell_type": "markdown",
   "metadata": {
    "id": "lLVWXcwCL9Hl"
   },
   "source": [
    "pandas は以下のようにインポートします．pandas には pd という略称を与えて利用するのが普通です．その都度 `pandas` とタイピングするのが面倒だからです．"
   ]
  },
  {
   "cell_type": "code",
   "execution_count": 1,
   "metadata": {
    "id": "tUm59f0LM55C"
   },
   "outputs": [],
   "source": [
    "import pandas as pd"
   ]
  },
  {
   "cell_type": "markdown",
   "metadata": {
    "id": "MmYtPW2nTG8A"
   },
   "source": [
    "一緒に利用する NumPy もインポートしておきましょう．"
   ]
  },
  {
   "cell_type": "code",
   "execution_count": null,
   "metadata": {
    "id": "Tjk2V4HrTGS6"
   },
   "outputs": [],
   "source": [
    "import numpy as np"
   ]
  },
  {
   "cell_type": "markdown",
   "metadata": {
    "id": "0-UwB6B76pxR"
   },
   "source": [
    "### 学習の進め方"
   ]
  },
  {
   "cell_type": "markdown",
   "metadata": {
    "id": "l_NBj_XO34gA"
   },
   "source": [
    "上から順に読み進み，<font color=\"blue\">【実習】</font>と書いてある箇所でコードを書いて実行してください．基本的に入力するコードの前に見本のコードが書かれており，見本と同じコードを書けば正しく動作するようになっています（見本コードの上下に入っている区切り線は入力する必要ありません）．理解を深めるには，見本とは異なるコードを書いて試してみることも役立つと思います．\n",
    "なお， Colab では，コードが書かれている領域をコードセル，説明文等が書かれている領域をテキストセルといいます．"
   ]
  },
  {
   "cell_type": "markdown",
   "metadata": {
    "id": "pFwTnt6gxmHe"
   },
   "source": [
    "## pandas の基本操作"
   ]
  },
  {
   "cell_type": "markdown",
   "metadata": {
    "id": "IUzee88kzADa"
   },
   "source": [
    "### 整然データ"
   ]
  },
  {
   "cell_type": "markdown",
   "metadata": {
    "id": "LAPCYDykyCEs"
   },
   "source": [
    "* 1つのサンプルが複数の変数を持つ時の統計を扱う\n",
    "* 以下のような形式のデータを整然データ（tidy data）と呼ぶ．\n",
    "    * 1つの行は1つのサンプルを表す\n",
    "    * 1つの列は1つの変数を表す\n",
    "* 整然データの例（ある高校の生徒数）\n",
    "\n",
    "| 学年     | 学科       | 生徒数        |\n",
    "|-------------|--------------|--------------------|\n",
    "| 1年       | 普通科   | 121              |\n",
    "| 1年       | 理数科   | 40                |\n",
    "| 2年       | 普通科   | 119             |\n",
    "| 2年       | 理数科   | 39                |\n",
    "| 3年       | 普通科   | 120              |\n",
    "| 3年       | 理数科   | 41                |\n",
    "\n",
    "* 整然データでない例\n",
    "\n",
    "| 生徒数  | 普通科   | 理数科      |\n",
    "|--------------|--------------|-----------------|\n",
    "| **1年** | 121        | 40              |\n",
    "| **2年** | 119        | 39              |\n",
    "| **3年** | 120        | 41              |\n",
    "\n",
    "\n",
    "* データが整然データの形式になっていると解析がしやすくなる\n",
    "* 整然データの形式になっていないデータは，まず整然データの形式に変換してから解析する\n",
    "* 整然データ形式でないデータ形式で保存されるデータを雑然データ（messy data）と呼ぶ\n"
   ]
  },
  {
   "cell_type": "markdown",
   "metadata": {
    "id": "cHR8Ii5Y3bD3"
   },
   "source": [
    "### 多変量データ管理"
   ]
  },
  {
   "cell_type": "markdown",
   "metadata": {
    "id": "IRGvy2WFk0DW"
   },
   "source": [
    "* 整然データを扱う際はpandasパッケージを使うのが便利\n",
    "    * Dataframeと呼ばれるデータ構造に解析したいデータを読み込んで使用する\n",
    "    * [pandas.Dataframe](https://pandas.pydata.org/pandas-docs/version/0.23.4/generated/pandas.DataFrame.html)\n",
    "    * pandasでは2次元データはDataframe，1次元データはSeriesというデータ構造を使用する"
   ]
  },
  {
   "cell_type": "markdown",
   "metadata": {
    "id": "TVA9X2FiKcQe"
   },
   "source": [
    "* 日本の5都市の2018年1月と8月の気象データを解析してみる\n",
    "    * 気象庁 | [過去の気象データ](https://www.data.jma.go.jp/gmd/risk/obsdl/)\n",
    "\n",
    "| 都市名 | 月 | 日照時間(時間)  | 降水量(mm) | 日最低気温0℃未満日数(日) | 日最高気温30℃以上日数(日) |  最高気温(℃) | 最低気温(℃) |\n",
    "|-------------|-----|---------------------------|----------------------|-------------------------------------------------|-------------------------------------------------|-----------------------|-----------------------|\n",
    "| 八戸      | 1月     | 141.3 |   14.0 | 28 |   0 |   9.3 |  -9.6 |\n",
    "| 八戸      | 8月     | 146.6 | 239.5 |   0 |   6 | 34.0 | 13.0 |\n",
    "| 仙台      | 1月     | 158.4 |   50.0 | 26 |   0 | 12.2 |  -6.7 |\n",
    "| 仙台      | 8月     | 161.8 | 272.5 |   0 | 14 | 37.3 | 15.7 |\n",
    "| 東京      | 1月     | 206.1 | 48.5   | 13 |   0 | 16.0 |  -4.0 |\n",
    "| 東京      | 8月     | 217.4 | 86.5   |   0 | 25 | 37.3 | 18.3 |\n",
    "| 大阪      | 1月     | 172.7 | 51.5   |   8 |   0 | 14.9 |  -2.5 |\n",
    "| 大阪      | 8月     | 260.7 | 41.5   |   0 | 31 | 37.6 | 19.9 |\n",
    "| 那覇      | 1月     |   74.9 | 150.5 |   0 |   0 | 24.1 |   9.3 |\n",
    "| 那覇      | 8月     | 203.4 | 310    |   0 | 27 | 32.4 | 24.2 |\n",
    "\n"
   ]
  },
  {
   "cell_type": "markdown",
   "metadata": {
    "id": "QbX7QjzjksVy"
   },
   "source": [
    "<font color=\"blue\">【実習】5都市の気象データをデータフレームに格納する（ソースをコピペして良い）．</font>\n"
   ]
  },
  {
   "cell_type": "markdown",
   "metadata": {
    "id": "tMo5ZIgsUjBk"
   },
   "source": [
    "```{hint}\n",
    "列ごとにデータを用意し最後に結合します．\n",
    "```"
   ]
  },
  {
   "cell_type": "markdown",
   "metadata": {
    "id": "hk_egAiJPWU_"
   },
   "source": [
    "```\n",
    "#--#--#--#--#--#--#--#--#--#--#--#--#--#--#--#--#--#--#--#\n",
    "name = [\"八戸\", \"八戸\", \"仙台\", \"仙台\", \"東京\", \"東京\", \"大阪\", \"大阪\", \"那覇\", \"那覇\"]\n",
    "month = [\"1月\", \"8月\", \"1月\", \"8月\", \"1月\", \"8月\", \"1月\", \"8月\", \"1月\", \"8月\"]\n",
    "sunshine = [141.3, 146.6, 158.4, 161.8, 206.1, 217.4, 172.7, 260.7, 74.9, 203.4]\n",
    "rainfall = [14.0, 239.5, 50.0, 272.5, 48.5, 86.5, 51.5, 41.5, 150.5, 310]\n",
    "under0 = [28, 0, 26, 0, 13, 0, 8, 0, 0, 0]\n",
    "over30 = [0, 6, 0, 14, 0, 25, 0, 31, 0, 27]\n",
    "max_temp = [9.3, 34.0, 12.2, 37.3, 16.0, 37.3, 14.9, 37.6, 24.1, 32.4]\n",
    "min_temp = [-9.6, 13.0, -6.7, 15.7, -4.0, 18.3, -2.5, 19.9, 9.3, 24.2]\n",
    "df = pd.DataFrame(\n",
    "    {\"name\" : name, \"month\" : month, \"sunshine\" : sunshine, \"rainfall\" : rainfall,\n",
    "     \"under0\" : under0, \"over30\" : over30, \"max_temp\" : max_temp, \"min_temp\" : min_temp})\n",
    "df\n",
    "#--#--#--#--#--#--#--#--#--#--#--#--#--#--#--#--#--#--#--#\n",
    "```"
   ]
  },
  {
   "cell_type": "code",
   "execution_count": null,
   "metadata": {
    "id": "-SM9zMtCybcX"
   },
   "outputs": [],
   "source": []
  },
  {
   "cell_type": "markdown",
   "metadata": {
    "id": "LdbjwrJLV0x7"
   },
   "source": [
    "<font color=\"blue\">【実習】気象データの先頭だけ表示する．</font>"
   ]
  },
  {
   "cell_type": "markdown",
   "metadata": {
    "id": "_QY8rZMLYpHe"
   },
   "source": [
    "```\n",
    "#--#--#--#--#--#--#--#--#--#--#--#--#--#--#--#--#--#--#--#\n",
    "df.head()\n",
    "#--#--#--#--#--#--#--#--#--#--#--#--#--#--#--#--#--#--#--#\n",
    "```"
   ]
  },
  {
   "cell_type": "code",
   "execution_count": null,
   "metadata": {
    "id": "_k_y-3IAXxq3"
   },
   "outputs": [],
   "source": []
  },
  {
   "cell_type": "markdown",
   "metadata": {
    "id": "vf7PC7GnYBlf"
   },
   "source": [
    "<font color=\"blue\">【実習】気象データの先頭3行だけ表示する．</font>"
   ]
  },
  {
   "cell_type": "markdown",
   "metadata": {
    "id": "1HiH0fLjYqJ_"
   },
   "source": [
    "```\n",
    "#--#--#--#--#--#--#--#--#--#--#--#--#--#--#--#--#--#--#--#\n",
    "df.head(3)\n",
    "#--#--#--#--#--#--#--#--#--#--#--#--#--#--#--#--#--#--#--#\n",
    "```"
   ]
  },
  {
   "cell_type": "code",
   "execution_count": null,
   "metadata": {
    "id": "hOBB0_lVYDhX"
   },
   "outputs": [],
   "source": []
  },
  {
   "cell_type": "markdown",
   "metadata": {
    "id": "pA0_m-c6YHdA"
   },
   "source": [
    "<font color=\"blue\">【実習】気象データの末尾だけ表示する．</font>"
   ]
  },
  {
   "cell_type": "markdown",
   "metadata": {
    "id": "W7oaqroJYq9F"
   },
   "source": [
    "```\n",
    "#--#--#--#--#--#--#--#--#--#--#--#--#--#--#--#--#--#--#--#\n",
    "df.tail()\n",
    "#--#--#--#--#--#--#--#--#--#--#--#--#--#--#--#--#--#--#--#\n",
    "```"
   ]
  },
  {
   "cell_type": "code",
   "execution_count": null,
   "metadata": {
    "id": "LvwkcmEMYJf4"
   },
   "outputs": [],
   "source": []
  },
  {
   "cell_type": "markdown",
   "metadata": {
    "id": "Bhk0-C8-5QZo"
   },
   "source": [
    "<font color=\"blue\">【実習】データフレームの概要を確認する．</font>\n"
   ]
  },
  {
   "cell_type": "markdown",
   "metadata": {
    "id": "hpihjYMhU40U"
   },
   "source": [
    "```{note}\n",
    "行数，列数，各列の型，欠損値の数がわかります．\n",
    "```"
   ]
  },
  {
   "cell_type": "markdown",
   "metadata": {
    "id": "taLh4V_UYsNB"
   },
   "source": [
    "```\n",
    "#--#--#--#--#--#--#--#--#--#--#--#--#--#--#--#--#--#--#--#\n",
    "df.info()\n",
    "#--#--#--#--#--#--#--#--#--#--#--#--#--#--#--#--#--#--#--#\n",
    "```"
   ]
  },
  {
   "cell_type": "code",
   "execution_count": null,
   "metadata": {
    "id": "1mT6j8MO5XjO"
   },
   "outputs": [],
   "source": []
  },
  {
   "cell_type": "markdown",
   "metadata": {
    "id": "CYHYe-O6dO0A"
   },
   "source": [
    "### データの抽出処理"
   ]
  },
  {
   "cell_type": "markdown",
   "metadata": {
    "id": "XguWye67Gnnf"
   },
   "source": [
    "* 詳細は[pandasドキュメント](https://pandas.pydata.org/pandas-docs/version/0.23.4/indexing.html#indexing)参照\n",
    "* 特定の列を取り出す際は`df[列ラベル]`とする"
   ]
  },
  {
   "cell_type": "markdown",
   "metadata": {
    "id": "XHxMw1EMD0G8"
   },
   "source": [
    "<font color=\"blue\">【実習】気象データから最高気温の列を取り出す．</font>\n"
   ]
  },
  {
   "cell_type": "markdown",
   "metadata": {
    "id": "J7xUfWK9VBdM"
   },
   "source": [
    "```{note}\n",
    "この方法で取り出すとpandasのSeriesデータ（1次元用のデータ構造）として取り出されます．\n",
    "```"
   ]
  },
  {
   "cell_type": "markdown",
   "metadata": {
    "id": "CEfgnP_rYtZ7"
   },
   "source": [
    "```\n",
    "#--#--#--#--#--#--#--#--#--#--#--#--#--#--#--#--#--#--#--#\n",
    "df[\"max_temp\"]\n",
    "#--#--#--#--#--#--#--#--#--#--#--#--#--#--#--#--#--#--#--#\n",
    "```\n"
   ]
  },
  {
   "cell_type": "code",
   "execution_count": null,
   "metadata": {
    "id": "bw63nUZc87Ga"
   },
   "outputs": [],
   "source": []
  },
  {
   "cell_type": "markdown",
   "metadata": {
    "id": "UHRRHmka9ejx"
   },
   "source": [
    "<font color=\"blue\">【実習】気象データから最高気温の列をNumPyアレイ（ndarray）として取り出す．</font>"
   ]
  },
  {
   "cell_type": "markdown",
   "metadata": {
    "id": "PuZ08hYzYu29"
   },
   "source": [
    "```\n",
    "#--#--#--#--#--#--#--#--#--#--#--#--#--#--#--#--#--#--#--#\n",
    "print(type(df[\"max_temp\"].values))  # 動作確認用\n",
    "df[\"max_temp\"].values\n",
    "#--#--#--#--#--#--#--#--#--#--#--#--#--#--#--#--#--#--#--#\n",
    "```"
   ]
  },
  {
   "cell_type": "code",
   "execution_count": null,
   "metadata": {
    "id": "Fv7spXxm9kqv"
   },
   "outputs": [],
   "source": []
  },
  {
   "cell_type": "markdown",
   "metadata": {
    "id": "FNow7HxXG8tn"
   },
   "source": [
    "```{hint}\n",
    "複数の列をデータフレームとして取り出す際は`df[列ラベルのリスト]`とします．\n",
    "```"
   ]
  },
  {
   "cell_type": "markdown",
   "metadata": {
    "id": "tmyYGveH2B-X"
   },
   "source": [
    "<font color=\"blue\">【実習】気象データから最高気温と最低気温の列を取り出す．</font>"
   ]
  },
  {
   "cell_type": "markdown",
   "metadata": {
    "id": "Vg9dk_SiYxG6"
   },
   "source": [
    "```\n",
    "#--#--#--#--#--#--#--#--#--#--#--#--#--#--#--#--#--#--#--#\n",
    "df[[\"max_temp\", \"min_temp\"]]\n",
    "#--#--#--#--#--#--#--#--#--#--#--#--#--#--#--#--#--#--#--#\n",
    "```\n"
   ]
  },
  {
   "cell_type": "code",
   "execution_count": null,
   "metadata": {
    "id": "d2a9A4UfeNPs"
   },
   "outputs": [],
   "source": []
  },
  {
   "cell_type": "markdown",
   "metadata": {
    "id": "dwEkHUiFE0kb"
   },
   "source": [
    "```{note}\n",
    "Dataframeから行と列を指定してデータを取り出すには`df.loc[行ラベル,列ラベル]`とします．ラベルの代わりにラベルのリストを使っても良いです．スライスも使えますが通常のスライスとは仕様が異なるので注意（「開始ラベル : 最終ラベル」と指定すると開始ラベルから最終ラベルまで（終了ラベル含む）が選択される）．\n",
    "```"
   ]
  },
  {
   "cell_type": "markdown",
   "metadata": {
    "id": "ZEO4ekPGJ9w9"
   },
   "source": [
    "<font color=\"blue\">【実習】気象データから行ラベル1，列ラベルnameの要素を取り出す．</font>"
   ]
  },
  {
   "cell_type": "markdown",
   "metadata": {
    "id": "dTvSMKncYyPO"
   },
   "source": [
    "```\n",
    "#--#--#--#--#--#--#--#--#--#--#--#--#--#--#--#--#--#--#--#\n",
    "df.loc[1,\"name\"]\n",
    "#--#--#--#--#--#--#--#--#--#--#--#--#--#--#--#--#--#--#--#\n",
    "```"
   ]
  },
  {
   "cell_type": "code",
   "execution_count": null,
   "metadata": {
    "id": "anOsRnRNKNFm"
   },
   "outputs": [],
   "source": []
  },
  {
   "cell_type": "markdown",
   "metadata": {
    "id": "F4Hitkq6KY7c"
   },
   "source": [
    "```{hint}\n",
    "行全体を取り出すには列の指定を「:」にします．\n",
    "```"
   ]
  },
  {
   "cell_type": "markdown",
   "metadata": {
    "id": "5Nkt5ISTK7Ud"
   },
   "source": [
    "<font color=\"blue\">【実習】行ラベルが1の行を取り出す．</font>"
   ]
  },
  {
   "cell_type": "markdown",
   "metadata": {
    "id": "l0WKZWHfYzl6"
   },
   "source": [
    "```\n",
    "#--#--#--#--#--#--#--#--#--#--#--#--#--#--#--#--#--#--#--#\n",
    "df.loc[1,:]\n",
    "#--#--#--#--#--#--#--#--#--#--#--#--#--#--#--#--#--#--#--#\n",
    "```"
   ]
  },
  {
   "cell_type": "code",
   "execution_count": null,
   "metadata": {
    "id": "IAQyKiu4LGh8"
   },
   "outputs": [],
   "source": []
  },
  {
   "cell_type": "markdown",
   "metadata": {
    "id": "L1u--vVSLtwU"
   },
   "source": [
    "<font color=\"blue\">【実習】行ラベルが1と3の行を取り出す．</font>"
   ]
  },
  {
   "cell_type": "markdown",
   "metadata": {
    "id": "uFQew4PuY0fw"
   },
   "source": [
    "```\n",
    "#--#--#--#--#--#--#--#--#--#--#--#--#--#--#--#--#--#--#--#\n",
    "df.loc[[1,3],:]\n",
    "#--#--#--#--#--#--#--#--#--#--#--#--#--#--#--#--#--#--#--#\n",
    "```"
   ]
  },
  {
   "cell_type": "code",
   "execution_count": null,
   "metadata": {
    "id": "ms2WiNNELzyF"
   },
   "outputs": [],
   "source": []
  },
  {
   "cell_type": "markdown",
   "metadata": {
    "id": "5u6Ih7pLMXiv"
   },
   "source": [
    "```{note}\n",
    "指定条件を満たす行のみを取り出すことができます．正確には，Dataframeに論理値からなるリストを渡すことで値がTrueの行のみを取り出すことができます．\n",
    "```"
   ]
  },
  {
   "cell_type": "markdown",
   "metadata": {
    "id": "HF4gHqjBMgmB"
   },
   "source": [
    "<font color=\"blue\">【実習】nameが八戸の行のみを取り出す．</font>"
   ]
  },
  {
   "cell_type": "markdown",
   "metadata": {
    "id": "t_0yGc0wY1eG"
   },
   "source": [
    "```\n",
    "#--#--#--#--#--#--#--#--#--#--#--#--#--#--#--#--#--#--#--#\n",
    "print(df[\"name\"] == \"八戸\") # 動作確認用\n",
    "df[df[\"name\"] == \"八戸\"]\n",
    "#--#--#--#--#--#--#--#--#--#--#--#--#--#--#--#--#--#--#--#\n",
    "```"
   ]
  },
  {
   "cell_type": "code",
   "execution_count": null,
   "metadata": {
    "id": "6XvmZ0_W-Dmi"
   },
   "outputs": [],
   "source": []
  },
  {
   "cell_type": "markdown",
   "metadata": {
    "id": "Q23-iGbuNl0a"
   },
   "source": [
    "<font color=\"blue\">【実習】最低気温がマイナスになっている行のみを取り出す．</font>"
   ]
  },
  {
   "cell_type": "markdown",
   "metadata": {
    "id": "WNATe6BoY2Xi"
   },
   "source": [
    "```\n",
    "#--#--#--#--#--#--#--#--#--#--#--#--#--#--#--#--#--#--#--#\n",
    "df[df[\"min_temp\"] < 0]\n",
    "#--#--#--#--#--#--#--#--#--#--#--#--#--#--#--#--#--#--#--#\n",
    "```\n"
   ]
  },
  {
   "cell_type": "code",
   "execution_count": null,
   "metadata": {
    "id": "_qB9XX-TA44e"
   },
   "outputs": [],
   "source": []
  },
  {
   "cell_type": "markdown",
   "metadata": {
    "id": "QUOV38ECnwVd"
   },
   "source": [
    "### 各列に対する統計量の計算"
   ]
  },
  {
   "cell_type": "markdown",
   "metadata": {
    "id": "7He-iz_DaVc4"
   },
   "source": [
    "pandas でも NumPy と同様の統計量計算関数が用意されています．標準の関数名を使うと，デフォルトで欠損値が無視されるので注意が必要です．"
   ]
  },
  {
   "cell_type": "markdown",
   "metadata": {
    "id": "XmYe5J9Fq4j2"
   },
   "source": [
    "<font color=\"blue\">【実習】データフレームの各列について平均をとる．</font>\n"
   ]
  },
  {
   "cell_type": "markdown",
   "metadata": {
    "id": "43R9ms2vV_fb"
   },
   "source": [
    "```{hint}\n",
    "NumPyと同名の関数`mean`が使えます．文字データ等の平均は算出されません．\n",
    "```"
   ]
  },
  {
   "cell_type": "markdown",
   "metadata": {
    "id": "B-D63sT3PWYf"
   },
   "source": [
    "```\n",
    "#--#--#--#--#--#--#--#--#--#--#--#--#--#--#--#--#--#--#--#\n",
    "df.mean()\n",
    "#--#--#--#--#--#--#--#--#--#--#--#--#--#--#--#--#--#--#--#\n",
    "```"
   ]
  },
  {
   "cell_type": "code",
   "execution_count": null,
   "metadata": {
    "id": "D4GsKx2FqA3u"
   },
   "outputs": [],
   "source": []
  },
  {
   "cell_type": "markdown",
   "metadata": {
    "id": "gO5sXHP0uzPt"
   },
   "source": [
    "<font color=\"blue\">【実習】データフレームの各列について各種統計量を計算する．</font>"
   ]
  },
  {
   "cell_type": "markdown",
   "metadata": {
    "id": "FU4AJEcFPWfP"
   },
   "source": [
    "```\n",
    "#--#--#--#--#--#--#--#--#--#--#--#--#--#--#--#--#--#--#--#\n",
    "df.describe()\n",
    "#--#--#--#--#--#--#--#--#--#--#--#--#--#--#--#--#--#--#--#\n",
    "```"
   ]
  },
  {
   "cell_type": "code",
   "execution_count": null,
   "metadata": {
    "id": "DcTmUgtVuuB-"
   },
   "outputs": [],
   "source": []
  },
  {
   "cell_type": "markdown",
   "metadata": {
    "id": "BflOLFhRlnV8"
   },
   "source": [
    "### グループ別の統計量"
   ]
  },
  {
   "cell_type": "markdown",
   "metadata": {
    "id": "gRQKeZeY4HaM"
   },
   "source": [
    "上記において，1月と8月は分けて解析したい場合があります．そのようなとき，特定条件（今回は月）でデータをグループ化することができます．"
   ]
  },
  {
   "cell_type": "markdown",
   "metadata": {
    "id": "QNJoqgVT6xqm"
   },
   "source": [
    "<font color=\"blue\">【実習】気象データを月ごとにグループ化し，グループ一覧を表示する．</font>"
   ]
  },
  {
   "cell_type": "markdown",
   "metadata": {
    "id": "Myhyg8Pq7DQH"
   },
   "source": [
    "```\n",
    "#--#--#--#--#--#--#--#--#--#--#--#--#--#--#--#--#--#--#--#\n",
    "g = df.groupby(\"month\")\n",
    "g.groups\n",
    "#--#--#--#--#--#--#--#--#--#--#--#--#--#--#--#--#--#--#--#\n",
    "```"
   ]
  },
  {
   "cell_type": "code",
   "execution_count": null,
   "metadata": {
    "id": "iE24M65m7Mcj"
   },
   "outputs": [],
   "source": []
  },
  {
   "cell_type": "markdown",
   "metadata": {
    "id": "2oh51_lQ8JWX"
   },
   "source": [
    "<font color=\"blue\">【実習】グループ数をチェックする．</font>"
   ]
  },
  {
   "cell_type": "markdown",
   "metadata": {
    "id": "jcEO3EvE8QHl"
   },
   "source": [
    "```\n",
    "#--#--#--#--#--#--#--#--#--#--#--#--#--#--#--#--#--#--#--#\n",
    "len(g.groups)\n",
    "#--#--#--#--#--#--#--#--#--#--#--#--#--#--#--#--#--#--#--#\n",
    "```"
   ]
  },
  {
   "cell_type": "code",
   "execution_count": null,
   "metadata": {
    "id": "jGRCPOVY8T9S"
   },
   "outputs": [],
   "source": []
  },
  {
   "cell_type": "markdown",
   "metadata": {
    "id": "kCThN3RN7gzw"
   },
   "source": [
    "<font color=\"blue\">【実習】グループ化された気象データから1月のデータのみを取り出す．</font>"
   ]
  },
  {
   "cell_type": "markdown",
   "metadata": {
    "id": "BkqvViZi708Q"
   },
   "source": [
    "```\n",
    "#--#--#--#--#--#--#--#--#--#--#--#--#--#--#--#--#--#--#--#\n",
    "g.get_group(\"1月\")\n",
    "#--#--#--#--#--#--#--#--#--#--#--#--#--#--#--#--#--#--#--#\n",
    "```"
   ]
  },
  {
   "cell_type": "code",
   "execution_count": null,
   "metadata": {
    "id": "CGlmbnI64mvJ"
   },
   "outputs": [],
   "source": []
  },
  {
   "cell_type": "markdown",
   "metadata": {
    "id": "Cvawpixo9D8c"
   },
   "source": [
    "<font color=\"blue\">【実習】月ごとに各列の平均値を求める．</font>"
   ]
  },
  {
   "cell_type": "markdown",
   "metadata": {
    "id": "QSwfmRB39K5A"
   },
   "source": [
    "```\n",
    "#--#--#--#--#--#--#--#--#--#--#--#--#--#--#--#--#--#--#--#\n",
    "g.mean()\n",
    "#--#--#--#--#--#--#--#--#--#--#--#--#--#--#--#--#--#--#--#\n",
    "```"
   ]
  },
  {
   "cell_type": "code",
   "execution_count": null,
   "metadata": {
    "id": "pdUa1dmzmT6K"
   },
   "outputs": [],
   "source": []
  },
  {
   "cell_type": "markdown",
   "metadata": {
    "id": "NYKXVDLA9c3c"
   },
   "source": [
    "<font color=\"blue\">【実習】月ごとに各列の各種統計量を計算する．</font>"
   ]
  },
  {
   "cell_type": "markdown",
   "metadata": {
    "id": "kJ6_DaG5PWia"
   },
   "source": [
    "```\n",
    "#--#--#--#--#--#--#--#--#--#--#--#--#--#--#--#--#--#--#--#\n",
    "g.describe()\n",
    "#--#--#--#--#--#--#--#--#--#--#--#--#--#--#--#--#--#--#--#\n",
    "```"
   ]
  },
  {
   "cell_type": "code",
   "execution_count": null,
   "metadata": {
    "id": "RRNmAyg1xBTg"
   },
   "outputs": [],
   "source": []
  },
  {
   "cell_type": "markdown",
   "metadata": {
    "id": "nv02nhc72_5o"
   },
   "source": [
    "### 共分散と分散共分散行列"
   ]
  },
  {
   "cell_type": "markdown",
   "metadata": {
    "id": "WsyTtYeADSUP"
   },
   "source": [
    "二つの変数の関係性をみるために使われる統計量で，ざっくりとは下記の値をとります．\n",
    " * 正の値：片方の値が大きくなるともう片方も大きくなる傾向\n",
    " * 負の値：片方の値が大きくなるともう片方は小さくなる傾向\n",
    " * 0: 変数同士に関係性が見られない\n",
    "\n",
    "分散と同様，値の大きさについては解釈しづらいです．\n",
    "    "
   ]
  },
  {
   "cell_type": "markdown",
   "metadata": {
    "id": "p-4tz5BlUgYG"
   },
   "source": [
    "変数$\\boldsymbol{x}=\\begin{bmatrix} x_1 \\\\ \\vdots \\\\ x_N \\end{bmatrix}$と変数$\\boldsymbol{y}=\\begin{bmatrix} y_1 \\\\ \\vdots \\\\ y_N \\end{bmatrix}$の共分散は下記の式で定義される\n",
    "* $\\mathrm{Cov}(\\boldsymbol{x}, \\boldsymbol{y}) = \\frac{1}{N}\\sum_{i=1}^N (x_i - \\mu_x)(y_i - \\mu_y)$\n",
    "    * $\\mathrm{Cov}(\\boldsymbol{x},\\boldsymbol{y})$: $\\boldsymbol{x}$と$\\boldsymbol{y}$の共分散\n",
    "    * $\\mu_x$: 変数$\\boldsymbol{x}$の平均値\n",
    "    * $\\mu_y$: 変数$\\boldsymbol{y}$の平均値"
   ]
  },
  {
   "cell_type": "markdown",
   "metadata": {
    "id": "vgsd118bjWOA"
   },
   "source": [
    "分散共分散行列：以下のように分散と共分散を一つの行列で表したもの\n",
    "* 以下，3種類のデータ$x,y,z$の分散共分散行列\n",
    "$$\\mathrm{Cov}=\\begin{bmatrix}\n",
    "\\sigma_x^2 & \\mathrm{Cov}(x,y) & \\mathrm{Cov}(x,z) \\\\\n",
    "\\mathrm{Cov}(x,y) & \\sigma_y^2 & \\mathrm{Cov}(y,z) \\\\\n",
    "\\mathrm{Cov}(x,z) & \\mathrm{Cov}(y,z) & \\sigma_z^2\\\\\n",
    "\\end{bmatrix}  $$\n",
    "* 記号\n",
    "    * $\\mathrm{Cov}$: 分散共分散行列\n",
    "    * $\\sigma_x^2$: 変数$x$の分散\n",
    "    * $\\mathrm{Cov}(x,y)$: 変数$x$と変数$y$の共分散"
   ]
  },
  {
   "cell_type": "markdown",
   "metadata": {
    "id": "ljvlKJoHEynx"
   },
   "source": [
    "<font color=\"blue\">【実習】共分散を図解する（コードをコピペして実行すること）．</font>"
   ]
  },
  {
   "cell_type": "markdown",
   "metadata": {
    "id": "dBSjb920PWsN"
   },
   "source": [
    "```\n",
    "#--#--#--#--#--#--#--#--#--#--#--#--#--#--#--#--#--#--#--#\n",
    "import numpy as np\n",
    "import matplotlib.pyplot as plt\n",
    "%matplotlib inline\n",
    "\n",
    "mean = np.array([0, 0]) # 平均を指定。\n",
    "cor = [-1, -0.8, 0, 0.8, 1]\n",
    "\n",
    "plt.figure(figsize=(16, 3))\n",
    "plt.axes().set_aspect('equal')\n",
    "for i in range(len(cor)):\n",
    "    cov = np.array([[1, cor[i]], [cor[i], 1]])\n",
    "    x, y = np.random.multivariate_normal(mean, cov, 2000).T\n",
    "    plt.subplot(1, 5, i+1)\n",
    "    plt.title(\"Negative\" if i == 0 else \"0\" if i == 2 else \"Positive\" if i == 4 else \"\")\n",
    "    plt.plot(x, y, 'x')\n",
    "    plt.axis(\"equal\")\n",
    "    plt.grid(which=\"major\")\n",
    "plt.show()\n",
    "#--#--#--#--#--#--#--#--#--#--#--#--#--#--#--#--#--#--#--#\n",
    "```"
   ]
  },
  {
   "cell_type": "code",
   "execution_count": null,
   "metadata": {
    "id": "Ysj6Mrum9HC2"
   },
   "outputs": [],
   "source": []
  },
  {
   "cell_type": "markdown",
   "metadata": {
    "id": "PF3g3XGpW9ZO"
   },
   "source": [
    "```{note}\n",
    "次の講義で紹介する matplotlib を先取りで使ってみました．\n",
    "```"
   ]
  },
  {
   "cell_type": "markdown",
   "metadata": {
    "id": "jYSmSMhoU2Vc"
   },
   "source": [
    "### 相関係数と相関行列"
   ]
  },
  {
   "cell_type": "markdown",
   "metadata": {
    "id": "ut4vX1IMU6XC"
   },
   "source": [
    "* 共分散を最大値1，最小値-1になるように標準化したもの\n",
    "    * 正の値：２つの変数に正の相関がある（最大値1）\n",
    "    * 負の値：２つの変数に負の相関がある（最小値-1）\n",
    "    * 0: 変数間に相関がない"
   ]
  },
  {
   "cell_type": "markdown",
   "metadata": {
    "id": "AkjCe6mWpzrR"
   },
   "source": [
    "* 変数$\\boldsymbol{x}=\\begin{bmatrix} x_1 \\\\ \\vdots \\\\ x_N \\end{bmatrix}$と変数$\\boldsymbol{y}=\\begin{bmatrix} y_1 \\\\ \\vdots \\\\ y_N \\end{bmatrix}$の相関係数は下記の式で定義される\n",
    "    * $\\rho_{\\boldsymbol{x}\\boldsymbol{y}} = \\frac{\\mathrm{Cov}(\\boldsymbol{x}, \\boldsymbol{y})}{\\sigma_x^2 \\sigma_y^2}$\n",
    "        * $\\rho_{\\boldsymbol{x}\\boldsymbol{y}}$: $\\boldsymbol{x}$と$\\boldsymbol{y}$の相関係数\n",
    "        * $\\mathrm{Cov}(\\boldsymbol{x},\\boldsymbol{y})$: $\\boldsymbol{x}$と$\\boldsymbol{y}$の共分散\n",
    "        * $\\sigma_x^2$: 変数$\\boldsymbol{x}$の分散\n",
    "        * $\\sigma_y^2$: 変数$\\boldsymbol{y}$の分散\n"
   ]
  },
  {
   "cell_type": "markdown",
   "metadata": {
    "id": "w3P6q0XEsLTS"
   },
   "source": [
    "* 他の定義もあるが上記が一般的（この定義はピアソンの積率相関係数と呼ばれる）"
   ]
  },
  {
   "cell_type": "markdown",
   "metadata": {
    "id": "-PvD2LUitmEX"
   },
   "source": [
    "* ２変数の間に何らかに関係性があったとしても，それが直線的な関係でない時は相関係数が0になってしまうことがあるので注意"
   ]
  },
  {
   "cell_type": "markdown",
   "metadata": {
    "id": "XRTh26nCrWAu"
   },
   "source": [
    "* 相関係数行列：以下のように複数変数の相関係数を一つの行列で表したもの\n",
    "    * 以下，3種類のデータ$\\boldsymbol{x},\\boldsymbol{y},\\boldsymbol{z}$の相関行列\n",
    "$$\\mathrm{C}=\\begin{bmatrix}\n",
    "1 & \\rho_{xy} & \\rho_{xz} \\\\\n",
    "\\rho_{xy} & 1 & \\rho_{yz} \\\\\n",
    "\\rho_{xz} & \\rho_{yz} & 1 \\\\\n",
    "\\end{bmatrix}  $$\n",
    "    * 記号\n",
    "        * $\\mathrm{C}$: 相関行列\n",
    "        * $\\rho_{xy}$: 変数$\\boldsymbol{x}$と変数$\\boldsymbol{y}$の相関係数"
   ]
  },
  {
   "cell_type": "markdown",
   "metadata": {
    "id": "UyZQStqyYLHU"
   },
   "source": [
    "<font color=\"blue\">【実習】相関係数を図解する（コードをコピペして実行すること）．</font>"
   ]
  },
  {
   "cell_type": "markdown",
   "metadata": {
    "id": "axmzXdYJPtCs"
   },
   "source": [
    "```\n",
    "#--#--#--#--#--#--#--#--#--#--#--#--#--#--#--#--#--#--#--#\n",
    "import numpy as np\n",
    "import matplotlib.pyplot as plt\n",
    "%matplotlib inline\n",
    "\n",
    "mean = np.array([0, 0])\n",
    "cor = [-2, -1.5, 0, 1.5, 2]\n",
    "\n",
    "plt.figure(figsize=(16, 3))\n",
    "plt.axes().set_aspect('equal')\n",
    "for i in range(len(cor)):\n",
    "    cov = np.array([[1, cor[i]], [cor[i], 4]])\n",
    "    x, y = np.random.multivariate_normal(mean, cov, 2000).T\n",
    "    plt.subplot(1, 5, i+1)\n",
    "    plt.title(\"Correlation coef.: \" + str(round(cor[i]/2, 2)))\n",
    "    plt.plot(x, y, 'x')\n",
    "    plt.axis(\"equal\")\n",
    "    plt.grid(which=\"major\")\n",
    "plt.show()\n",
    "#--#--#--#--#--#--#--#--#--#--#--#--#--#--#--#--#--#--#--#\n",
    "```"
   ]
  },
  {
   "cell_type": "code",
   "execution_count": null,
   "metadata": {
    "id": "0SzDIk-nKPo7"
   },
   "outputs": [],
   "source": []
  },
  {
   "cell_type": "markdown",
   "metadata": {
    "id": "l-OniHF2frHp"
   },
   "source": [
    "<font color=\"blue\">【実習】気象データの相関行列を計算する．</font>\n"
   ]
  },
  {
   "cell_type": "markdown",
   "metadata": {
    "id": "0fvy4U7yXMsP"
   },
   "source": [
    "```{hint}\n",
    "プログラム実行前にどの変数間の相関が強そうか予想してみましょう．\n",
    "```"
   ]
  },
  {
   "cell_type": "markdown",
   "metadata": {
    "id": "CyRNFeCePtGd"
   },
   "source": [
    "```\n",
    "#--#--#--#--#--#--#--#--#--#--#--#--#--#--#--#--#--#--#--#\n",
    "df.corr()\n",
    "#--#--#--#--#--#--#--#--#--#--#--#--#--#--#--#--#--#--#--#\n",
    "```"
   ]
  },
  {
   "cell_type": "code",
   "execution_count": null,
   "metadata": {
    "id": "W6_2FBGVhzEV"
   },
   "outputs": [],
   "source": []
  },
  {
   "cell_type": "markdown",
   "metadata": {
    "id": "sAksTXkZwC2i"
   },
   "source": [
    "<font color=\"blue\">【実習】最高気温と最低気温で散布図を書く．</font>\n"
   ]
  },
  {
   "cell_type": "markdown",
   "metadata": {
    "id": "j9kHp1_vZBYb"
   },
   "source": [
    "```\n",
    "#--#--#--#--#--#--#--#--#--#--#--#--#--#--#--#--#--#--#--#\n",
    "import matplotlib.pyplot as plt   # 実行済みなら不要\n",
    "%matplotlib inline\n",
    "\n",
    "plt.scatter(df[\"max_temp\"], df[\"min_temp\"])\n",
    "plt.xlabel(\"max temp\")\n",
    "plt.ylabel(\"min temp\")\n",
    "plt.show()\n",
    "#--#--#--#--#--#--#--#--#--#--#--#--#--#--#--#--#--#--#--#\n",
    "```\n"
   ]
  },
  {
   "cell_type": "code",
   "execution_count": null,
   "metadata": {
    "id": "uIzxkc0Jwdy3"
   },
   "outputs": [],
   "source": []
  },
  {
   "cell_type": "markdown",
   "metadata": {
    "id": "FjYttXgWXTzu"
   },
   "source": [
    "```{hint}\n",
    "相関が大きいことを確認しましょう．\n",
    "```"
   ]
  },
  {
   "cell_type": "markdown",
   "metadata": {
    "id": "rS8BeaxSyQ-D"
   },
   "source": [
    "<font color=\"blue\">【実習】日照時間と降水量で散布図を書く．</font>\n"
   ]
  },
  {
   "cell_type": "markdown",
   "metadata": {
    "id": "TDDw57aFZCP2"
   },
   "source": [
    "```\n",
    "#--#--#--#--#--#--#--#--#--#--#--#--#--#--#--#--#--#--#--#\n",
    "plt.scatter(df[\"sunshine\"], df[\"rainfall\"])\n",
    "plt.xlabel(\"sunshine\")\n",
    "plt.ylabel(\"rainfall\")\n",
    "plt.show()\n",
    "#--#--#--#--#--#--#--#--#--#--#--#--#--#--#--#--#--#--#--#\n",
    "```"
   ]
  },
  {
   "cell_type": "code",
   "execution_count": null,
   "metadata": {
    "id": "_Ja3sCGAydUh"
   },
   "outputs": [],
   "source": []
  },
  {
   "cell_type": "markdown",
   "metadata": {
    "id": "usMK45EfXbn_"
   },
   "source": [
    "```{hint}\n",
    "相関が小さいことを確認しましょう．\n",
    "```"
   ]
  },
  {
   "cell_type": "markdown",
   "metadata": {
    "id": "99EgDjqQvhYy"
   },
   "source": [
    "```{note}\n",
    "終わりです．\n",
    "```"
   ]
  }
 ],
 "metadata": {
  "colab": {
   "provenance": [],
   "toc_visible": true
  },
  "kernelspec": {
   "display_name": "Python 3",
   "name": "python3"
  },
  "language_info": {
   "name": "python"
  }
 },
 "nbformat": 4,
 "nbformat_minor": 0
}