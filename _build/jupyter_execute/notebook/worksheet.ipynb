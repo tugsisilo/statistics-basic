{
 "cells": [
  {
   "cell_type": "markdown",
   "metadata": {
    "id": "APgNHIzlKRFc"
   },
   "source": [
    "# 演習問題"
   ]
  }
 ],
 "metadata": {
  "colab": {
   "provenance": [],
   "toc_visible": true
  },
  "kernelspec": {
   "display_name": "Python 3",
   "name": "python3"
  },
  "language_info": {
   "name": "python"
  }
 },
 "nbformat": 4,
 "nbformat_minor": 0
}