{
 "cells": [
  {
   "cell_type": "markdown",
   "metadata": {
    "id": "APgNHIzlKRFc"
   },
   "source": [
    "# 演習問題"
   ]
  },
  {
   "cell_type": "markdown",
   "metadata": {
    "id": "x4PcqowXsS6w"
   },
   "source": [
    "## はじめに"
   ]
  },
  {
   "cell_type": "markdown",
   "metadata": {
    "id": "o21klyTwbPn8"
   },
   "source": [
    "### 開始前に行うこと（重要）"
   ]
  },
  {
   "cell_type": "markdown",
   "metadata": {
    "id": "uxGAUVjHbb4E"
   },
   "source": [
    "まず，Chrome 等のブラウザを利用して，本教材の URL にアクセスし，画面の指示に従い Google アカウントにログインしてください．その後，ブラウザ表示画面左上の「ファイル」をクリックし，さらにポップアップで出てくる項目から「ドライブにコピーを保存」をクリックしてください．これにより，本教材のコピーが自分のGoogleドライブに保存され，自分で書いたプログラムを実行できるようになります．\n",
    "\n",
    "また，多くのセルが非表示になっていると思われるため，同じくブラウザ表示画面上の「表示」をクリックし，さらにその項目から「セクションを展開」をクリックし，非表示のセルを表示させてください．"
   ]
  },
  {
   "cell_type": "markdown",
   "metadata": {
    "id": "w0Zh3zrKwm-N"
   },
   "source": [
    "```{hint}\n",
    "各ページの上部にロケットのアイコン <i class=\"fa fa-rocket\" aria-hidden=\"true\"></i> があるのでこれをクリックして各ページのファイルを Google Colaboratory 上で開いて利用してください．\n",
    "```"
   ]
  },
  {
   "cell_type": "markdown",
   "metadata": {
    "id": "Ob1MHdrxL3CB"
   },
   "source": [
    "### ライブラリのインポート"
   ]
  },
  {
   "cell_type": "markdown",
   "metadata": {
    "id": "lLVWXcwCL9Hl"
   },
   "source": [
    "利用するライブラリをまとめてインポートしておきましょう．"
   ]
  },
  {
   "cell_type": "code",
   "execution_count": null,
   "metadata": {
    "id": "Tjk2V4HrTGS6"
   },
   "outputs": [],
   "source": [
    "import numpy as np\n",
    "import pandas as pd\n",
    "import matplotlib.pyplot as plt\n",
    "%matplotlib inline\n",
    "import seaborn as sns\n",
    "sns.set()\n",
    "from sklearn.linear_model import LinearRegression"
   ]
  },
  {
   "cell_type": "markdown",
   "metadata": {
    "id": "So-GKOQWrcfY"
   },
   "source": [
    "### 例題と解答例"
   ]
  },
  {
   "cell_type": "markdown",
   "metadata": {
    "id": "c1utrl-Trngu"
   },
   "source": [
    "以下のような問題が出ますので，問題を解決するためのコードを生成してください．"
   ]
  },
  {
   "cell_type": "markdown",
   "metadata": {
    "id": "WHw4eM8HdHHM"
   },
   "source": [
    "5人の数学のテストの点数は72, 65, 60, 81, 78だった．この時，5人の平均点，標準偏差，中央値を求めよ．"
   ]
  },
  {
   "cell_type": "code",
   "execution_count": null,
   "metadata": {
    "id": "NoytLETzd4a9"
   },
   "outputs": [],
   "source": [
    "score_math = np.array([72, 65, 60, 81, 78])\n",
    "print(\"Average:\", np.mean(score_math))\n",
    "print(\"SD:\", np.std(score_math))\n",
    "print(\"Median:\", np.median(score_math))"
   ]
  },
  {
   "cell_type": "markdown",
   "metadata": {
    "id": "IyQlpVlgsBJP"
   },
   "source": [
    "## 問題"
   ]
  },
  {
   "cell_type": "markdown",
   "metadata": {
    "id": "i_gL2gD7xdnq"
   },
   "source": [
    "### 繰り返し処理"
   ]
  },
  {
   "cell_type": "markdown",
   "metadata": {
    "id": "xgRv2Z5Kxh2z"
   },
   "source": [
    "1から100までの整数を1行に1個の値が存在するように出力してください．"
   ]
  },
  {
   "cell_type": "code",
   "execution_count": null,
   "metadata": {
    "id": "Zek_qFRNxsjI"
   },
   "outputs": [],
   "source": []
  },
  {
   "cell_type": "markdown",
   "metadata": {
    "id": "Okh2k5j0wY_p"
   },
   "source": [
    "### ライブラリの利用"
   ]
  },
  {
   "cell_type": "markdown",
   "metadata": {
    "id": "qrzwuJyLwdd6"
   },
   "source": [
    "$log_2{10}$ を小数点以下5桁の小数で表示してください．"
   ]
  },
  {
   "cell_type": "code",
   "execution_count": null,
   "metadata": {
    "id": "ayBpw7W1wsWh"
   },
   "outputs": [],
   "source": []
  },
  {
   "cell_type": "markdown",
   "metadata": {
    "id": "YUh7x1sixvkY"
   },
   "source": [
    "### 平均値"
   ]
  },
  {
   "cell_type": "markdown",
   "metadata": {
    "id": "VBx9j_Ojx4_e"
   },
   "source": [
    "5人の英語のテストの点数は28, 96, 40, 70, 52でした．このとき，5人の平均点を小数点以下1桁の値で出力してください．"
   ]
  },
  {
   "cell_type": "code",
   "execution_count": null,
   "metadata": {
    "id": "dMew_unzyFOb"
   },
   "outputs": [],
   "source": []
  },
  {
   "cell_type": "markdown",
   "metadata": {
    "id": "CGDl-7CNyF-z"
   },
   "source": [
    "### 標準偏差"
   ]
  },
  {
   "cell_type": "markdown",
   "metadata": {
    "id": "sqWK47F4yF-0"
   },
   "source": [
    "5人の英語のテストの点数は28, 96, 40, 70, 52でした．このとき，5人の標準偏差を小数点以下1桁の値で出力してください．"
   ]
  },
  {
   "cell_type": "code",
   "execution_count": null,
   "metadata": {
    "id": "7QuZxjJGyF-0"
   },
   "outputs": [],
   "source": []
  },
  {
   "cell_type": "markdown",
   "metadata": {
    "id": "28NuH1ciyfGp"
   },
   "source": [
    "### 欠損値を含むデータ"
   ]
  },
  {
   "cell_type": "markdown",
   "metadata": {
    "id": "j0nZvW0hyfGq"
   },
   "source": [
    "5人の地理のテストの点数は79, n/a, 85, 95, n/aでした（2名は未受験）．このとき，受験者の最高点を求めてください．"
   ]
  },
  {
   "cell_type": "code",
   "execution_count": null,
   "metadata": {
    "id": "yqQgZcVjyfGs"
   },
   "outputs": [],
   "source": []
  },
  {
   "cell_type": "markdown",
   "metadata": {
    "id": "2x-a0UIYz0f_"
   },
   "source": [
    "### データフレームの生成"
   ]
  },
  {
   "cell_type": "markdown",
   "metadata": {
    "id": "rwQo60lwz4Hf"
   },
   "source": [
    "以下のようにすると iris というデータセットを `iris_dataset` に読み込むことができます．"
   ]
  },
  {
   "cell_type": "code",
   "execution_count": null,
   "metadata": {
    "id": "JGV5JR2zzsDV"
   },
   "outputs": [],
   "source": [
    "from sklearn.datasets import load_iris\n",
    "iris_dataset = load_iris()"
   ]
  },
  {
   "cell_type": "markdown",
   "metadata": {
    "id": "xolsgmDc0fRS"
   },
   "source": [
    "このデータを列名が `feature_names` となるようにデータフレームに変換して，そのデータフレームを出力してください．"
   ]
  },
  {
   "cell_type": "code",
   "execution_count": null,
   "metadata": {
    "id": "RfWn92En0zb5"
   },
   "outputs": [],
   "source": []
  },
  {
   "cell_type": "markdown",
   "metadata": {
    "id": "Z6XqBx6T0z3V"
   },
   "source": [
    "### 統計量の計算"
   ]
  },
  {
   "cell_type": "markdown",
   "metadata": {
    "id": "edVQfOkB1deC"
   },
   "source": [
    "特徴量のうちで「sepal length (cm)」の平均値を pandas のメソッドを使って計算し，その値のみを出力してください．"
   ]
  },
  {
   "cell_type": "code",
   "execution_count": null,
   "metadata": {
    "id": "RLLMNq2y07jb"
   },
   "outputs": [],
   "source": []
  },
  {
   "cell_type": "markdown",
   "metadata": {
    "id": "g-ri2QXE2BIh"
   },
   "source": [
    "### 相関係数の計算"
   ]
  },
  {
   "cell_type": "markdown",
   "metadata": {
    "id": "c0Ad6TLd2BIj"
   },
   "source": [
    "各特徴量の相関係数を pandas のメソッドを使って計算し，その表（データフレーム）を出力してください．"
   ]
  },
  {
   "cell_type": "code",
   "execution_count": null,
   "metadata": {
    "id": "re-jK-_C2BIl"
   },
   "outputs": [],
   "source": []
  },
  {
   "cell_type": "markdown",
   "metadata": {
    "id": "wZd-4HiR2XNc"
   },
   "source": [
    "### 線形回帰係数の同定"
   ]
  },
  {
   "cell_type": "markdown",
   "metadata": {
    "id": "q2Ruc8MR30_C"
   },
   "source": [
    "特徴量「petal length (cm)」の値をそれ以外の特徴量のどれかひとつを利用し，線形回帰直線にて近似したいとき，上の相関係数の値から，どの特徴量を利用するのが最も良いでしょうか．そして，その特徴量を説明変数として線形回帰をしたときの，線形回帰係数の値を小数点以下3桁までの値で出力してください．"
   ]
  },
  {
   "cell_type": "code",
   "execution_count": null,
   "metadata": {
    "id": "WdiFaH6M2YTc"
   },
   "outputs": [],
   "source": []
  },
  {
   "cell_type": "markdown",
   "metadata": {
    "id": "Ue0kI7UD4q0C"
   },
   "source": [
    "### 線形回帰による値の予測"
   ]
  },
  {
   "cell_type": "markdown",
   "metadata": {
    "id": "-vz6XH_B4xXs"
   },
   "source": [
    "構築した線形回帰法によるモデルの入力値（説明変数値）が 0.23 であったとき，「petal length (cm)」の予測値を，小数点以下3桁までの値で出力してください．"
   ]
  },
  {
   "cell_type": "code",
   "execution_count": null,
   "metadata": {
    "id": "92efWF6r28C0"
   },
   "outputs": [],
   "source": []
  },
  {
   "cell_type": "markdown",
   "metadata": {
    "id": "99EgDjqQvhYy"
   },
   "source": [
    "```{note}\n",
    "終わりです．\n",
    "```"
   ]
  }
 ],
 "metadata": {
  "colab": {
   "provenance": [],
   "toc_visible": true
  },
  "kernelspec": {
   "display_name": "Python 3",
   "name": "python3"
  },
  "language_info": {
   "name": "python"
  }
 },
 "nbformat": 4,
 "nbformat_minor": 0
}